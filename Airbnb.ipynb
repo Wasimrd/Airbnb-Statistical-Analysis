{
 "cells": [
  {
   "cell_type": "code",
   "execution_count": 136,
   "id": "83c89118",
   "metadata": {},
   "outputs": [
    {
     "data": {
      "text/html": [
       "<div>\n",
       "<style scoped>\n",
       "    .dataframe tbody tr th:only-of-type {\n",
       "        vertical-align: middle;\n",
       "    }\n",
       "\n",
       "    .dataframe tbody tr th {\n",
       "        vertical-align: top;\n",
       "    }\n",
       "\n",
       "    .dataframe thead th {\n",
       "        text-align: right;\n",
       "    }\n",
       "</style>\n",
       "<table border=\"1\" class=\"dataframe\">\n",
       "  <thead>\n",
       "    <tr style=\"text-align: right;\">\n",
       "      <th></th>\n",
       "      <th>id</th>\n",
       "      <th>name</th>\n",
       "      <th>host_id</th>\n",
       "      <th>host_name</th>\n",
       "      <th>neighbourhood_group</th>\n",
       "      <th>neighbourhood</th>\n",
       "      <th>latitude</th>\n",
       "      <th>longitude</th>\n",
       "      <th>room_type</th>\n",
       "      <th>price</th>\n",
       "      <th>minimum_nights</th>\n",
       "      <th>number_of_reviews</th>\n",
       "      <th>last_review</th>\n",
       "      <th>reviews_per_month</th>\n",
       "      <th>calculated_host_listings_count</th>\n",
       "      <th>availability_365</th>\n",
       "      <th>number_of_reviews_ltm</th>\n",
       "      <th>license</th>\n",
       "    </tr>\n",
       "  </thead>\n",
       "  <tbody>\n",
       "    <tr>\n",
       "      <th>0</th>\n",
       "      <td>5121</td>\n",
       "      <td>Rental unit in Brooklyn · ★4.52 · 1 bedroom · ...</td>\n",
       "      <td>7356</td>\n",
       "      <td>Garon</td>\n",
       "      <td>Brooklyn</td>\n",
       "      <td>Bedford-Stuyvesant</td>\n",
       "      <td>40.68535</td>\n",
       "      <td>-73.95512</td>\n",
       "      <td>Private room</td>\n",
       "      <td>60</td>\n",
       "      <td>30</td>\n",
       "      <td>50</td>\n",
       "      <td>2019-12-02</td>\n",
       "      <td>0.29</td>\n",
       "      <td>2</td>\n",
       "      <td>0</td>\n",
       "      <td>0</td>\n",
       "      <td>NaN</td>\n",
       "    </tr>\n",
       "    <tr>\n",
       "      <th>1</th>\n",
       "      <td>2595</td>\n",
       "      <td>Rental unit in New York · ★4.68 · Studio · 1 b...</td>\n",
       "      <td>2845</td>\n",
       "      <td>Jennifer</td>\n",
       "      <td>Manhattan</td>\n",
       "      <td>Midtown</td>\n",
       "      <td>40.75356</td>\n",
       "      <td>-73.98559</td>\n",
       "      <td>Entire home/apt</td>\n",
       "      <td>240</td>\n",
       "      <td>30</td>\n",
       "      <td>49</td>\n",
       "      <td>2022-06-21</td>\n",
       "      <td>0.30</td>\n",
       "      <td>3</td>\n",
       "      <td>325</td>\n",
       "      <td>1</td>\n",
       "      <td>NaN</td>\n",
       "    </tr>\n",
       "    <tr>\n",
       "      <th>2</th>\n",
       "      <td>14991</td>\n",
       "      <td>Rental unit in New York · ★4.93 · 1 bedroom · ...</td>\n",
       "      <td>59023</td>\n",
       "      <td>Bianca</td>\n",
       "      <td>Manhattan</td>\n",
       "      <td>Lower East Side</td>\n",
       "      <td>40.72207</td>\n",
       "      <td>-73.98976</td>\n",
       "      <td>Private room</td>\n",
       "      <td>120</td>\n",
       "      <td>5</td>\n",
       "      <td>22</td>\n",
       "      <td>2023-05-14</td>\n",
       "      <td>0.14</td>\n",
       "      <td>1</td>\n",
       "      <td>268</td>\n",
       "      <td>3</td>\n",
       "      <td>NaN</td>\n",
       "    </tr>\n",
       "    <tr>\n",
       "      <th>3</th>\n",
       "      <td>5136</td>\n",
       "      <td>Rental unit in Brooklyn · ★5.0 · 2 bedrooms · ...</td>\n",
       "      <td>7378</td>\n",
       "      <td>Rebecca</td>\n",
       "      <td>Brooklyn</td>\n",
       "      <td>Sunset Park</td>\n",
       "      <td>40.66265</td>\n",
       "      <td>-73.99454</td>\n",
       "      <td>Entire home/apt</td>\n",
       "      <td>276</td>\n",
       "      <td>21</td>\n",
       "      <td>3</td>\n",
       "      <td>2022-08-10</td>\n",
       "      <td>0.03</td>\n",
       "      <td>1</td>\n",
       "      <td>275</td>\n",
       "      <td>1</td>\n",
       "      <td>NaN</td>\n",
       "    </tr>\n",
       "    <tr>\n",
       "      <th>4</th>\n",
       "      <td>59709</td>\n",
       "      <td>Rental unit in New York · ★4.77 · 2 bedrooms ·...</td>\n",
       "      <td>186084</td>\n",
       "      <td>Ricardo &amp; Ashlie</td>\n",
       "      <td>Manhattan</td>\n",
       "      <td>Chinatown</td>\n",
       "      <td>40.71780</td>\n",
       "      <td>-73.99320</td>\n",
       "      <td>Entire home/apt</td>\n",
       "      <td>325</td>\n",
       "      <td>7</td>\n",
       "      <td>69</td>\n",
       "      <td>2023-04-28</td>\n",
       "      <td>0.47</td>\n",
       "      <td>1</td>\n",
       "      <td>38</td>\n",
       "      <td>23</td>\n",
       "      <td>NaN</td>\n",
       "    </tr>\n",
       "  </tbody>\n",
       "</table>\n",
       "</div>"
      ],
      "text/plain": [
       "      id                                               name  host_id  \\\n",
       "0   5121  Rental unit in Brooklyn · ★4.52 · 1 bedroom · ...     7356   \n",
       "1   2595  Rental unit in New York · ★4.68 · Studio · 1 b...     2845   \n",
       "2  14991  Rental unit in New York · ★4.93 · 1 bedroom · ...    59023   \n",
       "3   5136  Rental unit in Brooklyn · ★5.0 · 2 bedrooms · ...     7378   \n",
       "4  59709  Rental unit in New York · ★4.77 · 2 bedrooms ·...   186084   \n",
       "\n",
       "          host_name neighbourhood_group       neighbourhood  latitude  \\\n",
       "0             Garon            Brooklyn  Bedford-Stuyvesant  40.68535   \n",
       "1          Jennifer           Manhattan             Midtown  40.75356   \n",
       "2            Bianca           Manhattan     Lower East Side  40.72207   \n",
       "3           Rebecca            Brooklyn         Sunset Park  40.66265   \n",
       "4  Ricardo & Ashlie           Manhattan           Chinatown  40.71780   \n",
       "\n",
       "   longitude        room_type  price  minimum_nights  number_of_reviews  \\\n",
       "0  -73.95512     Private room     60              30                 50   \n",
       "1  -73.98559  Entire home/apt    240              30                 49   \n",
       "2  -73.98976     Private room    120               5                 22   \n",
       "3  -73.99454  Entire home/apt    276              21                  3   \n",
       "4  -73.99320  Entire home/apt    325               7                 69   \n",
       "\n",
       "  last_review  reviews_per_month  calculated_host_listings_count  \\\n",
       "0  2019-12-02               0.29                               2   \n",
       "1  2022-06-21               0.30                               3   \n",
       "2  2023-05-14               0.14                               1   \n",
       "3  2022-08-10               0.03                               1   \n",
       "4  2023-04-28               0.47                               1   \n",
       "\n",
       "   availability_365  number_of_reviews_ltm  license  \n",
       "0                 0                      0      NaN  \n",
       "1               325                      1      NaN  \n",
       "2               268                      3      NaN  \n",
       "3               275                      1      NaN  \n",
       "4                38                     23      NaN  "
      ]
     },
     "execution_count": 136,
     "metadata": {},
     "output_type": "execute_result"
    }
   ],
   "source": [
    "import numpy as np\n",
    "import pandas as pd\n",
    "import matplotlib.pyplot as plt\n",
    "import seaborn as sns\n",
    "import plotly.express as px\n",
    "import plotly.graph_objects as go\n",
    "data=pd.read_csv('http://data.insideairbnb.com/united-states/ny/new-york-city/2023-06-05/visualisations/listings.csv')\n",
    "data.head(5)"
   ]
  },
  {
   "cell_type": "code",
   "execution_count": 137,
   "id": "9b9ae64a",
   "metadata": {},
   "outputs": [
    {
     "name": "stdout",
     "output_type": "stream",
     "text": [
      "<class 'pandas.core.frame.DataFrame'>\n",
      "RangeIndex: 43566 entries, 0 to 43565\n",
      "Data columns (total 18 columns):\n",
      " #   Column                          Non-Null Count  Dtype  \n",
      "---  ------                          --------------  -----  \n",
      " 0   id                              43566 non-null  int64  \n",
      " 1   name                            43566 non-null  object \n",
      " 2   host_id                         43566 non-null  int64  \n",
      " 3   host_name                       43561 non-null  object \n",
      " 4   neighbourhood_group             43566 non-null  object \n",
      " 5   neighbourhood                   43566 non-null  object \n",
      " 6   latitude                        43566 non-null  float64\n",
      " 7   longitude                       43566 non-null  float64\n",
      " 8   room_type                       43566 non-null  object \n",
      " 9   price                           43566 non-null  int64  \n",
      " 10  minimum_nights                  43566 non-null  int64  \n",
      " 11  number_of_reviews               43566 non-null  int64  \n",
      " 12  last_review                     33070 non-null  object \n",
      " 13  reviews_per_month               33070 non-null  float64\n",
      " 14  calculated_host_listings_count  43566 non-null  int64  \n",
      " 15  availability_365                43566 non-null  int64  \n",
      " 16  number_of_reviews_ltm           43566 non-null  int64  \n",
      " 17  license                         0 non-null      float64\n",
      "dtypes: float64(4), int64(8), object(6)\n",
      "memory usage: 6.0+ MB\n"
     ]
    }
   ],
   "source": [
    "data.info()"
   ]
  },
  {
   "cell_type": "code",
   "execution_count": 138,
   "id": "0e26c18d",
   "metadata": {},
   "outputs": [
    {
     "data": {
      "text/plain": [
       "(43566, 18)"
      ]
     },
     "execution_count": 138,
     "metadata": {},
     "output_type": "execute_result"
    }
   ],
   "source": [
    "data.shape"
   ]
  },
  {
   "cell_type": "code",
   "execution_count": 139,
   "id": "e65f496d",
   "metadata": {},
   "outputs": [
    {
     "data": {
      "text/plain": [
       "license                           100.00\n",
       "reviews_per_month                  24.09\n",
       "last_review                        24.09\n",
       "host_name                           0.01\n",
       "minimum_nights                      0.00\n",
       "number_of_reviews_ltm               0.00\n",
       "availability_365                    0.00\n",
       "calculated_host_listings_count      0.00\n",
       "number_of_reviews                   0.00\n",
       "id                                  0.00\n",
       "name                                0.00\n",
       "room_type                           0.00\n",
       "longitude                           0.00\n",
       "latitude                            0.00\n",
       "neighbourhood                       0.00\n",
       "neighbourhood_group                 0.00\n",
       "host_id                             0.00\n",
       "price                               0.00\n",
       "dtype: float64"
      ]
     },
     "execution_count": 139,
     "metadata": {},
     "output_type": "execute_result"
    }
   ],
   "source": [
    "(round(data.isnull().sum() / data.shape[0] * 100, 2)).sort_values(ascending=False)"
   ]
  },
  {
   "cell_type": "code",
   "execution_count": 140,
   "id": "a3792525",
   "metadata": {},
   "outputs": [
    {
     "data": {
      "text/plain": [
       "id                                    0\n",
       "name                                  0\n",
       "host_id                               0\n",
       "host_name                             5\n",
       "neighbourhood_group                   0\n",
       "neighbourhood                         0\n",
       "latitude                              0\n",
       "longitude                             0\n",
       "room_type                             0\n",
       "price                                 0\n",
       "minimum_nights                        0\n",
       "number_of_reviews                     0\n",
       "last_review                       10496\n",
       "reviews_per_month                 10496\n",
       "calculated_host_listings_count        0\n",
       "availability_365                      0\n",
       "number_of_reviews_ltm                 0\n",
       "license                           43566\n",
       "dtype: int64"
      ]
     },
     "execution_count": 140,
     "metadata": {},
     "output_type": "execute_result"
    }
   ],
   "source": [
    "data.isnull().sum()"
   ]
  },
  {
   "cell_type": "code",
   "execution_count": 141,
   "id": "0b291d5b",
   "metadata": {},
   "outputs": [
    {
     "data": {
      "text/plain": [
       "array([[<AxesSubplot:title={'center':'id'}>,\n",
       "        <AxesSubplot:title={'center':'host_id'}>,\n",
       "        <AxesSubplot:title={'center':'latitude'}>],\n",
       "       [<AxesSubplot:title={'center':'longitude'}>,\n",
       "        <AxesSubplot:title={'center':'price'}>,\n",
       "        <AxesSubplot:title={'center':'minimum_nights'}>],\n",
       "       [<AxesSubplot:title={'center':'number_of_reviews'}>,\n",
       "        <AxesSubplot:title={'center':'reviews_per_month'}>,\n",
       "        <AxesSubplot:title={'center':'calculated_host_listings_count'}>],\n",
       "       [<AxesSubplot:title={'center':'availability_365'}>,\n",
       "        <AxesSubplot:title={'center':'number_of_reviews_ltm'}>,\n",
       "        <AxesSubplot:title={'center':'license'}>]], dtype=object)"
      ]
     },
     "execution_count": 141,
     "metadata": {},
     "output_type": "execute_result"
    },
    {
     "data": {
      "image/png": "[encoded data removed]",
      "text/plain": [
       "<Figure size 1080x720 with 12 Axes>"
      ]
     },
     "metadata": {
      "needs_background": "light"
     },
     "output_type": "display_data"
    }
   ],
   "source": [
    "airbnb_pink = '#FF5A60'\n",
    "data.hist(bins=15,color=airbnb_pink,figsize=(15,10))"
   ]
  },
  {
   "cell_type": "code",
   "execution_count": 142,
   "id": "76babacf",
   "metadata": {},
   "outputs": [
    {
     "data": {
      "text/html": [
       "<div>\n",
       "<style scoped>\n",
       "    .dataframe tbody tr th:only-of-type {\n",
       "        vertical-align: middle;\n",
       "    }\n",
       "\n",
       "    .dataframe tbody tr th {\n",
       "        vertical-align: top;\n",
       "    }\n",
       "\n",
       "    .dataframe thead th {\n",
       "        text-align: right;\n",
       "    }\n",
       "</style>\n",
       "<table border=\"1\" class=\"dataframe\">\n",
       "  <thead>\n",
       "    <tr style=\"text-align: right;\">\n",
       "      <th></th>\n",
       "      <th>price</th>\n",
       "      <th>minimum_nights</th>\n",
       "      <th>number_of_reviews</th>\n",
       "      <th>reviews_per_month</th>\n",
       "      <th>calculated_host_listings_count</th>\n",
       "      <th>availability_365</th>\n",
       "    </tr>\n",
       "  </thead>\n",
       "  <tbody>\n",
       "    <tr>\n",
       "      <th>count</th>\n",
       "      <td>43566.000000</td>\n",
       "      <td>43566.000000</td>\n",
       "      <td>43566.000000</td>\n",
       "      <td>33070.000000</td>\n",
       "      <td>43566.000000</td>\n",
       "      <td>43566.000000</td>\n",
       "    </tr>\n",
       "    <tr>\n",
       "      <th>mean</th>\n",
       "      <td>225.216109</td>\n",
       "      <td>18.700271</td>\n",
       "      <td>26.368544</td>\n",
       "      <td>1.219748</td>\n",
       "      <td>30.934857</td>\n",
       "      <td>136.998256</td>\n",
       "    </tr>\n",
       "    <tr>\n",
       "      <th>std</th>\n",
       "      <td>818.738268</td>\n",
       "      <td>27.804388</td>\n",
       "      <td>57.740520</td>\n",
       "      <td>1.777084</td>\n",
       "      <td>99.108628</td>\n",
       "      <td>137.346191</td>\n",
       "    </tr>\n",
       "    <tr>\n",
       "      <th>min</th>\n",
       "      <td>0.000000</td>\n",
       "      <td>1.000000</td>\n",
       "      <td>0.000000</td>\n",
       "      <td>0.010000</td>\n",
       "      <td>1.000000</td>\n",
       "      <td>0.000000</td>\n",
       "    </tr>\n",
       "    <tr>\n",
       "      <th>25%</th>\n",
       "      <td>80.000000</td>\n",
       "      <td>2.000000</td>\n",
       "      <td>1.000000</td>\n",
       "      <td>0.130000</td>\n",
       "      <td>1.000000</td>\n",
       "      <td>0.000000</td>\n",
       "    </tr>\n",
       "    <tr>\n",
       "      <th>50%</th>\n",
       "      <td>136.000000</td>\n",
       "      <td>15.000000</td>\n",
       "      <td>5.000000</td>\n",
       "      <td>0.550000</td>\n",
       "      <td>1.000000</td>\n",
       "      <td>89.000000</td>\n",
       "    </tr>\n",
       "    <tr>\n",
       "      <th>75%</th>\n",
       "      <td>228.000000</td>\n",
       "      <td>30.000000</td>\n",
       "      <td>24.000000</td>\n",
       "      <td>1.800000</td>\n",
       "      <td>5.000000</td>\n",
       "      <td>278.000000</td>\n",
       "    </tr>\n",
       "    <tr>\n",
       "      <th>max</th>\n",
       "      <td>90120.000000</td>\n",
       "      <td>1250.000000</td>\n",
       "      <td>2024.000000</td>\n",
       "      <td>63.950000</td>\n",
       "      <td>569.000000</td>\n",
       "      <td>365.000000</td>\n",
       "    </tr>\n",
       "  </tbody>\n",
       "</table>\n",
       "</div>"
      ],
      "text/plain": [
       "              price  minimum_nights  number_of_reviews  reviews_per_month  \\\n",
       "count  43566.000000    43566.000000       43566.000000       33070.000000   \n",
       "mean     225.216109       18.700271          26.368544           1.219748   \n",
       "std      818.738268       27.804388          57.740520           1.777084   \n",
       "min        0.000000        1.000000           0.000000           0.010000   \n",
       "25%       80.000000        2.000000           1.000000           0.130000   \n",
       "50%      136.000000       15.000000           5.000000           0.550000   \n",
       "75%      228.000000       30.000000          24.000000           1.800000   \n",
       "max    90120.000000     1250.000000        2024.000000          63.950000   \n",
       "\n",
       "       calculated_host_listings_count  availability_365  \n",
       "count                    43566.000000      43566.000000  \n",
       "mean                        30.934857        136.998256  \n",
       "std                         99.108628        137.346191  \n",
       "min                          1.000000          0.000000  \n",
       "25%                          1.000000          0.000000  \n",
       "50%                          1.000000         89.000000  \n",
       "75%                          5.000000        278.000000  \n",
       "max                        569.000000        365.000000  "
      ]
     },
     "execution_count": 142,
     "metadata": {},
     "output_type": "execute_result"
    }
   ],
   "source": [
    "data[['price', 'minimum_nights', 'number_of_reviews', 'reviews_per_month',\n",
    "    'calculated_host_listings_count', 'availability_365']].describe()"
   ]
  },
  {
   "cell_type": "code",
   "execution_count": 143,
   "id": "aff102db",
   "metadata": {},
   "outputs": [
    {
     "data": {
      "image/png": "[encoded data removed]",
      "text/plain": [
       "<Figure size 1080x216 with 1 Axes>"
      ]
     },
     "metadata": {
      "needs_background": "light"
     },
     "output_type": "display_data"
    },
    {
     "name": "stdout",
     "output_type": "stream",
     "text": [
      "Values over $500.00: \n",
      "2610\n",
      "5.9909%\n",
      "\n",
      "\n",
      "Values equal to $0: \n",
      "16\n",
      "0.0367%\n"
     ]
    }
   ],
   "source": [
    "data['price'].plot(kind='box', vert=False, figsize=(15,3))\n",
    "plt.show()\n",
    "\n",
    "# Calculating the number and the percentage of prices that are equal to $0 and over $500.00\n",
    "print('Values over $500.00: ')\n",
    "print(len(data[data['price'] > 500]))\n",
    "print('{:.4f}%'.format((len(data[data['price'] > 500]) / data.shape[0]) * 100))\n",
    "print('\\n')\n",
    "print('Values equal to $0: ')\n",
    "print(len(data[data['price'] == 0]))\n",
    "print('{:.4f}%'.format((len(data[data['price'] == 0]) / data.shape[0]) * 100))"
   ]
  },
  {
   "cell_type": "code",
   "execution_count": 144,
   "id": "3504dd0d",
   "metadata": {},
   "outputs": [
    {
     "data": {
      "image/png": "[encoded data removed]",
      "text/plain": [
       "<Figure size 1080x216 with 1 Axes>"
      ]
     },
     "metadata": {
      "needs_background": "light"
     },
     "output_type": "display_data"
    },
    {
     "name": "stdout",
     "output_type": "stream",
     "text": [
      "Values over 30 nights: \n",
      "2035\n",
      "4.6711%\n"
     ]
    }
   ],
   "source": [
    "data['minimum_nights'].plot(kind='box', vert=False, figsize=(15,3))\n",
    "plt.show()\n",
    "\n",
    "# Calculating the number and the percentage of rooms with the minimum nights value over 30\n",
    "print('Values over 30 nights: ')\n",
    "print(len(data[data['minimum_nights'] > 30]))\n",
    "print('{:.4f}%'.format((len(data[data['minimum_nights'] > 30]) / data.shape[0]) * 100))"
   ]
  },
  {
   "cell_type": "code",
   "execution_count": 145,
   "id": "af55e65f",
   "metadata": {},
   "outputs": [
    {
     "data": {
      "text/plain": [
       "array([[<AxesSubplot:title={'center':'id'}>,\n",
       "        <AxesSubplot:title={'center':'host_id'}>,\n",
       "        <AxesSubplot:title={'center':'latitude'}>],\n",
       "       [<AxesSubplot:title={'center':'longitude'}>,\n",
       "        <AxesSubplot:title={'center':'price'}>,\n",
       "        <AxesSubplot:title={'center':'minimum_nights'}>],\n",
       "       [<AxesSubplot:title={'center':'number_of_reviews'}>,\n",
       "        <AxesSubplot:title={'center':'calculated_host_listings_count'}>,\n",
       "        <AxesSubplot:title={'center':'availability_365'}>],\n",
       "       [<AxesSubplot:title={'center':'number_of_reviews_ltm'}>,\n",
       "        <AxesSubplot:>, <AxesSubplot:>]], dtype=object)"
      ]
     },
     "execution_count": 145,
     "metadata": {},
     "output_type": "execute_result"
    },
    {
     "data": {
      "image/png": "[encoded data removed]",
      "text/plain": [
       "<Figure size 1080x720 with 12 Axes>"
      ]
     },
     "metadata": {
      "needs_background": "light"
     },
     "output_type": "display_data"
    }
   ],
   "source": [
    "new_data = data[(data['price'] <= 500) & (data['price'] > 0) & (data['minimum_nights'] <= 30)].copy()\n",
    "\n",
    "# Droping the columns\n",
    "new_data.drop(['reviews_per_month', 'last_review','license'], axis=1, inplace=True)\n",
    "new_data.reset_index(drop=True, inplace=True)\n",
    "\n",
    "# Plotting the histograms againd\n",
    "#new_data.hist(bins=15, figsize=(15,10))\n",
    "\n",
    "airbnb_pink = '#FF5A60'\n",
    "\n",
    "# Create the histogram with 15 bins and figsize (15, 10)\n",
    "new_data.hist(bins=15,color=airbnb_pink,figsize=(15,10))\n",
    "\n",
    "\n"
   ]
  },
  {
   "cell_type": "code",
   "execution_count": 146,
   "id": "3583a8c3",
   "metadata": {},
   "outputs": [
    {
     "data": {
      "text/html": [
       "<div>\n",
       "<style scoped>\n",
       "    .dataframe tbody tr th:only-of-type {\n",
       "        vertical-align: middle;\n",
       "    }\n",
       "\n",
       "    .dataframe tbody tr th {\n",
       "        vertical-align: top;\n",
       "    }\n",
       "\n",
       "    .dataframe thead th {\n",
       "        text-align: right;\n",
       "    }\n",
       "</style>\n",
       "<table border=\"1\" class=\"dataframe\">\n",
       "  <thead>\n",
       "    <tr style=\"text-align: right;\">\n",
       "      <th></th>\n",
       "      <th>price</th>\n",
       "      <th>minimum_nights</th>\n",
       "      <th>number_of_reviews</th>\n",
       "      <th>calculated_host_listings_count</th>\n",
       "      <th>availability_365</th>\n",
       "    </tr>\n",
       "  </thead>\n",
       "  <tbody>\n",
       "    <tr>\n",
       "      <th>price</th>\n",
       "      <td>1.000000</td>\n",
       "      <td>-0.179047</td>\n",
       "      <td>0.014140</td>\n",
       "      <td>-0.042533</td>\n",
       "      <td>0.133550</td>\n",
       "    </tr>\n",
       "    <tr>\n",
       "      <th>minimum_nights</th>\n",
       "      <td>-0.179047</td>\n",
       "      <td>1.000000</td>\n",
       "      <td>-0.250151</td>\n",
       "      <td>0.186136</td>\n",
       "      <td>-0.195033</td>\n",
       "    </tr>\n",
       "    <tr>\n",
       "      <th>number_of_reviews</th>\n",
       "      <td>0.014140</td>\n",
       "      <td>-0.250151</td>\n",
       "      <td>1.000000</td>\n",
       "      <td>-0.104890</td>\n",
       "      <td>0.069557</td>\n",
       "    </tr>\n",
       "    <tr>\n",
       "      <th>calculated_host_listings_count</th>\n",
       "      <td>-0.042533</td>\n",
       "      <td>0.186136</td>\n",
       "      <td>-0.104890</td>\n",
       "      <td>1.000000</td>\n",
       "      <td>0.055077</td>\n",
       "    </tr>\n",
       "    <tr>\n",
       "      <th>availability_365</th>\n",
       "      <td>0.133550</td>\n",
       "      <td>-0.195033</td>\n",
       "      <td>0.069557</td>\n",
       "      <td>0.055077</td>\n",
       "      <td>1.000000</td>\n",
       "    </tr>\n",
       "  </tbody>\n",
       "</table>\n",
       "</div>"
      ],
      "text/plain": [
       "                                   price  minimum_nights  number_of_reviews  \\\n",
       "price                           1.000000       -0.179047           0.014140   \n",
       "minimum_nights                 -0.179047        1.000000          -0.250151   \n",
       "number_of_reviews               0.014140       -0.250151           1.000000   \n",
       "calculated_host_listings_count -0.042533        0.186136          -0.104890   \n",
       "availability_365                0.133550       -0.195033           0.069557   \n",
       "\n",
       "                                calculated_host_listings_count  \\\n",
       "price                                                -0.042533   \n",
       "minimum_nights                                        0.186136   \n",
       "number_of_reviews                                    -0.104890   \n",
       "calculated_host_listings_count                        1.000000   \n",
       "availability_365                                      0.055077   \n",
       "\n",
       "                                availability_365  \n",
       "price                                   0.133550  \n",
       "minimum_nights                         -0.195033  \n",
       "number_of_reviews                       0.069557  \n",
       "calculated_host_listings_count          0.055077  \n",
       "availability_365                        1.000000  "
      ]
     },
     "execution_count": 146,
     "metadata": {},
     "output_type": "execute_result"
    }
   ],
   "source": [
    "corr = new_data[['price', 'minimum_nights', 'number_of_reviews', 'calculated_host_listings_count', 'availability_365']].corr()\n",
    "corr"
   ]
  },
  {
   "cell_type": "code",
   "execution_count": 147,
   "id": "5c16d4ef",
   "metadata": {},
   "outputs": [
    {
     "data": {
      "image/png": "[encoded data removed]",
      "text/plain": [
       "<Figure size 432x288 with 2 Axes>"
      ]
     },
     "metadata": {
      "needs_background": "light"
     },
     "output_type": "display_data"
    }
   ],
   "source": [
    "sns.heatmap(corr, cmap='RdBu', fmt='.2f', square=True, linecolor='white', annot=True);"
   ]
  },
  {
   "cell_type": "code",
   "execution_count": 148,
   "id": "206401c6",
   "metadata": {},
   "outputs": [
    {
     "name": "stdout",
     "output_type": "stream",
     "text": [
      "Entire home/apt    21487\n",
      "Private room       16955\n",
      "Shared room          551\n",
      "Hotel room            77\n",
      "Name: room_type, dtype: int64\n",
      "\n",
      "\n",
      "Entire home/apt    55.00\n",
      "Private room       43.40\n",
      "Shared room         1.41\n",
      "Hotel room          0.20\n",
      "Name: room_type, dtype: float64\n",
      "\n",
      "\n"
     ]
    },
    {
     "name": "stderr",
     "output_type": "stream",
     "text": [
      "/opt/anaconda3/lib/python3.9/site-packages/seaborn/_decorators.py:36: FutureWarning:\n",
      "\n",
      "Pass the following variables as keyword args: x, y. From version 0.12, the only valid positional argument will be `data`, and passing other arguments without an explicit keyword will result in an error or misinterpretation.\n",
      "\n"
     ]
    },
    {
     "data": {
      "image/png": "[encoded data removed]",
      "text/plain": [
       "<Figure size 432x288 with 1 Axes>"
      ]
     },
     "metadata": {
      "needs_background": "light"
     },
     "output_type": "display_data"
    }
   ],
   "source": [
    "room_type = new_data['room_type'].value_counts().sort_values(ascending=False)\n",
    "\n",
    "# Calculating the percentage of rooms for each room type\n",
    "room_type_pct = round(new_data['room_type'].value_counts(normalize=True)  * 100, 2)\n",
    "\n",
    "# Displaying the results\n",
    "print(room_type)\n",
    "print('\\n')\n",
    "print(room_type_pct)\n",
    "print('\\n')\n",
    "\n",
    "# Plotting the percentage of rooms for each room type\n",
    "airbnb_pink = '#FF5A60'\n",
    "ax = sns.barplot(room_type_pct.index, room_type_pct,color=airbnb_pink) \n",
    "ax.set_title('Room Types Percentage')\n",
    "ax.tick_params(bottom=False, top=False, left=False, right=False);\n",
    "ax.set_ylabel('%', fontsize=12)\n",
    "for kew, spine in ax.spines.items():\n",
    "    spine.set_visible(False)"
   ]
  },
  {
   "cell_type": "code",
   "execution_count": 149,
   "id": "701650a5",
   "metadata": {},
   "outputs": [
    {
     "name": "stdout",
     "output_type": "stream",
     "text": [
      "Entire home/apt    21487\n",
      "Private room       16955\n",
      "Shared room          551\n",
      "Hotel room            77\n",
      "Name: room_type, dtype: int64\n",
      "\n",
      "\n",
      "Entire home/apt    55.00\n",
      "Private room       43.40\n",
      "Shared room         1.41\n",
      "Hotel room          0.20\n",
      "Name: room_type, dtype: float64\n",
      "\n",
      "\n"
     ]
    },
    {
     "name": "stderr",
     "output_type": "stream",
     "text": [
      "/opt/anaconda3/lib/python3.9/site-packages/seaborn/_decorators.py:36: FutureWarning:\n",
      "\n",
      "Pass the following variables as keyword args: x, y. From version 0.12, the only valid positional argument will be `data`, and passing other arguments without an explicit keyword will result in an error or misinterpretation.\n",
      "\n"
     ]
    },
    {
     "data": {
      "image/png": "[encoded data removed]",
      "text/plain": [
       "<Figure size 432x288 with 1 Axes>"
      ]
     },
     "metadata": {
      "needs_background": "light"
     },
     "output_type": "display_data"
    }
   ],
   "source": [
    "room_type = new_data['room_type'].value_counts().sort_values(ascending=False)\n",
    "\n",
    "# Calculating the percentage of rooms for each room type\n",
    "room_type_pct = round(new_data['room_type'].value_counts(normalize=True) * 100, 2)\n",
    "\n",
    "# Displaying the results\n",
    "print(room_type)\n",
    "print('\\n')\n",
    "print(room_type_pct)\n",
    "print('\\n')\n",
    "\n",
    "# Plotting the percentage of rooms for each room type\n",
    "airbnb_pink = '#FF5A60'\n",
    "ax = sns.barplot(room_type_pct.index, room_type_pct, color=airbnb_pink)\n",
    "ax.set_title('Room Types Percentage')\n",
    "ax.tick_params(bottom=False, top=False, left=False, right=False);\n",
    "ax.set_ylabel('%', fontsize=12)\n",
    "for kew, spine in ax.spines.items():\n",
    "    spine.set_visible(False)\n",
    "\n",
    "# Adding percentage labels to the bars\n",
    "for index, value in enumerate(room_type_pct):\n",
    "    ax.text(index, value + 1, str(value) + '%', ha='center', va='bottom', fontsize=10)\n",
    "\n",
    "plt.show()\n"
   ]
  },
  {
   "cell_type": "code",
   "execution_count": 150,
   "id": "a003c8a1",
   "metadata": {},
   "outputs": [
    {
     "name": "stdout",
     "output_type": "stream",
     "text": [
      "room_type\n",
      "Entire home/apt    16.19\n",
      "Private room       15.99\n",
      "Shared room        15.27\n",
      "Hotel room          5.96\n",
      "Name: minimum_nights, dtype: float64\n",
      "\n",
      "\n"
     ]
    },
    {
     "name": "stderr",
     "output_type": "stream",
     "text": [
      "/opt/anaconda3/lib/python3.9/site-packages/seaborn/_decorators.py:36: FutureWarning:\n",
      "\n",
      "Pass the following variables as keyword args: x, y. From version 0.12, the only valid positional argument will be `data`, and passing other arguments without an explicit keyword will result in an error or misinterpretation.\n",
      "\n"
     ]
    },
    {
     "data": {
      "image/png": "[encoded data removed]",
      "text/plain": [
       "<Figure size 432x288 with 1 Axes>"
      ]
     },
     "metadata": {
      "needs_background": "light"
     },
     "output_type": "display_data"
    }
   ],
   "source": [
    "room_type_nights = round(new_data.groupby('room_type').minimum_nights.mean(), 2).sort_values(ascending=False)\n",
    "\n",
    "# Displaying the results\n",
    "print(room_type_nights)\n",
    "print('\\n')\n",
    "\n",
    "# Plotting the average minimum nights per room type\n",
    "airbnb_pink = '#FF5A60'\n",
    "ax = sns.barplot(room_type_nights.index, room_type_nights, color=airbnb_pink)\n",
    "ax.set_title('Average Minimum Nights per Room Type')\n",
    "ax.tick_params(bottom=False, top=False, left=False, right=False)\n",
    "ax.set_ylabel('Minimum Nights', fontsize=12)\n",
    "for kew, spine in ax.spines.items():\n",
    "    spine.set_visible(False)\n",
    "\n",
    "# Adding minimum nights labels above the bars\n",
    "for index, value in enumerate(room_type_nights):\n",
    "    ax.text(index, value + 0.1, str(value), ha='center', va='bottom', fontsize=10)\n",
    "\n",
    "plt.show()\n"
   ]
  },
  {
   "cell_type": "code",
   "execution_count": 151,
   "id": "89966160",
   "metadata": {},
   "outputs": [
    {
     "name": "stdout",
     "output_type": "stream",
     "text": [
      "neighbourhood_group\n",
      "Manhattan        192.24\n",
      "Brooklyn         141.26\n",
      "Staten Island    122.06\n",
      "Queens           118.05\n",
      "Bronx            112.32\n",
      "Name: price, dtype: float64\n",
      "\n",
      "\n"
     ]
    },
    {
     "name": "stderr",
     "output_type": "stream",
     "text": [
      "/opt/anaconda3/lib/python3.9/site-packages/seaborn/_decorators.py:36: FutureWarning:\n",
      "\n",
      "Pass the following variables as keyword args: x, y. From version 0.12, the only valid positional argument will be `data`, and passing other arguments without an explicit keyword will result in an error or misinterpretation.\n",
      "\n"
     ]
    },
    {
     "data": {
      "image/png": "[encoded data removed]",
      "text/plain": [
       "<Figure size 432x288 with 1 Axes>"
      ]
     },
     "metadata": {
      "needs_background": "light"
     },
     "output_type": "display_data"
    }
   ],
   "source": [
    "price_region = round(new_data.groupby('neighbourhood_group').price.mean().sort_values(ascending=False), 2)\n",
    "\n",
    "# Displaying the results\n",
    "print(price_region)\n",
    "print('\\n')\n",
    "\n",
    "# Plotting the average price per region\n",
    "airbnb_pink = '#FF5A60'\n",
    "colors = [airbnb_pink]\n",
    "\n",
    "ax = sns.barplot(price_region.index, price_region, palette=colors)\n",
    "ax.set_title('Average Price per Region')\n",
    "ax.tick_params(bottom=False, top=False, left=False, right=False);\n",
    "ax.set_ylabel('$', fontsize=12)\n",
    "ax.set_xlabel('')\n",
    "for kew, spine in ax.spines.items():\n",
    "    spine.set_visible(False)\n",
    "for index, value in enumerate(price_region):\n",
    "    ax.text(index, value + 0.1, str(value), ha='center', va='bottom', fontsize=10)\n",
    "\n",
    "plt.show()"
   ]
  },
  {
   "cell_type": "code",
   "execution_count": 152,
   "id": "2351e31c",
   "metadata": {},
   "outputs": [
    {
     "data": {
      "application/vnd.plotly.v1+json": {
       "config": {
        "plotlyServerURL": "https://plot.ly"
       },
       "data": [
        {
         "hoverinfo": "none",
         "marker": {
          "color": "rgb(255, 90, 95)"
         },
         "showlegend": false,
         "text": [
          "<b>15206</b> rooms<br>(38.92%)",
          "<b>15090</b> rooms<br>(38.62%)",
          "<b>6698</b> rooms<br>(17.14%)",
          "<b>1673</b> rooms<br>(4.28%)",
          "<b>403</b> rooms<br>(1.03%)"
         ],
         "textposition": "inside",
         "type": "bar",
         "x": [
          "Brooklyn",
          "Manhattan",
          "Queens",
          "Bronx",
          "Staten Island"
         ],
         "y": [
          15206,
          15090,
          6698,
          1673,
          403
         ]
        }
       ],
       "layout": {
        "margin": {
         "b": 60,
         "l": 100,
         "r": 20,
         "t": 110
        },
        "paper_bgcolor": "white",
        "plot_bgcolor": "white",
        "template": {
         "data": {
          "bar": [
           {
            "error_x": {
             "color": "#2a3f5f"
            },
            "error_y": {
             "color": "#2a3f5f"
            },
            "marker": {
             "line": {
              "color": "#E5ECF6",
              "width": 0.5
             },
             "pattern": {
              "fillmode": "overlay",
              "size": 10,
              "solidity": 0.2
             }
            },
            "type": "bar"
           }
          ],
          "barpolar": [
           {
            "marker": {
             "line": {
              "color": "#E5ECF6",
              "width": 0.5
             },
             "pattern": {
              "fillmode": "overlay",
              "size": 10,
              "solidity": 0.2
             }
            },
            "type": "barpolar"
           }
          ],
          "carpet": [
           {
            "aaxis": {
             "endlinecolor": "#2a3f5f",
             "gridcolor": "white",
             "linecolor": "white",
             "minorgridcolor": "white",
             "startlinecolor": "#2a3f5f"
            },
            "baxis": {
             "endlinecolor": "#2a3f5f",
             "gridcolor": "white",
             "linecolor": "white",
             "minorgridcolor": "white",
             "startlinecolor": "#2a3f5f"
            },
            "type": "carpet"
           }
          ],
          "choropleth": [
           {
            "colorbar": {
             "outlinewidth": 0,
             "ticks": ""
            },
            "type": "choropleth"
           }
          ],
          "contour": [
           {
            "colorbar": {
             "outlinewidth": 0,
             "ticks": ""
            },
            "colorscale": [
             [
              0,
              "#0d0887"
             ],
             [
              0.1111111111111111,
              "#46039f"
             ],
             [
              0.2222222222222222,
              "#7201a8"
             ],
             [
              0.3333333333333333,
              "#9c179e"
             ],
             [
              0.4444444444444444,
              "#bd3786"
             ],
             [
              0.5555555555555556,
              "#d8576b"
             ],
             [
              0.6666666666666666,
              "#ed7953"
             ],
             [
              0.7777777777777778,
              "#fb9f3a"
             ],
             [
              0.8888888888888888,
              "#fdca26"
             ],
             [
              1,
              "#f0f921"
             ]
            ],
            "type": "contour"
           }
          ],
          "contourcarpet": [
           {
            "colorbar": {
             "outlinewidth": 0,
             "ticks": ""
            },
            "type": "contourcarpet"
           }
          ],
          "heatmap": [
           {
            "colorbar": {
             "outlinewidth": 0,
             "ticks": ""
            },
            "colorscale": [
             [
              0,
              "#0d0887"
             ],
             [
              0.1111111111111111,
              "#46039f"
             ],
             [
              0.2222222222222222,
              "#7201a8"
             ],
             [
              0.3333333333333333,
              "#9c179e"
             ],
             [
              0.4444444444444444,
              "#bd3786"
             ],
             [
              0.5555555555555556,
              "#d8576b"
             ],
             [
              0.6666666666666666,
              "#ed7953"
             ],
             [
              0.7777777777777778,
              "#fb9f3a"
             ],
             [
              0.8888888888888888,
              "#fdca26"
             ],
             [
              1,
              "#f0f921"
             ]
            ],
            "type": "heatmap"
           }
          ],
          "heatmapgl": [
           {
            "colorbar": {
             "outlinewidth": 0,
             "ticks": ""
            },
            "colorscale": [
             [
              0,
              "#0d0887"
             ],
             [
              0.1111111111111111,
              "#46039f"
             ],
             [
              0.2222222222222222,
              "#7201a8"
             ],
             [
              0.3333333333333333,
              "#9c179e"
             ],
             [
              0.4444444444444444,
              "#bd3786"
             ],
             [
              0.5555555555555556,
              "#d8576b"
             ],
             [
              0.6666666666666666,
              "#ed7953"
             ],
             [
              0.7777777777777778,
              "#fb9f3a"
             ],
             [
              0.8888888888888888,
              "#fdca26"
             ],
             [
              1,
              "#f0f921"
             ]
            ],
            "type": "heatmapgl"
           }
          ],
          "histogram": [
           {
            "marker": {
             "pattern": {
              "fillmode": "overlay",
              "size": 10,
              "solidity": 0.2
             }
            },
            "type": "histogram"
           }
          ],
          "histogram2d": [
           {
            "colorbar": {
             "outlinewidth": 0,
             "ticks": ""
            },
            "colorscale": [
             [
              0,
              "#0d0887"
             ],
             [
              0.1111111111111111,
              "#46039f"
             ],
             [
              0.2222222222222222,
              "#7201a8"
             ],
             [
              0.3333333333333333,
              "#9c179e"
             ],
             [
              0.4444444444444444,
              "#bd3786"
             ],
             [
              0.5555555555555556,
              "#d8576b"
             ],
             [
              0.6666666666666666,
              "#ed7953"
             ],
             [
              0.7777777777777778,
              "#fb9f3a"
             ],
             [
              0.8888888888888888,
              "#fdca26"
             ],
             [
              1,
              "#f0f921"
             ]
            ],
            "type": "histogram2d"
           }
          ],
          "histogram2dcontour": [
           {
            "colorbar": {
             "outlinewidth": 0,
             "ticks": ""
            },
            "colorscale": [
             [
              0,
              "#0d0887"
             ],
             [
              0.1111111111111111,
              "#46039f"
             ],
             [
              0.2222222222222222,
              "#7201a8"
             ],
             [
              0.3333333333333333,
              "#9c179e"
             ],
             [
              0.4444444444444444,
              "#bd3786"
             ],
             [
              0.5555555555555556,
              "#d8576b"
             ],
             [
              0.6666666666666666,
              "#ed7953"
             ],
             [
              0.7777777777777778,
              "#fb9f3a"
             ],
             [
              0.8888888888888888,
              "#fdca26"
             ],
             [
              1,
              "#f0f921"
             ]
            ],
            "type": "histogram2dcontour"
           }
          ],
          "mesh3d": [
           {
            "colorbar": {
             "outlinewidth": 0,
             "ticks": ""
            },
            "type": "mesh3d"
           }
          ],
          "parcoords": [
           {
            "line": {
             "colorbar": {
              "outlinewidth": 0,
              "ticks": ""
             }
            },
            "type": "parcoords"
           }
          ],
          "pie": [
           {
            "automargin": true,
            "type": "pie"
           }
          ],
          "scatter": [
           {
            "fillpattern": {
             "fillmode": "overlay",
             "size": 10,
             "solidity": 0.2
            },
            "type": "scatter"
           }
          ],
          "scatter3d": [
           {
            "line": {
             "colorbar": {
              "outlinewidth": 0,
              "ticks": ""
             }
            },
            "marker": {
             "colorbar": {
              "outlinewidth": 0,
              "ticks": ""
             }
            },
            "type": "scatter3d"
           }
          ],
          "scattercarpet": [
           {
            "marker": {
             "colorbar": {
              "outlinewidth": 0,
              "ticks": ""
             }
            },
            "type": "scattercarpet"
           }
          ],
          "scattergeo": [
           {
            "marker": {
             "colorbar": {
              "outlinewidth": 0,
              "ticks": ""
             }
            },
            "type": "scattergeo"
           }
          ],
          "scattergl": [
           {
            "marker": {
             "colorbar": {
              "outlinewidth": 0,
              "ticks": ""
             }
            },
            "type": "scattergl"
           }
          ],
          "scattermapbox": [
           {
            "marker": {
             "colorbar": {
              "outlinewidth": 0,
              "ticks": ""
             }
            },
            "type": "scattermapbox"
           }
          ],
          "scatterpolar": [
           {
            "marker": {
             "colorbar": {
              "outlinewidth": 0,
              "ticks": ""
             }
            },
            "type": "scatterpolar"
           }
          ],
          "scatterpolargl": [
           {
            "marker": {
             "colorbar": {
              "outlinewidth": 0,
              "ticks": ""
             }
            },
            "type": "scatterpolargl"
           }
          ],
          "scatterternary": [
           {
            "marker": {
             "colorbar": {
              "outlinewidth": 0,
              "ticks": ""
             }
            },
            "type": "scatterternary"
           }
          ],
          "surface": [
           {
            "colorbar": {
             "outlinewidth": 0,
             "ticks": ""
            },
            "colorscale": [
             [
              0,
              "#0d0887"
             ],
             [
              0.1111111111111111,
              "#46039f"
             ],
             [
              0.2222222222222222,
              "#7201a8"
             ],
             [
              0.3333333333333333,
              "#9c179e"
             ],
             [
              0.4444444444444444,
              "#bd3786"
             ],
             [
              0.5555555555555556,
              "#d8576b"
             ],
             [
              0.6666666666666666,
              "#ed7953"
             ],
             [
              0.7777777777777778,
              "#fb9f3a"
             ],
             [
              0.8888888888888888,
              "#fdca26"
             ],
             [
              1,
              "#f0f921"
             ]
            ],
            "type": "surface"
           }
          ],
          "table": [
           {
            "cells": {
             "fill": {
              "color": "#EBF0F8"
             },
             "line": {
              "color": "white"
             }
            },
            "header": {
             "fill": {
              "color": "#C8D4E3"
             },
             "line": {
              "color": "white"
             }
            },
            "type": "table"
           }
          ]
         },
         "layout": {
          "annotationdefaults": {
           "arrowcolor": "#2a3f5f",
           "arrowhead": 0,
           "arrowwidth": 1
          },
          "autotypenumbers": "strict",
          "coloraxis": {
           "colorbar": {
            "outlinewidth": 0,
            "ticks": ""
           }
          },
          "colorscale": {
           "diverging": [
            [
             0,
             "#8e0152"
            ],
            [
             0.1,
             "#c51b7d"
            ],
            [
             0.2,
             "#de77ae"
            ],
            [
             0.3,
             "#f1b6da"
            ],
            [
             0.4,
             "#fde0ef"
            ],
            [
             0.5,
             "#f7f7f7"
            ],
            [
             0.6,
             "#e6f5d0"
            ],
            [
             0.7,
             "#b8e186"
            ],
            [
             0.8,
             "#7fbc41"
            ],
            [
             0.9,
             "#4d9221"
            ],
            [
             1,
             "#276419"
            ]
           ],
           "sequential": [
            [
             0,
             "#0d0887"
            ],
            [
             0.1111111111111111,
             "#46039f"
            ],
            [
             0.2222222222222222,
             "#7201a8"
            ],
            [
             0.3333333333333333,
             "#9c179e"
            ],
            [
             0.4444444444444444,
             "#bd3786"
            ],
            [
             0.5555555555555556,
             "#d8576b"
            ],
            [
             0.6666666666666666,
             "#ed7953"
            ],
            [
             0.7777777777777778,
             "#fb9f3a"
            ],
            [
             0.8888888888888888,
             "#fdca26"
            ],
            [
             1,
             "#f0f921"
            ]
           ],
           "sequentialminus": [
            [
             0,
             "#0d0887"
            ],
            [
             0.1111111111111111,
             "#46039f"
            ],
            [
             0.2222222222222222,
             "#7201a8"
            ],
            [
             0.3333333333333333,
             "#9c179e"
            ],
            [
             0.4444444444444444,
             "#bd3786"
            ],
            [
             0.5555555555555556,
             "#d8576b"
            ],
            [
             0.6666666666666666,
             "#ed7953"
            ],
            [
             0.7777777777777778,
             "#fb9f3a"
            ],
            [
             0.8888888888888888,
             "#fdca26"
            ],
            [
             1,
             "#f0f921"
            ]
           ]
          },
          "colorway": [
           "#636efa",
           "#EF553B",
           "#00cc96",
           "#ab63fa",
           "#FFA15A",
           "#19d3f3",
           "#FF6692",
           "#B6E880",
           "#FF97FF",
           "#FECB52"
          ],
          "font": {
           "color": "#2a3f5f"
          },
          "geo": {
           "bgcolor": "white",
           "lakecolor": "white",
           "landcolor": "#E5ECF6",
           "showlakes": true,
           "showland": true,
           "subunitcolor": "white"
          },
          "hoverlabel": {
           "align": "left"
          },
          "hovermode": "closest",
          "mapbox": {
           "style": "light"
          },
          "paper_bgcolor": "white",
          "plot_bgcolor": "#E5ECF6",
          "polar": {
           "angularaxis": {
            "gridcolor": "white",
            "linecolor": "white",
            "ticks": ""
           },
           "bgcolor": "#E5ECF6",
           "radialaxis": {
            "gridcolor": "white",
            "linecolor": "white",
            "ticks": ""
           }
          },
          "scene": {
           "xaxis": {
            "backgroundcolor": "#E5ECF6",
            "gridcolor": "white",
            "gridwidth": 2,
            "linecolor": "white",
            "showbackground": true,
            "ticks": "",
            "zerolinecolor": "white"
           },
           "yaxis": {
            "backgroundcolor": "#E5ECF6",
            "gridcolor": "white",
            "gridwidth": 2,
            "linecolor": "white",
            "showbackground": true,
            "ticks": "",
            "zerolinecolor": "white"
           },
           "zaxis": {
            "backgroundcolor": "#E5ECF6",
            "gridcolor": "white",
            "gridwidth": 2,
            "linecolor": "white",
            "showbackground": true,
            "ticks": "",
            "zerolinecolor": "white"
           }
          },
          "shapedefaults": {
           "line": {
            "color": "#2a3f5f"
           }
          },
          "ternary": {
           "aaxis": {
            "gridcolor": "white",
            "linecolor": "white",
            "ticks": ""
           },
           "baxis": {
            "gridcolor": "white",
            "linecolor": "white",
            "ticks": ""
           },
           "bgcolor": "#E5ECF6",
           "caxis": {
            "gridcolor": "white",
            "linecolor": "white",
            "ticks": ""
           }
          },
          "title": {
           "x": 0.05
          },
          "xaxis": {
           "automargin": true,
           "gridcolor": "white",
           "linecolor": "white",
           "ticks": "",
           "title": {
            "standoff": 15
           },
           "zerolinecolor": "white",
           "zerolinewidth": 2
          },
          "yaxis": {
           "automargin": true,
           "gridcolor": "white",
           "linecolor": "white",
           "ticks": "",
           "title": {
            "standoff": 15
           },
           "zerolinecolor": "white",
           "zerolinewidth": 2
          }
         }
        },
        "title": {
         "text": "Total Number of Rooms per Region"
        },
        "xaxis": {
         "showgrid": false,
         "tickangle": -45,
         "tickfont": {
          "color": "black",
          "size": 12
         },
         "title": {
          "text": ""
         }
        },
        "yaxis": {
         "gridcolor": "lightgray",
         "range": [
          0,
          18247.2
         ],
         "showgrid": true,
         "tickfont": {
          "color": "black",
          "size": 12
         },
         "tickprefix": "",
         "ticksuffix": " rooms",
         "title": {
          "text": "Count"
         },
         "zeroline": false
        }
       }
      },
      "text/html": [
       "<div>                            <div id=\"3a742ab6-1473-4061-aa5f-a0814aa743c6\" class=\"plotly-graph-div\" style=\"height:525px; width:100%;\"></div>            <script type=\"text/javascript\">                require([\"plotly\"], function(Plotly) {                    window.PLOTLYENV=window.PLOTLYENV || {};                                    if (document.getElementById(\"3a742ab6-1473-4061-aa5f-a0814aa743c6\")) {                    Plotly.newPlot(                        \"3a742ab6-1473-4061-aa5f-a0814aa743c6\",                        [{\"hoverinfo\":\"none\",\"marker\":{\"color\":\"rgb(255, 90, 95)\"},\"showlegend\":false,\"text\":[\"\\u003cb\\u003e15206\\u003c\\u002fb\\u003e rooms\\u003cbr\\u003e(38.92%)\",\"\\u003cb\\u003e15090\\u003c\\u002fb\\u003e rooms\\u003cbr\\u003e(38.62%)\",\"\\u003cb\\u003e6698\\u003c\\u002fb\\u003e rooms\\u003cbr\\u003e(17.14%)\",\"\\u003cb\\u003e1673\\u003c\\u002fb\\u003e rooms\\u003cbr\\u003e(4.28%)\",\"\\u003cb\\u003e403\\u003c\\u002fb\\u003e rooms\\u003cbr\\u003e(1.03%)\"],\"textposition\":\"inside\",\"x\":[\"Brooklyn\",\"Manhattan\",\"Queens\",\"Bronx\",\"Staten Island\"],\"y\":[15206,15090,6698,1673,403],\"type\":\"bar\"}],                        {\"template\":{\"data\":{\"histogram2dcontour\":[{\"type\":\"histogram2dcontour\",\"colorbar\":{\"outlinewidth\":0,\"ticks\":\"\"},\"colorscale\":[[0.0,\"#0d0887\"],[0.1111111111111111,\"#46039f\"],[0.2222222222222222,\"#7201a8\"],[0.3333333333333333,\"#9c179e\"],[0.4444444444444444,\"#bd3786\"],[0.5555555555555556,\"#d8576b\"],[0.6666666666666666,\"#ed7953\"],[0.7777777777777778,\"#fb9f3a\"],[0.8888888888888888,\"#fdca26\"],[1.0,\"#f0f921\"]]}],\"choropleth\":[{\"type\":\"choropleth\",\"colorbar\":{\"outlinewidth\":0,\"ticks\":\"\"}}],\"histogram2d\":[{\"type\":\"histogram2d\",\"colorbar\":{\"outlinewidth\":0,\"ticks\":\"\"},\"colorscale\":[[0.0,\"#0d0887\"],[0.1111111111111111,\"#46039f\"],[0.2222222222222222,\"#7201a8\"],[0.3333333333333333,\"#9c179e\"],[0.4444444444444444,\"#bd3786\"],[0.5555555555555556,\"#d8576b\"],[0.6666666666666666,\"#ed7953\"],[0.7777777777777778,\"#fb9f3a\"],[0.8888888888888888,\"#fdca26\"],[1.0,\"#f0f921\"]]}],\"heatmap\":[{\"type\":\"heatmap\",\"colorbar\":{\"outlinewidth\":0,\"ticks\":\"\"},\"colorscale\":[[0.0,\"#0d0887\"],[0.1111111111111111,\"#46039f\"],[0.2222222222222222,\"#7201a8\"],[0.3333333333333333,\"#9c179e\"],[0.4444444444444444,\"#bd3786\"],[0.5555555555555556,\"#d8576b\"],[0.6666666666666666,\"#ed7953\"],[0.7777777777777778,\"#fb9f3a\"],[0.8888888888888888,\"#fdca26\"],[1.0,\"#f0f921\"]]}],\"heatmapgl\":[{\"type\":\"heatmapgl\",\"colorbar\":{\"outlinewidth\":0,\"ticks\":\"\"},\"colorscale\":[[0.0,\"#0d0887\"],[0.1111111111111111,\"#46039f\"],[0.2222222222222222,\"#7201a8\"],[0.3333333333333333,\"#9c179e\"],[0.4444444444444444,\"#bd3786\"],[0.5555555555555556,\"#d8576b\"],[0.6666666666666666,\"#ed7953\"],[0.7777777777777778,\"#fb9f3a\"],[0.8888888888888888,\"#fdca26\"],[1.0,\"#f0f921\"]]}],\"contourcarpet\":[{\"type\":\"contourcarpet\",\"colorbar\":{\"outlinewidth\":0,\"ticks\":\"\"}}],\"contour\":[{\"type\":\"contour\",\"colorbar\":{\"outlinewidth\":0,\"ticks\":\"\"},\"colorscale\":[[0.0,\"#0d0887\"],[0.1111111111111111,\"#46039f\"],[0.2222222222222222,\"#7201a8\"],[0.3333333333333333,\"#9c179e\"],[0.4444444444444444,\"#bd3786\"],[0.5555555555555556,\"#d8576b\"],[0.6666666666666666,\"#ed7953\"],[0.7777777777777778,\"#fb9f3a\"],[0.8888888888888888,\"#fdca26\"],[1.0,\"#f0f921\"]]}],\"surface\":[{\"type\":\"surface\",\"colorbar\":{\"outlinewidth\":0,\"ticks\":\"\"},\"colorscale\":[[0.0,\"#0d0887\"],[0.1111111111111111,\"#46039f\"],[0.2222222222222222,\"#7201a8\"],[0.3333333333333333,\"#9c179e\"],[0.4444444444444444,\"#bd3786\"],[0.5555555555555556,\"#d8576b\"],[0.6666666666666666,\"#ed7953\"],[0.7777777777777778,\"#fb9f3a\"],[0.8888888888888888,\"#fdca26\"],[1.0,\"#f0f921\"]]}],\"mesh3d\":[{\"type\":\"mesh3d\",\"colorbar\":{\"outlinewidth\":0,\"ticks\":\"\"}}],\"scatter\":[{\"fillpattern\":{\"fillmode\":\"overlay\",\"size\":10,\"solidity\":0.2},\"type\":\"scatter\"}],\"parcoords\":[{\"type\":\"parcoords\",\"line\":{\"colorbar\":{\"outlinewidth\":0,\"ticks\":\"\"}}}],\"scatterpolargl\":[{\"type\":\"scatterpolargl\",\"marker\":{\"colorbar\":{\"outlinewidth\":0,\"ticks\":\"\"}}}],\"bar\":[{\"error_x\":{\"color\":\"#2a3f5f\"},\"error_y\":{\"color\":\"#2a3f5f\"},\"marker\":{\"line\":{\"color\":\"#E5ECF6\",\"width\":0.5},\"pattern\":{\"fillmode\":\"overlay\",\"size\":10,\"solidity\":0.2}},\"type\":\"bar\"}],\"scattergeo\":[{\"type\":\"scattergeo\",\"marker\":{\"colorbar\":{\"outlinewidth\":0,\"ticks\":\"\"}}}],\"scatterpolar\":[{\"type\":\"scatterpolar\",\"marker\":{\"colorbar\":{\"outlinewidth\":0,\"ticks\":\"\"}}}],\"histogram\":[{\"marker\":{\"pattern\":{\"fillmode\":\"overlay\",\"size\":10,\"solidity\":0.2}},\"type\":\"histogram\"}],\"scattergl\":[{\"type\":\"scattergl\",\"marker\":{\"colorbar\":{\"outlinewidth\":0,\"ticks\":\"\"}}}],\"scatter3d\":[{\"type\":\"scatter3d\",\"line\":{\"colorbar\":{\"outlinewidth\":0,\"ticks\":\"\"}},\"marker\":{\"colorbar\":{\"outlinewidth\":0,\"ticks\":\"\"}}}],\"scattermapbox\":[{\"type\":\"scattermapbox\",\"marker\":{\"colorbar\":{\"outlinewidth\":0,\"ticks\":\"\"}}}],\"scatterternary\":[{\"type\":\"scatterternary\",\"marker\":{\"colorbar\":{\"outlinewidth\":0,\"ticks\":\"\"}}}],\"scattercarpet\":[{\"type\":\"scattercarpet\",\"marker\":{\"colorbar\":{\"outlinewidth\":0,\"ticks\":\"\"}}}],\"carpet\":[{\"aaxis\":{\"endlinecolor\":\"#2a3f5f\",\"gridcolor\":\"white\",\"linecolor\":\"white\",\"minorgridcolor\":\"white\",\"startlinecolor\":\"#2a3f5f\"},\"baxis\":{\"endlinecolor\":\"#2a3f5f\",\"gridcolor\":\"white\",\"linecolor\":\"white\",\"minorgridcolor\":\"white\",\"startlinecolor\":\"#2a3f5f\"},\"type\":\"carpet\"}],\"table\":[{\"cells\":{\"fill\":{\"color\":\"#EBF0F8\"},\"line\":{\"color\":\"white\"}},\"header\":{\"fill\":{\"color\":\"#C8D4E3\"},\"line\":{\"color\":\"white\"}},\"type\":\"table\"}],\"barpolar\":[{\"marker\":{\"line\":{\"color\":\"#E5ECF6\",\"width\":0.5},\"pattern\":{\"fillmode\":\"overlay\",\"size\":10,\"solidity\":0.2}},\"type\":\"barpolar\"}],\"pie\":[{\"automargin\":true,\"type\":\"pie\"}]},\"layout\":{\"autotypenumbers\":\"strict\",\"colorway\":[\"#636efa\",\"#EF553B\",\"#00cc96\",\"#ab63fa\",\"#FFA15A\",\"#19d3f3\",\"#FF6692\",\"#B6E880\",\"#FF97FF\",\"#FECB52\"],\"font\":{\"color\":\"#2a3f5f\"},\"hovermode\":\"closest\",\"hoverlabel\":{\"align\":\"left\"},\"paper_bgcolor\":\"white\",\"plot_bgcolor\":\"#E5ECF6\",\"polar\":{\"bgcolor\":\"#E5ECF6\",\"angularaxis\":{\"gridcolor\":\"white\",\"linecolor\":\"white\",\"ticks\":\"\"},\"radialaxis\":{\"gridcolor\":\"white\",\"linecolor\":\"white\",\"ticks\":\"\"}},\"ternary\":{\"bgcolor\":\"#E5ECF6\",\"aaxis\":{\"gridcolor\":\"white\",\"linecolor\":\"white\",\"ticks\":\"\"},\"baxis\":{\"gridcolor\":\"white\",\"linecolor\":\"white\",\"ticks\":\"\"},\"caxis\":{\"gridcolor\":\"white\",\"linecolor\":\"white\",\"ticks\":\"\"}},\"coloraxis\":{\"colorbar\":{\"outlinewidth\":0,\"ticks\":\"\"}},\"colorscale\":{\"sequential\":[[0.0,\"#0d0887\"],[0.1111111111111111,\"#46039f\"],[0.2222222222222222,\"#7201a8\"],[0.3333333333333333,\"#9c179e\"],[0.4444444444444444,\"#bd3786\"],[0.5555555555555556,\"#d8576b\"],[0.6666666666666666,\"#ed7953\"],[0.7777777777777778,\"#fb9f3a\"],[0.8888888888888888,\"#fdca26\"],[1.0,\"#f0f921\"]],\"sequentialminus\":[[0.0,\"#0d0887\"],[0.1111111111111111,\"#46039f\"],[0.2222222222222222,\"#7201a8\"],[0.3333333333333333,\"#9c179e\"],[0.4444444444444444,\"#bd3786\"],[0.5555555555555556,\"#d8576b\"],[0.6666666666666666,\"#ed7953\"],[0.7777777777777778,\"#fb9f3a\"],[0.8888888888888888,\"#fdca26\"],[1.0,\"#f0f921\"]],\"diverging\":[[0,\"#8e0152\"],[0.1,\"#c51b7d\"],[0.2,\"#de77ae\"],[0.3,\"#f1b6da\"],[0.4,\"#fde0ef\"],[0.5,\"#f7f7f7\"],[0.6,\"#e6f5d0\"],[0.7,\"#b8e186\"],[0.8,\"#7fbc41\"],[0.9,\"#4d9221\"],[1,\"#276419\"]]},\"xaxis\":{\"gridcolor\":\"white\",\"linecolor\":\"white\",\"ticks\":\"\",\"title\":{\"standoff\":15},\"zerolinecolor\":\"white\",\"automargin\":true,\"zerolinewidth\":2},\"yaxis\":{\"gridcolor\":\"white\",\"linecolor\":\"white\",\"ticks\":\"\",\"title\":{\"standoff\":15},\"zerolinecolor\":\"white\",\"automargin\":true,\"zerolinewidth\":2},\"scene\":{\"xaxis\":{\"backgroundcolor\":\"#E5ECF6\",\"gridcolor\":\"white\",\"linecolor\":\"white\",\"showbackground\":true,\"ticks\":\"\",\"zerolinecolor\":\"white\",\"gridwidth\":2},\"yaxis\":{\"backgroundcolor\":\"#E5ECF6\",\"gridcolor\":\"white\",\"linecolor\":\"white\",\"showbackground\":true,\"ticks\":\"\",\"zerolinecolor\":\"white\",\"gridwidth\":2},\"zaxis\":{\"backgroundcolor\":\"#E5ECF6\",\"gridcolor\":\"white\",\"linecolor\":\"white\",\"showbackground\":true,\"ticks\":\"\",\"zerolinecolor\":\"white\",\"gridwidth\":2}},\"shapedefaults\":{\"line\":{\"color\":\"#2a3f5f\"}},\"annotationdefaults\":{\"arrowcolor\":\"#2a3f5f\",\"arrowhead\":0,\"arrowwidth\":1},\"geo\":{\"bgcolor\":\"white\",\"landcolor\":\"#E5ECF6\",\"subunitcolor\":\"white\",\"showland\":true,\"showlakes\":true,\"lakecolor\":\"white\"},\"title\":{\"x\":0.05},\"mapbox\":{\"style\":\"light\"}}},\"xaxis\":{\"title\":{\"text\":\"\"},\"tickangle\":-45,\"showgrid\":false,\"tickfont\":{\"size\":12,\"color\":\"black\"}},\"yaxis\":{\"title\":{\"text\":\"Count\"},\"showgrid\":true,\"gridcolor\":\"lightgray\",\"zeroline\":false,\"tickprefix\":\"\",\"ticksuffix\":\" rooms\",\"tickfont\":{\"size\":12,\"color\":\"black\"},\"range\":[0,18247.2]},\"margin\":{\"l\":100,\"r\":20,\"t\":110,\"b\":60},\"title\":{\"text\":\"Total Number of Rooms per Region\"},\"plot_bgcolor\":\"white\",\"paper_bgcolor\":\"white\"},                        {\"responsive\": true}                    ).then(function(){\n",
       "                            \n",
       "var gd = document.getElementById('3a742ab6-1473-4061-aa5f-a0814aa743c6');\n",
       "var x = new MutationObserver(function (mutations, observer) {{\n",
       "        var display = window.getComputedStyle(gd).display;\n",
       "        if (!display || display === 'none') {{\n",
       "            console.log([gd, 'removed!']);\n",
       "            Plotly.purge(gd);\n",
       "            observer.disconnect();\n",
       "        }}\n",
       "}});\n",
       "\n",
       "// Listen for the removal of the full notebook cells\n",
       "var notebookContainer = gd.closest('#notebook-container');\n",
       "if (notebookContainer) {{\n",
       "    x.observe(notebookContainer, {childList: true});\n",
       "}}\n",
       "\n",
       "// Listen for the clearing of the current output cell\n",
       "var outputEl = gd.closest('.output');\n",
       "if (outputEl) {{\n",
       "    x.observe(outputEl, {childList: true});\n",
       "}}\n",
       "\n",
       "                        })                };                });            </script>        </div>"
      ]
     },
     "metadata": {},
     "output_type": "display_data"
    }
   ],
   "source": [
    "import plotly.graph_objects as go\n",
    "\n",
    "# Assuming you already have the 'new_data' DataFrame with the necessary data\n",
    "\n",
    "# Calculating the number of rooms per region\n",
    "room_regions = new_data['neighbourhood_group'].value_counts().sort_values(ascending=False)\n",
    "total_rooms = len(new_data)\n",
    "\n",
    "# Calculating the percentage of rooms per region\n",
    "room_regions_pct = round(room_regions / total_rooms * 100, 2)\n",
    "\n",
    "# Creating text labels for data labels (including the number of rooms and percentage)\n",
    "data_labels = []\n",
    "for region, count, pct in zip(room_regions.index, room_regions, room_regions_pct):\n",
    "    data_labels.append(f'<b>{count}</b> rooms<br>({pct}%)')\n",
    "\n",
    "# Plotting the count of rooms per region with data labels inside the bars\n",
    "fig = go.Figure()\n",
    "\n",
    "fig.add_trace(go.Bar(\n",
    "    x=room_regions.index,\n",
    "    y=room_regions,\n",
    "    marker=dict(color='rgb(255, 90, 95)'),  # Airbnb pink color\n",
    "    text=data_labels,  # Data labels displaying count and percentage\n",
    "    textposition='inside',  # Position of the data labels (inside the bars)\n",
    "    hoverinfo='none',  # Disable hoverinfo to show only custom data labels\n",
    "    showlegend=False,  # Hide legend\n",
    "))\n",
    "\n",
    "fig.update_layout(\n",
    "    title='Total Number of Rooms per Region',\n",
    "    xaxis_title='',\n",
    "    yaxis_title='Count',\n",
    "    xaxis_tickangle=-45,\n",
    "    xaxis_showgrid=False,  # Hide x-axis grid lines\n",
    "    yaxis_showgrid=True,\n",
    "    yaxis_gridcolor='lightgray',  # Change y-axis grid color\n",
    "    yaxis_zeroline=False,  # Hide y-axis zero line\n",
    "    yaxis_tickprefix='',  # Remove y-axis tick prefix\n",
    "    yaxis_ticksuffix=' rooms',  # Add y-axis tick suffix\n",
    "    plot_bgcolor='white',  # Set plot background color\n",
    "    paper_bgcolor='white',  # Set paper background color\n",
    "    margin=dict(\n",
    "        l=100,  # Adjust left margin to make room for data labels\n",
    "        r=20,\n",
    "        t=110,\n",
    "        b=60,  # Adjust bottom margin to make room for x-axis labels\n",
    "    ),\n",
    ")\n",
    "\n",
    "# Adjust x-axis label font size and color\n",
    "fig.update_xaxes(tickfont=dict(size=12, color='black'))\n",
    "\n",
    "# Adjust y-axis label font size and color\n",
    "fig.update_yaxes(tickfont=dict(size=12, color='black'))\n",
    "\n",
    "# Find the maximum count for setting y-axis range\n",
    "max_count = room_regions.max()\n",
    "fig.update_yaxes(range=[0, max_count + max_count * 0.2])  # Adding 20% buffer above the maximum count\n",
    "\n",
    "# Show figure\n",
    "fig.show()\n"
   ]
  },
  {
   "cell_type": "code",
   "execution_count": 153,
   "id": "b8c6fe51",
   "metadata": {},
   "outputs": [
    {
     "data": {
      "application/vnd.plotly.v1+json": {
       "config": {
        "plotlyServerURL": "https://plot.ly"
       },
       "data": [
        {
         "hoverinfo": "none",
         "marker": {
          "color": "rgb(255, 90, 95)"
         },
         "showlegend": false,
         "text": [
          "<b>15206</b> rooms<br>(38.92%)",
          "<b>15090</b> rooms<br>(38.62%)",
          "<b>6698</b> rooms<br>(17.14%)",
          "<b>1673</b> rooms<br>(4.28%)",
          "<b>403</b> rooms<br>(1.03%)"
         ],
         "textposition": "inside",
         "type": "bar",
         "x": [
          "Brooklyn",
          "Manhattan",
          "Queens",
          "Bronx",
          "Staten Island"
         ],
         "y": [
          15206,
          15090,
          6698,
          1673,
          403
         ]
        }
       ],
       "layout": {
        "annotations": [
         {
          "font": {
           "size": 10
          },
          "showarrow": false,
          "text": "Private room: 6802<br>Entire home/apt: 8213<br>Hotel room: 4<br>Shared room: 187",
          "textangle": 0,
          "x": "Brooklyn",
          "xanchor": "center",
          "y": 15206,
          "yanchor": "bottom"
         },
         {
          "font": {
           "size": 10
          },
          "showarrow": false,
          "text": "Entire home/apt: 9306<br>Private room: 5531<br>Shared room: 187<br>Hotel room: 66",
          "textangle": 0,
          "x": "Manhattan",
          "xanchor": "center",
          "y": 15090,
          "yanchor": "bottom"
         },
         {
          "font": {
           "size": 10
          },
          "showarrow": false,
          "text": "Private room: 3594<br>Entire home/apt: 2965<br>Shared room: 132<br>Hotel room: 7",
          "textangle": 0,
          "x": "Queens",
          "xanchor": "center",
          "y": 6698,
          "yanchor": "bottom"
         },
         {
          "font": {
           "size": 10
          },
          "showarrow": false,
          "text": "Private room: 866<br>Entire home/apt: 765<br>Shared room: 42",
          "textangle": 0,
          "x": "Bronx",
          "xanchor": "center",
          "y": 1673,
          "yanchor": "bottom"
         },
         {
          "font": {
           "size": 10
          },
          "showarrow": false,
          "text": "Private room: 162<br>Entire home/apt: 238<br>Shared room: 3",
          "textangle": 0,
          "x": "Staten Island",
          "xanchor": "center",
          "y": 403,
          "yanchor": "bottom"
         }
        ],
        "margin": {
         "b": 60,
         "l": 100,
         "r": 20,
         "t": 110
        },
        "paper_bgcolor": "white",
        "plot_bgcolor": "white",
        "template": {
         "data": {
          "bar": [
           {
            "error_x": {
             "color": "#2a3f5f"
            },
            "error_y": {
             "color": "#2a3f5f"
            },
            "marker": {
             "line": {
              "color": "#E5ECF6",
              "width": 0.5
             },
             "pattern": {
              "fillmode": "overlay",
              "size": 10,
              "solidity": 0.2
             }
            },
            "type": "bar"
           }
          ],
          "barpolar": [
           {
            "marker": {
             "line": {
              "color": "#E5ECF6",
              "width": 0.5
             },
             "pattern": {
              "fillmode": "overlay",
              "size": 10,
              "solidity": 0.2
             }
            },
            "type": "barpolar"
           }
          ],
          "carpet": [
           {
            "aaxis": {
             "endlinecolor": "#2a3f5f",
             "gridcolor": "white",
             "linecolor": "white",
             "minorgridcolor": "white",
             "startlinecolor": "#2a3f5f"
            },
            "baxis": {
             "endlinecolor": "#2a3f5f",
             "gridcolor": "white",
             "linecolor": "white",
             "minorgridcolor": "white",
             "startlinecolor": "#2a3f5f"
            },
            "type": "carpet"
           }
          ],
          "choropleth": [
           {
            "colorbar": {
             "outlinewidth": 0,
             "ticks": ""
            },
            "type": "choropleth"
           }
          ],
          "contour": [
           {
            "colorbar": {
             "outlinewidth": 0,
             "ticks": ""
            },
            "colorscale": [
             [
              0,
              "#0d0887"
             ],
             [
              0.1111111111111111,
              "#46039f"
             ],
             [
              0.2222222222222222,
              "#7201a8"
             ],
             [
              0.3333333333333333,
              "#9c179e"
             ],
             [
              0.4444444444444444,
              "#bd3786"
             ],
             [
              0.5555555555555556,
              "#d8576b"
             ],
             [
              0.6666666666666666,
              "#ed7953"
             ],
             [
              0.7777777777777778,
              "#fb9f3a"
             ],
             [
              0.8888888888888888,
              "#fdca26"
             ],
             [
              1,
              "#f0f921"
             ]
            ],
            "type": "contour"
           }
          ],
          "contourcarpet": [
           {
            "colorbar": {
             "outlinewidth": 0,
             "ticks": ""
            },
            "type": "contourcarpet"
           }
          ],
          "heatmap": [
           {
            "colorbar": {
             "outlinewidth": 0,
             "ticks": ""
            },
            "colorscale": [
             [
              0,
              "#0d0887"
             ],
             [
              0.1111111111111111,
              "#46039f"
             ],
             [
              0.2222222222222222,
              "#7201a8"
             ],
             [
              0.3333333333333333,
              "#9c179e"
             ],
             [
              0.4444444444444444,
              "#bd3786"
             ],
             [
              0.5555555555555556,
              "#d8576b"
             ],
             [
              0.6666666666666666,
              "#ed7953"
             ],
             [
              0.7777777777777778,
              "#fb9f3a"
             ],
             [
              0.8888888888888888,
              "#fdca26"
             ],
             [
              1,
              "#f0f921"
             ]
            ],
            "type": "heatmap"
           }
          ],
          "heatmapgl": [
           {
            "colorbar": {
             "outlinewidth": 0,
             "ticks": ""
            },
            "colorscale": [
             [
              0,
              "#0d0887"
             ],
             [
              0.1111111111111111,
              "#46039f"
             ],
             [
              0.2222222222222222,
              "#7201a8"
             ],
             [
              0.3333333333333333,
              "#9c179e"
             ],
             [
              0.4444444444444444,
              "#bd3786"
             ],
             [
              0.5555555555555556,
              "#d8576b"
             ],
             [
              0.6666666666666666,
              "#ed7953"
             ],
             [
              0.7777777777777778,
              "#fb9f3a"
             ],
             [
              0.8888888888888888,
              "#fdca26"
             ],
             [
              1,
              "#f0f921"
             ]
            ],
            "type": "heatmapgl"
           }
          ],
          "histogram": [
           {
            "marker": {
             "pattern": {
              "fillmode": "overlay",
              "size": 10,
              "solidity": 0.2
             }
            },
            "type": "histogram"
           }
          ],
          "histogram2d": [
           {
            "colorbar": {
             "outlinewidth": 0,
             "ticks": ""
            },
            "colorscale": [
             [
              0,
              "#0d0887"
             ],
             [
              0.1111111111111111,
              "#46039f"
             ],
             [
              0.2222222222222222,
              "#7201a8"
             ],
             [
              0.3333333333333333,
              "#9c179e"
             ],
             [
              0.4444444444444444,
              "#bd3786"
             ],
             [
              0.5555555555555556,
              "#d8576b"
             ],
             [
              0.6666666666666666,
              "#ed7953"
             ],
             [
              0.7777777777777778,
              "#fb9f3a"
             ],
             [
              0.8888888888888888,
              "#fdca26"
             ],
             [
              1,
              "#f0f921"
             ]
            ],
            "type": "histogram2d"
           }
          ],
          "histogram2dcontour": [
           {
            "colorbar": {
             "outlinewidth": 0,
             "ticks": ""
            },
            "colorscale": [
             [
              0,
              "#0d0887"
             ],
             [
              0.1111111111111111,
              "#46039f"
             ],
             [
              0.2222222222222222,
              "#7201a8"
             ],
             [
              0.3333333333333333,
              "#9c179e"
             ],
             [
              0.4444444444444444,
              "#bd3786"
             ],
             [
              0.5555555555555556,
              "#d8576b"
             ],
             [
              0.6666666666666666,
              "#ed7953"
             ],
             [
              0.7777777777777778,
              "#fb9f3a"
             ],
             [
              0.8888888888888888,
              "#fdca26"
             ],
             [
              1,
              "#f0f921"
             ]
            ],
            "type": "histogram2dcontour"
           }
          ],
          "mesh3d": [
           {
            "colorbar": {
             "outlinewidth": 0,
             "ticks": ""
            },
            "type": "mesh3d"
           }
          ],
          "parcoords": [
           {
            "line": {
             "colorbar": {
              "outlinewidth": 0,
              "ticks": ""
             }
            },
            "type": "parcoords"
           }
          ],
          "pie": [
           {
            "automargin": true,
            "type": "pie"
           }
          ],
          "scatter": [
           {
            "fillpattern": {
             "fillmode": "overlay",
             "size": 10,
             "solidity": 0.2
            },
            "type": "scatter"
           }
          ],
          "scatter3d": [
           {
            "line": {
             "colorbar": {
              "outlinewidth": 0,
              "ticks": ""
             }
            },
            "marker": {
             "colorbar": {
              "outlinewidth": 0,
              "ticks": ""
             }
            },
            "type": "scatter3d"
           }
          ],
          "scattercarpet": [
           {
            "marker": {
             "colorbar": {
              "outlinewidth": 0,
              "ticks": ""
             }
            },
            "type": "scattercarpet"
           }
          ],
          "scattergeo": [
           {
            "marker": {
             "colorbar": {
              "outlinewidth": 0,
              "ticks": ""
             }
            },
            "type": "scattergeo"
           }
          ],
          "scattergl": [
           {
            "marker": {
             "colorbar": {
              "outlinewidth": 0,
              "ticks": ""
             }
            },
            "type": "scattergl"
           }
          ],
          "scattermapbox": [
           {
            "marker": {
             "colorbar": {
              "outlinewidth": 0,
              "ticks": ""
             }
            },
            "type": "scattermapbox"
           }
          ],
          "scatterpolar": [
           {
            "marker": {
             "colorbar": {
              "outlinewidth": 0,
              "ticks": ""
             }
            },
            "type": "scatterpolar"
           }
          ],
          "scatterpolargl": [
           {
            "marker": {
             "colorbar": {
              "outlinewidth": 0,
              "ticks": ""
             }
            },
            "type": "scatterpolargl"
           }
          ],
          "scatterternary": [
           {
            "marker": {
             "colorbar": {
              "outlinewidth": 0,
              "ticks": ""
             }
            },
            "type": "scatterternary"
           }
          ],
          "surface": [
           {
            "colorbar": {
             "outlinewidth": 0,
             "ticks": ""
            },
            "colorscale": [
             [
              0,
              "#0d0887"
             ],
             [
              0.1111111111111111,
              "#46039f"
             ],
             [
              0.2222222222222222,
              "#7201a8"
             ],
             [
              0.3333333333333333,
              "#9c179e"
             ],
             [
              0.4444444444444444,
              "#bd3786"
             ],
             [
              0.5555555555555556,
              "#d8576b"
             ],
             [
              0.6666666666666666,
              "#ed7953"
             ],
             [
              0.7777777777777778,
              "#fb9f3a"
             ],
             [
              0.8888888888888888,
              "#fdca26"
             ],
             [
              1,
              "#f0f921"
             ]
            ],
            "type": "surface"
           }
          ],
          "table": [
           {
            "cells": {
             "fill": {
              "color": "#EBF0F8"
             },
             "line": {
              "color": "white"
             }
            },
            "header": {
             "fill": {
              "color": "#C8D4E3"
             },
             "line": {
              "color": "white"
             }
            },
            "type": "table"
           }
          ]
         },
         "layout": {
          "annotationdefaults": {
           "arrowcolor": "#2a3f5f",
           "arrowhead": 0,
           "arrowwidth": 1
          },
          "autotypenumbers": "strict",
          "coloraxis": {
           "colorbar": {
            "outlinewidth": 0,
            "ticks": ""
           }
          },
          "colorscale": {
           "diverging": [
            [
             0,
             "#8e0152"
            ],
            [
             0.1,
             "#c51b7d"
            ],
            [
             0.2,
             "#de77ae"
            ],
            [
             0.3,
             "#f1b6da"
            ],
            [
             0.4,
             "#fde0ef"
            ],
            [
             0.5,
             "#f7f7f7"
            ],
            [
             0.6,
             "#e6f5d0"
            ],
            [
             0.7,
             "#b8e186"
            ],
            [
             0.8,
             "#7fbc41"
            ],
            [
             0.9,
             "#4d9221"
            ],
            [
             1,
             "#276419"
            ]
           ],
           "sequential": [
            [
             0,
             "#0d0887"
            ],
            [
             0.1111111111111111,
             "#46039f"
            ],
            [
             0.2222222222222222,
             "#7201a8"
            ],
            [
             0.3333333333333333,
             "#9c179e"
            ],
            [
             0.4444444444444444,
             "#bd3786"
            ],
            [
             0.5555555555555556,
             "#d8576b"
            ],
            [
             0.6666666666666666,
             "#ed7953"
            ],
            [
             0.7777777777777778,
             "#fb9f3a"
            ],
            [
             0.8888888888888888,
             "#fdca26"
            ],
            [
             1,
             "#f0f921"
            ]
           ],
           "sequentialminus": [
            [
             0,
             "#0d0887"
            ],
            [
             0.1111111111111111,
             "#46039f"
            ],
            [
             0.2222222222222222,
             "#7201a8"
            ],
            [
             0.3333333333333333,
             "#9c179e"
            ],
            [
             0.4444444444444444,
             "#bd3786"
            ],
            [
             0.5555555555555556,
             "#d8576b"
            ],
            [
             0.6666666666666666,
             "#ed7953"
            ],
            [
             0.7777777777777778,
             "#fb9f3a"
            ],
            [
             0.8888888888888888,
             "#fdca26"
            ],
            [
             1,
             "#f0f921"
            ]
           ]
          },
          "colorway": [
           "#636efa",
           "#EF553B",
           "#00cc96",
           "#ab63fa",
           "#FFA15A",
           "#19d3f3",
           "#FF6692",
           "#B6E880",
           "#FF97FF",
           "#FECB52"
          ],
          "font": {
           "color": "#2a3f5f"
          },
          "geo": {
           "bgcolor": "white",
           "lakecolor": "white",
           "landcolor": "#E5ECF6",
           "showlakes": true,
           "showland": true,
           "subunitcolor": "white"
          },
          "hoverlabel": {
           "align": "left"
          },
          "hovermode": "closest",
          "mapbox": {
           "style": "light"
          },
          "paper_bgcolor": "white",
          "plot_bgcolor": "#E5ECF6",
          "polar": {
           "angularaxis": {
            "gridcolor": "white",
            "linecolor": "white",
            "ticks": ""
           },
           "bgcolor": "#E5ECF6",
           "radialaxis": {
            "gridcolor": "white",
            "linecolor": "white",
            "ticks": ""
           }
          },
          "scene": {
           "xaxis": {
            "backgroundcolor": "#E5ECF6",
            "gridcolor": "white",
            "gridwidth": 2,
            "linecolor": "white",
            "showbackground": true,
            "ticks": "",
            "zerolinecolor": "white"
           },
           "yaxis": {
            "backgroundcolor": "#E5ECF6",
            "gridcolor": "white",
            "gridwidth": 2,
            "linecolor": "white",
            "showbackground": true,
            "ticks": "",
            "zerolinecolor": "white"
           },
           "zaxis": {
            "backgroundcolor": "#E5ECF6",
            "gridcolor": "white",
            "gridwidth": 2,
            "linecolor": "white",
            "showbackground": true,
            "ticks": "",
            "zerolinecolor": "white"
           }
          },
          "shapedefaults": {
           "line": {
            "color": "#2a3f5f"
           }
          },
          "ternary": {
           "aaxis": {
            "gridcolor": "white",
            "linecolor": "white",
            "ticks": ""
           },
           "baxis": {
            "gridcolor": "white",
            "linecolor": "white",
            "ticks": ""
           },
           "bgcolor": "#E5ECF6",
           "caxis": {
            "gridcolor": "white",
            "linecolor": "white",
            "ticks": ""
           }
          },
          "title": {
           "x": 0.05
          },
          "xaxis": {
           "automargin": true,
           "gridcolor": "white",
           "linecolor": "white",
           "ticks": "",
           "title": {
            "standoff": 15
           },
           "zerolinecolor": "white",
           "zerolinewidth": 2
          },
          "yaxis": {
           "automargin": true,
           "gridcolor": "white",
           "linecolor": "white",
           "ticks": "",
           "title": {
            "standoff": 15
           },
           "zerolinecolor": "white",
           "zerolinewidth": 2
          }
         }
        },
        "title": {
         "text": "Total Number of Rooms per Region"
        },
        "xaxis": {
         "showgrid": false,
         "tickangle": -45,
         "tickfont": {
          "color": "black",
          "size": 12
         },
         "title": {
          "text": ""
         }
        },
        "yaxis": {
         "gridcolor": "lightgray",
         "range": [
          0,
          18247.2
         ],
         "showgrid": true,
         "tickfont": {
          "color": "black",
          "size": 12
         },
         "tickprefix": "",
         "ticksuffix": " rooms",
         "title": {
          "text": "Count"
         },
         "zeroline": false
        }
       }
      },
      "text/html": [
       "<div>                            <div id=\"739e1597-6c02-4407-9b44-4581166ad2e7\" class=\"plotly-graph-div\" style=\"height:525px; width:100%;\"></div>            <script type=\"text/javascript\">                require([\"plotly\"], function(Plotly) {                    window.PLOTLYENV=window.PLOTLYENV || {};                                    if (document.getElementById(\"739e1597-6c02-4407-9b44-4581166ad2e7\")) {                    Plotly.newPlot(                        \"739e1597-6c02-4407-9b44-4581166ad2e7\",                        [{\"hoverinfo\":\"none\",\"marker\":{\"color\":\"rgb(255, 90, 95)\"},\"showlegend\":false,\"text\":[\"\\u003cb\\u003e15206\\u003c\\u002fb\\u003e rooms\\u003cbr\\u003e(38.92%)\",\"\\u003cb\\u003e15090\\u003c\\u002fb\\u003e rooms\\u003cbr\\u003e(38.62%)\",\"\\u003cb\\u003e6698\\u003c\\u002fb\\u003e rooms\\u003cbr\\u003e(17.14%)\",\"\\u003cb\\u003e1673\\u003c\\u002fb\\u003e rooms\\u003cbr\\u003e(4.28%)\",\"\\u003cb\\u003e403\\u003c\\u002fb\\u003e rooms\\u003cbr\\u003e(1.03%)\"],\"textposition\":\"inside\",\"x\":[\"Brooklyn\",\"Manhattan\",\"Queens\",\"Bronx\",\"Staten Island\"],\"y\":[15206,15090,6698,1673,403],\"type\":\"bar\"}],                        {\"template\":{\"data\":{\"histogram2dcontour\":[{\"type\":\"histogram2dcontour\",\"colorbar\":{\"outlinewidth\":0,\"ticks\":\"\"},\"colorscale\":[[0.0,\"#0d0887\"],[0.1111111111111111,\"#46039f\"],[0.2222222222222222,\"#7201a8\"],[0.3333333333333333,\"#9c179e\"],[0.4444444444444444,\"#bd3786\"],[0.5555555555555556,\"#d8576b\"],[0.6666666666666666,\"#ed7953\"],[0.7777777777777778,\"#fb9f3a\"],[0.8888888888888888,\"#fdca26\"],[1.0,\"#f0f921\"]]}],\"choropleth\":[{\"type\":\"choropleth\",\"colorbar\":{\"outlinewidth\":0,\"ticks\":\"\"}}],\"histogram2d\":[{\"type\":\"histogram2d\",\"colorbar\":{\"outlinewidth\":0,\"ticks\":\"\"},\"colorscale\":[[0.0,\"#0d0887\"],[0.1111111111111111,\"#46039f\"],[0.2222222222222222,\"#7201a8\"],[0.3333333333333333,\"#9c179e\"],[0.4444444444444444,\"#bd3786\"],[0.5555555555555556,\"#d8576b\"],[0.6666666666666666,\"#ed7953\"],[0.7777777777777778,\"#fb9f3a\"],[0.8888888888888888,\"#fdca26\"],[1.0,\"#f0f921\"]]}],\"heatmap\":[{\"type\":\"heatmap\",\"colorbar\":{\"outlinewidth\":0,\"ticks\":\"\"},\"colorscale\":[[0.0,\"#0d0887\"],[0.1111111111111111,\"#46039f\"],[0.2222222222222222,\"#7201a8\"],[0.3333333333333333,\"#9c179e\"],[0.4444444444444444,\"#bd3786\"],[0.5555555555555556,\"#d8576b\"],[0.6666666666666666,\"#ed7953\"],[0.7777777777777778,\"#fb9f3a\"],[0.8888888888888888,\"#fdca26\"],[1.0,\"#f0f921\"]]}],\"heatmapgl\":[{\"type\":\"heatmapgl\",\"colorbar\":{\"outlinewidth\":0,\"ticks\":\"\"},\"colorscale\":[[0.0,\"#0d0887\"],[0.1111111111111111,\"#46039f\"],[0.2222222222222222,\"#7201a8\"],[0.3333333333333333,\"#9c179e\"],[0.4444444444444444,\"#bd3786\"],[0.5555555555555556,\"#d8576b\"],[0.6666666666666666,\"#ed7953\"],[0.7777777777777778,\"#fb9f3a\"],[0.8888888888888888,\"#fdca26\"],[1.0,\"#f0f921\"]]}],\"contourcarpet\":[{\"type\":\"contourcarpet\",\"colorbar\":{\"outlinewidth\":0,\"ticks\":\"\"}}],\"contour\":[{\"type\":\"contour\",\"colorbar\":{\"outlinewidth\":0,\"ticks\":\"\"},\"colorscale\":[[0.0,\"#0d0887\"],[0.1111111111111111,\"#46039f\"],[0.2222222222222222,\"#7201a8\"],[0.3333333333333333,\"#9c179e\"],[0.4444444444444444,\"#bd3786\"],[0.5555555555555556,\"#d8576b\"],[0.6666666666666666,\"#ed7953\"],[0.7777777777777778,\"#fb9f3a\"],[0.8888888888888888,\"#fdca26\"],[1.0,\"#f0f921\"]]}],\"surface\":[{\"type\":\"surface\",\"colorbar\":{\"outlinewidth\":0,\"ticks\":\"\"},\"colorscale\":[[0.0,\"#0d0887\"],[0.1111111111111111,\"#46039f\"],[0.2222222222222222,\"#7201a8\"],[0.3333333333333333,\"#9c179e\"],[0.4444444444444444,\"#bd3786\"],[0.5555555555555556,\"#d8576b\"],[0.6666666666666666,\"#ed7953\"],[0.7777777777777778,\"#fb9f3a\"],[0.8888888888888888,\"#fdca26\"],[1.0,\"#f0f921\"]]}],\"mesh3d\":[{\"type\":\"mesh3d\",\"colorbar\":{\"outlinewidth\":0,\"ticks\":\"\"}}],\"scatter\":[{\"fillpattern\":{\"fillmode\":\"overlay\",\"size\":10,\"solidity\":0.2},\"type\":\"scatter\"}],\"parcoords\":[{\"type\":\"parcoords\",\"line\":{\"colorbar\":{\"outlinewidth\":0,\"ticks\":\"\"}}}],\"scatterpolargl\":[{\"type\":\"scatterpolargl\",\"marker\":{\"colorbar\":{\"outlinewidth\":0,\"ticks\":\"\"}}}],\"bar\":[{\"error_x\":{\"color\":\"#2a3f5f\"},\"error_y\":{\"color\":\"#2a3f5f\"},\"marker\":{\"line\":{\"color\":\"#E5ECF6\",\"width\":0.5},\"pattern\":{\"fillmode\":\"overlay\",\"size\":10,\"solidity\":0.2}},\"type\":\"bar\"}],\"scattergeo\":[{\"type\":\"scattergeo\",\"marker\":{\"colorbar\":{\"outlinewidth\":0,\"ticks\":\"\"}}}],\"scatterpolar\":[{\"type\":\"scatterpolar\",\"marker\":{\"colorbar\":{\"outlinewidth\":0,\"ticks\":\"\"}}}],\"histogram\":[{\"marker\":{\"pattern\":{\"fillmode\":\"overlay\",\"size\":10,\"solidity\":0.2}},\"type\":\"histogram\"}],\"scattergl\":[{\"type\":\"scattergl\",\"marker\":{\"colorbar\":{\"outlinewidth\":0,\"ticks\":\"\"}}}],\"scatter3d\":[{\"type\":\"scatter3d\",\"line\":{\"colorbar\":{\"outlinewidth\":0,\"ticks\":\"\"}},\"marker\":{\"colorbar\":{\"outlinewidth\":0,\"ticks\":\"\"}}}],\"scattermapbox\":[{\"type\":\"scattermapbox\",\"marker\":{\"colorbar\":{\"outlinewidth\":0,\"ticks\":\"\"}}}],\"scatterternary\":[{\"type\":\"scatterternary\",\"marker\":{\"colorbar\":{\"outlinewidth\":0,\"ticks\":\"\"}}}],\"scattercarpet\":[{\"type\":\"scattercarpet\",\"marker\":{\"colorbar\":{\"outlinewidth\":0,\"ticks\":\"\"}}}],\"carpet\":[{\"aaxis\":{\"endlinecolor\":\"#2a3f5f\",\"gridcolor\":\"white\",\"linecolor\":\"white\",\"minorgridcolor\":\"white\",\"startlinecolor\":\"#2a3f5f\"},\"baxis\":{\"endlinecolor\":\"#2a3f5f\",\"gridcolor\":\"white\",\"linecolor\":\"white\",\"minorgridcolor\":\"white\",\"startlinecolor\":\"#2a3f5f\"},\"type\":\"carpet\"}],\"table\":[{\"cells\":{\"fill\":{\"color\":\"#EBF0F8\"},\"line\":{\"color\":\"white\"}},\"header\":{\"fill\":{\"color\":\"#C8D4E3\"},\"line\":{\"color\":\"white\"}},\"type\":\"table\"}],\"barpolar\":[{\"marker\":{\"line\":{\"color\":\"#E5ECF6\",\"width\":0.5},\"pattern\":{\"fillmode\":\"overlay\",\"size\":10,\"solidity\":0.2}},\"type\":\"barpolar\"}],\"pie\":[{\"automargin\":true,\"type\":\"pie\"}]},\"layout\":{\"autotypenumbers\":\"strict\",\"colorway\":[\"#636efa\",\"#EF553B\",\"#00cc96\",\"#ab63fa\",\"#FFA15A\",\"#19d3f3\",\"#FF6692\",\"#B6E880\",\"#FF97FF\",\"#FECB52\"],\"font\":{\"color\":\"#2a3f5f\"},\"hovermode\":\"closest\",\"hoverlabel\":{\"align\":\"left\"},\"paper_bgcolor\":\"white\",\"plot_bgcolor\":\"#E5ECF6\",\"polar\":{\"bgcolor\":\"#E5ECF6\",\"angularaxis\":{\"gridcolor\":\"white\",\"linecolor\":\"white\",\"ticks\":\"\"},\"radialaxis\":{\"gridcolor\":\"white\",\"linecolor\":\"white\",\"ticks\":\"\"}},\"ternary\":{\"bgcolor\":\"#E5ECF6\",\"aaxis\":{\"gridcolor\":\"white\",\"linecolor\":\"white\",\"ticks\":\"\"},\"baxis\":{\"gridcolor\":\"white\",\"linecolor\":\"white\",\"ticks\":\"\"},\"caxis\":{\"gridcolor\":\"white\",\"linecolor\":\"white\",\"ticks\":\"\"}},\"coloraxis\":{\"colorbar\":{\"outlinewidth\":0,\"ticks\":\"\"}},\"colorscale\":{\"sequential\":[[0.0,\"#0d0887\"],[0.1111111111111111,\"#46039f\"],[0.2222222222222222,\"#7201a8\"],[0.3333333333333333,\"#9c179e\"],[0.4444444444444444,\"#bd3786\"],[0.5555555555555556,\"#d8576b\"],[0.6666666666666666,\"#ed7953\"],[0.7777777777777778,\"#fb9f3a\"],[0.8888888888888888,\"#fdca26\"],[1.0,\"#f0f921\"]],\"sequentialminus\":[[0.0,\"#0d0887\"],[0.1111111111111111,\"#46039f\"],[0.2222222222222222,\"#7201a8\"],[0.3333333333333333,\"#9c179e\"],[0.4444444444444444,\"#bd3786\"],[0.5555555555555556,\"#d8576b\"],[0.6666666666666666,\"#ed7953\"],[0.7777777777777778,\"#fb9f3a\"],[0.8888888888888888,\"#fdca26\"],[1.0,\"#f0f921\"]],\"diverging\":[[0,\"#8e0152\"],[0.1,\"#c51b7d\"],[0.2,\"#de77ae\"],[0.3,\"#f1b6da\"],[0.4,\"#fde0ef\"],[0.5,\"#f7f7f7\"],[0.6,\"#e6f5d0\"],[0.7,\"#b8e186\"],[0.8,\"#7fbc41\"],[0.9,\"#4d9221\"],[1,\"#276419\"]]},\"xaxis\":{\"gridcolor\":\"white\",\"linecolor\":\"white\",\"ticks\":\"\",\"title\":{\"standoff\":15},\"zerolinecolor\":\"white\",\"automargin\":true,\"zerolinewidth\":2},\"yaxis\":{\"gridcolor\":\"white\",\"linecolor\":\"white\",\"ticks\":\"\",\"title\":{\"standoff\":15},\"zerolinecolor\":\"white\",\"automargin\":true,\"zerolinewidth\":2},\"scene\":{\"xaxis\":{\"backgroundcolor\":\"#E5ECF6\",\"gridcolor\":\"white\",\"linecolor\":\"white\",\"showbackground\":true,\"ticks\":\"\",\"zerolinecolor\":\"white\",\"gridwidth\":2},\"yaxis\":{\"backgroundcolor\":\"#E5ECF6\",\"gridcolor\":\"white\",\"linecolor\":\"white\",\"showbackground\":true,\"ticks\":\"\",\"zerolinecolor\":\"white\",\"gridwidth\":2},\"zaxis\":{\"backgroundcolor\":\"#E5ECF6\",\"gridcolor\":\"white\",\"linecolor\":\"white\",\"showbackground\":true,\"ticks\":\"\",\"zerolinecolor\":\"white\",\"gridwidth\":2}},\"shapedefaults\":{\"line\":{\"color\":\"#2a3f5f\"}},\"annotationdefaults\":{\"arrowcolor\":\"#2a3f5f\",\"arrowhead\":0,\"arrowwidth\":1},\"geo\":{\"bgcolor\":\"white\",\"landcolor\":\"#E5ECF6\",\"subunitcolor\":\"white\",\"showland\":true,\"showlakes\":true,\"lakecolor\":\"white\"},\"title\":{\"x\":0.05},\"mapbox\":{\"style\":\"light\"}}},\"annotations\":[{\"font\":{\"size\":10},\"showarrow\":false,\"text\":\"Private room: 6802\\u003cbr\\u003eEntire home\\u002fapt: 8213\\u003cbr\\u003eHotel room: 4\\u003cbr\\u003eShared room: 187\",\"textangle\":0,\"x\":\"Brooklyn\",\"xanchor\":\"center\",\"y\":15206,\"yanchor\":\"bottom\"},{\"font\":{\"size\":10},\"showarrow\":false,\"text\":\"Entire home\\u002fapt: 9306\\u003cbr\\u003ePrivate room: 5531\\u003cbr\\u003eShared room: 187\\u003cbr\\u003eHotel room: 66\",\"textangle\":0,\"x\":\"Manhattan\",\"xanchor\":\"center\",\"y\":15090,\"yanchor\":\"bottom\"},{\"font\":{\"size\":10},\"showarrow\":false,\"text\":\"Private room: 3594\\u003cbr\\u003eEntire home\\u002fapt: 2965\\u003cbr\\u003eShared room: 132\\u003cbr\\u003eHotel room: 7\",\"textangle\":0,\"x\":\"Queens\",\"xanchor\":\"center\",\"y\":6698,\"yanchor\":\"bottom\"},{\"font\":{\"size\":10},\"showarrow\":false,\"text\":\"Private room: 866\\u003cbr\\u003eEntire home\\u002fapt: 765\\u003cbr\\u003eShared room: 42\",\"textangle\":0,\"x\":\"Bronx\",\"xanchor\":\"center\",\"y\":1673,\"yanchor\":\"bottom\"},{\"font\":{\"size\":10},\"showarrow\":false,\"text\":\"Private room: 162\\u003cbr\\u003eEntire home\\u002fapt: 238\\u003cbr\\u003eShared room: 3\",\"textangle\":0,\"x\":\"Staten Island\",\"xanchor\":\"center\",\"y\":403,\"yanchor\":\"bottom\"}],\"xaxis\":{\"title\":{\"text\":\"\"},\"tickangle\":-45,\"showgrid\":false,\"tickfont\":{\"size\":12,\"color\":\"black\"}},\"yaxis\":{\"title\":{\"text\":\"Count\"},\"showgrid\":true,\"gridcolor\":\"lightgray\",\"zeroline\":false,\"tickprefix\":\"\",\"ticksuffix\":\" rooms\",\"tickfont\":{\"size\":12,\"color\":\"black\"},\"range\":[0,18247.2]},\"margin\":{\"l\":100,\"r\":20,\"t\":110,\"b\":60},\"title\":{\"text\":\"Total Number of Rooms per Region\"},\"plot_bgcolor\":\"white\",\"paper_bgcolor\":\"white\"},                        {\"responsive\": true}                    ).then(function(){\n",
       "                            \n",
       "var gd = document.getElementById('739e1597-6c02-4407-9b44-4581166ad2e7');\n",
       "var x = new MutationObserver(function (mutations, observer) {{\n",
       "        var display = window.getComputedStyle(gd).display;\n",
       "        if (!display || display === 'none') {{\n",
       "            console.log([gd, 'removed!']);\n",
       "            Plotly.purge(gd);\n",
       "            observer.disconnect();\n",
       "        }}\n",
       "}});\n",
       "\n",
       "// Listen for the removal of the full notebook cells\n",
       "var notebookContainer = gd.closest('#notebook-container');\n",
       "if (notebookContainer) {{\n",
       "    x.observe(notebookContainer, {childList: true});\n",
       "}}\n",
       "\n",
       "// Listen for the clearing of the current output cell\n",
       "var outputEl = gd.closest('.output');\n",
       "if (outputEl) {{\n",
       "    x.observe(outputEl, {childList: true});\n",
       "}}\n",
       "\n",
       "                        })                };                });            </script>        </div>"
      ]
     },
     "metadata": {},
     "output_type": "display_data"
    }
   ],
   "source": [
    "room_regions = new_data['neighbourhood_group'].value_counts().sort_values(ascending=False)\n",
    "total_rooms = len(new_data)\n",
    "\n",
    "# Calculating the percentage of rooms per region\n",
    "room_regions_pct = round(room_regions / total_rooms * 100, 2)\n",
    "\n",
    "# Creating text labels for data labels (including the number of rooms and percentage)\n",
    "data_labels = []\n",
    "room_type_info = []  # To store room type information\n",
    "for region, count, pct in zip(room_regions.index, room_regions, room_regions_pct):\n",
    "    data_labels.append(f'<b>{count}</b> rooms<br>({pct}%)')\n",
    "    room_types = new_data[new_data['neighbourhood_group'] == region]['room_type'].unique()\n",
    "    room_type_info.append('<br>'.join(f'{room}: {new_data[(new_data[\"neighbourhood_group\"] == region) & (new_data[\"room_type\"] == room)].shape[0]}'\n",
    "                                      for room in room_types))\n",
    "\n",
    "# Plotting the count of rooms per region with data labels inside the bars\n",
    "fig = go.Figure()\n",
    "\n",
    "fig.add_trace(go.Bar(\n",
    "    x=room_regions.index,\n",
    "    y=room_regions,\n",
    "    marker=dict(color='rgb(255, 90, 95)'),  # Airbnb pink color\n",
    "    text=data_labels,  # Data labels displaying count and percentage\n",
    "    textposition='inside',  # Position of the data labels (inside the bars)\n",
    "    hoverinfo='none',  # Disable hoverinfo to show only custom data labels\n",
    "    showlegend=False,  # Hide legend\n",
    "))\n",
    "\n",
    "# Add room type information as annotations above the bars\n",
    "for x_val, y_val, info in zip(room_regions.index, room_regions, room_type_info):\n",
    "    fig.add_annotation(\n",
    "        x=x_val,\n",
    "        y=y_val,\n",
    "        text=info,\n",
    "        showarrow=False,\n",
    "        font=dict(size=10),\n",
    "        textangle=0,  # Set textangle to 0 to make it straight (horizontal)\n",
    "        xanchor='center',  # Center the annotation horizontally\n",
    "        yanchor='bottom',  # Anchor the annotation to the top of the bar\n",
    "    )\n",
    "\n",
    "fig.update_layout(\n",
    "    title='Total Number of Rooms per Region',\n",
    "    xaxis_title='',\n",
    "    yaxis_title='Count',\n",
    "    xaxis_tickangle=-45,\n",
    "    xaxis_showgrid=False,  # Hide x-axis grid lines\n",
    "    yaxis_showgrid=True,\n",
    "    yaxis_gridcolor='lightgray',  # Change y-axis grid color\n",
    "    yaxis_zeroline=False,  # Hide y-axis zero line\n",
    "    yaxis_tickprefix='',  # Remove y-axis tick prefix\n",
    "    yaxis_ticksuffix=' rooms',  # Add y-axis tick suffix\n",
    "    plot_bgcolor='white',  # Set plot background color\n",
    "    paper_bgcolor='white',  # Set paper background color\n",
    "    margin=dict(\n",
    "        l=100,  # Adjust left margin to make room for data labels\n",
    "        r=20,\n",
    "        t=110,\n",
    "        b=60,  # Adjust bottom margin to make room for x-axis labels\n",
    "    ),\n",
    ")\n",
    "\n",
    "# Adjust x-axis label font size and color\n",
    "fig.update_xaxes(tickfont=dict(size=12, color='black'))\n",
    "\n",
    "# Adjust y-axis label font size and color\n",
    "fig.update_yaxes(tickfont=dict(size=12, color='black'))\n",
    "\n",
    "# Find the maximum count for setting y-axis range\n",
    "max_count = room_regions.max()\n",
    "fig.update_yaxes(range=[0, max_count + max_count * 0.2])  # Adding 20% buffer above the maximum count\n",
    "\n",
    "# Show figure\n",
    "fig.show()"
   ]
  },
  {
   "cell_type": "code",
   "execution_count": 155,
   "id": "bfe671fa",
   "metadata": {},
   "outputs": [
    {
     "data": {
      "application/vnd.plotly.v1+json": {
       "config": {
        "plotlyServerURL": "https://plot.ly"
       },
       "data": [
        {
         "colorscale": [
          [
           0,
           "rgb(103,0,31)"
          ],
          [
           0.1,
           "rgb(178,24,43)"
          ],
          [
           0.2,
           "rgb(214,96,77)"
          ],
          [
           0.3,
           "rgb(244,165,130)"
          ],
          [
           0.4,
           "rgb(253,219,199)"
          ],
          [
           0.5,
           "rgb(247,247,247)"
          ],
          [
           0.6,
           "rgb(209,229,240)"
          ],
          [
           0.7,
           "rgb(146,197,222)"
          ],
          [
           0.8,
           "rgb(67,147,195)"
          ],
          [
           0.9,
           "rgb(33,102,172)"
          ],
          [
           1,
           "rgb(5,48,97)"
          ]
         ],
         "hoverinfo": "none",
         "hoverongaps": false,
         "text": [
          [
           "1.00",
           "-0.18",
           "0.01",
           "-0.04",
           "0.13"
          ],
          [
           "-0.18",
           "1.00",
           "-0.25",
           "0.19",
           "-0.20"
          ],
          [
           "0.01",
           "-0.25",
           "1.00",
           "-0.10",
           "0.07"
          ],
          [
           "-0.04",
           "0.19",
           "-0.10",
           "1.00",
           "0.06"
          ],
          [
           "0.13",
           "-0.20",
           "0.07",
           "0.06",
           "1.00"
          ]
         ],
         "type": "heatmap",
         "x": [
          "price",
          "minimum_nights",
          "number_of_reviews",
          "calculated_host_listings_count",
          "availability_365"
         ],
         "y": [
          "price",
          "minimum_nights",
          "number_of_reviews",
          "calculated_host_listings_count",
          "availability_365"
         ],
         "z": [
          [
           1,
           -0.1790470745374901,
           0.01413955381941155,
           -0.042532796871704685,
           0.13355045106484534
          ],
          [
           -0.1790470745374901,
           1,
           -0.25015116118321307,
           0.18613557302420403,
           -0.19503271804615224
          ],
          [
           0.01413955381941155,
           -0.25015116118321307,
           1,
           -0.10489002344383777,
           0.06955732801309336
          ],
          [
           -0.042532796871704685,
           0.18613557302420403,
           -0.10489002344383777,
           1,
           0.055077320015595885
          ],
          [
           0.13355045106484534,
           -0.19503271804615224,
           0.06955732801309336,
           0.055077320015595885,
           1
          ]
         ],
         "zmax": 1,
         "zmin": -1
        }
       ],
       "layout": {
        "annotations": [
         {
          "font": {
           "size": 12
          },
          "showarrow": false,
          "text": "1.00",
          "x": "price",
          "xanchor": "center",
          "y": "price",
          "yanchor": "middle"
         },
         {
          "font": {
           "size": 12
          },
          "showarrow": false,
          "text": "-0.18",
          "x": "minimum_nights",
          "xanchor": "center",
          "y": "price",
          "yanchor": "middle"
         },
         {
          "font": {
           "size": 12
          },
          "showarrow": false,
          "text": "0.01",
          "x": "number_of_reviews",
          "xanchor": "center",
          "y": "price",
          "yanchor": "middle"
         },
         {
          "font": {
           "size": 12
          },
          "showarrow": false,
          "text": "-0.04",
          "x": "calculated_host_listings_count",
          "xanchor": "center",
          "y": "price",
          "yanchor": "middle"
         },
         {
          "font": {
           "size": 12
          },
          "showarrow": false,
          "text": "0.13",
          "x": "availability_365",
          "xanchor": "center",
          "y": "price",
          "yanchor": "middle"
         },
         {
          "font": {
           "size": 12
          },
          "showarrow": false,
          "text": "-0.18",
          "x": "price",
          "xanchor": "center",
          "y": "minimum_nights",
          "yanchor": "middle"
         },
         {
          "font": {
           "size": 12
          },
          "showarrow": false,
          "text": "1.00",
          "x": "minimum_nights",
          "xanchor": "center",
          "y": "minimum_nights",
          "yanchor": "middle"
         },
         {
          "font": {
           "size": 12
          },
          "showarrow": false,
          "text": "-0.25",
          "x": "number_of_reviews",
          "xanchor": "center",
          "y": "minimum_nights",
          "yanchor": "middle"
         },
         {
          "font": {
           "size": 12
          },
          "showarrow": false,
          "text": "0.19",
          "x": "calculated_host_listings_count",
          "xanchor": "center",
          "y": "minimum_nights",
          "yanchor": "middle"
         },
         {
          "font": {
           "size": 12
          },
          "showarrow": false,
          "text": "-0.20",
          "x": "availability_365",
          "xanchor": "center",
          "y": "minimum_nights",
          "yanchor": "middle"
         },
         {
          "font": {
           "size": 12
          },
          "showarrow": false,
          "text": "0.01",
          "x": "price",
          "xanchor": "center",
          "y": "number_of_reviews",
          "yanchor": "middle"
         },
         {
          "font": {
           "size": 12
          },
          "showarrow": false,
          "text": "-0.25",
          "x": "minimum_nights",
          "xanchor": "center",
          "y": "number_of_reviews",
          "yanchor": "middle"
         },
         {
          "font": {
           "size": 12
          },
          "showarrow": false,
          "text": "1.00",
          "x": "number_of_reviews",
          "xanchor": "center",
          "y": "number_of_reviews",
          "yanchor": "middle"
         },
         {
          "font": {
           "size": 12
          },
          "showarrow": false,
          "text": "-0.10",
          "x": "calculated_host_listings_count",
          "xanchor": "center",
          "y": "number_of_reviews",
          "yanchor": "middle"
         },
         {
          "font": {
           "size": 12
          },
          "showarrow": false,
          "text": "0.07",
          "x": "availability_365",
          "xanchor": "center",
          "y": "number_of_reviews",
          "yanchor": "middle"
         },
         {
          "font": {
           "size": 12
          },
          "showarrow": false,
          "text": "-0.04",
          "x": "price",
          "xanchor": "center",
          "y": "calculated_host_listings_count",
          "yanchor": "middle"
         },
         {
          "font": {
           "size": 12
          },
          "showarrow": false,
          "text": "0.19",
          "x": "minimum_nights",
          "xanchor": "center",
          "y": "calculated_host_listings_count",
          "yanchor": "middle"
         },
         {
          "font": {
           "size": 12
          },
          "showarrow": false,
          "text": "-0.10",
          "x": "number_of_reviews",
          "xanchor": "center",
          "y": "calculated_host_listings_count",
          "yanchor": "middle"
         },
         {
          "font": {
           "size": 12
          },
          "showarrow": false,
          "text": "1.00",
          "x": "calculated_host_listings_count",
          "xanchor": "center",
          "y": "calculated_host_listings_count",
          "yanchor": "middle"
         },
         {
          "font": {
           "size": 12
          },
          "showarrow": false,
          "text": "0.06",
          "x": "availability_365",
          "xanchor": "center",
          "y": "calculated_host_listings_count",
          "yanchor": "middle"
         },
         {
          "font": {
           "size": 12
          },
          "showarrow": false,
          "text": "0.13",
          "x": "price",
          "xanchor": "center",
          "y": "availability_365",
          "yanchor": "middle"
         },
         {
          "font": {
           "size": 12
          },
          "showarrow": false,
          "text": "-0.20",
          "x": "minimum_nights",
          "xanchor": "center",
          "y": "availability_365",
          "yanchor": "middle"
         },
         {
          "font": {
           "size": 12
          },
          "showarrow": false,
          "text": "0.07",
          "x": "number_of_reviews",
          "xanchor": "center",
          "y": "availability_365",
          "yanchor": "middle"
         },
         {
          "font": {
           "size": 12
          },
          "showarrow": false,
          "text": "0.06",
          "x": "calculated_host_listings_count",
          "xanchor": "center",
          "y": "availability_365",
          "yanchor": "middle"
         },
         {
          "font": {
           "size": 12
          },
          "showarrow": false,
          "text": "1.00",
          "x": "availability_365",
          "xanchor": "center",
          "y": "availability_365",
          "yanchor": "middle"
         }
        ],
        "height": 600,
        "template": {
         "data": {
          "bar": [
           {
            "error_x": {
             "color": "#2a3f5f"
            },
            "error_y": {
             "color": "#2a3f5f"
            },
            "marker": {
             "line": {
              "color": "#E5ECF6",
              "width": 0.5
             },
             "pattern": {
              "fillmode": "overlay",
              "size": 10,
              "solidity": 0.2
             }
            },
            "type": "bar"
           }
          ],
          "barpolar": [
           {
            "marker": {
             "line": {
              "color": "#E5ECF6",
              "width": 0.5
             },
             "pattern": {
              "fillmode": "overlay",
              "size": 10,
              "solidity": 0.2
             }
            },
            "type": "barpolar"
           }
          ],
          "carpet": [
           {
            "aaxis": {
             "endlinecolor": "#2a3f5f",
             "gridcolor": "white",
             "linecolor": "white",
             "minorgridcolor": "white",
             "startlinecolor": "#2a3f5f"
            },
            "baxis": {
             "endlinecolor": "#2a3f5f",
             "gridcolor": "white",
             "linecolor": "white",
             "minorgridcolor": "white",
             "startlinecolor": "#2a3f5f"
            },
            "type": "carpet"
           }
          ],
          "choropleth": [
           {
            "colorbar": {
             "outlinewidth": 0,
             "ticks": ""
            },
            "type": "choropleth"
           }
          ],
          "contour": [
           {
            "colorbar": {
             "outlinewidth": 0,
             "ticks": ""
            },
            "colorscale": [
             [
              0,
              "#0d0887"
             ],
             [
              0.1111111111111111,
              "#46039f"
             ],
             [
              0.2222222222222222,
              "#7201a8"
             ],
             [
              0.3333333333333333,
              "#9c179e"
             ],
             [
              0.4444444444444444,
              "#bd3786"
             ],
             [
              0.5555555555555556,
              "#d8576b"
             ],
             [
              0.6666666666666666,
              "#ed7953"
             ],
             [
              0.7777777777777778,
              "#fb9f3a"
             ],
             [
              0.8888888888888888,
              "#fdca26"
             ],
             [
              1,
              "#f0f921"
             ]
            ],
            "type": "contour"
           }
          ],
          "contourcarpet": [
           {
            "colorbar": {
             "outlinewidth": 0,
             "ticks": ""
            },
            "type": "contourcarpet"
           }
          ],
          "heatmap": [
           {
            "colorbar": {
             "outlinewidth": 0,
             "ticks": ""
            },
            "colorscale": [
             [
              0,
              "#0d0887"
             ],
             [
              0.1111111111111111,
              "#46039f"
             ],
             [
              0.2222222222222222,
              "#7201a8"
             ],
             [
              0.3333333333333333,
              "#9c179e"
             ],
             [
              0.4444444444444444,
              "#bd3786"
             ],
             [
              0.5555555555555556,
              "#d8576b"
             ],
             [
              0.6666666666666666,
              "#ed7953"
             ],
             [
              0.7777777777777778,
              "#fb9f3a"
             ],
             [
              0.8888888888888888,
              "#fdca26"
             ],
             [
              1,
              "#f0f921"
             ]
            ],
            "type": "heatmap"
           }
          ],
          "heatmapgl": [
           {
            "colorbar": {
             "outlinewidth": 0,
             "ticks": ""
            },
            "colorscale": [
             [
              0,
              "#0d0887"
             ],
             [
              0.1111111111111111,
              "#46039f"
             ],
             [
              0.2222222222222222,
              "#7201a8"
             ],
             [
              0.3333333333333333,
              "#9c179e"
             ],
             [
              0.4444444444444444,
              "#bd3786"
             ],
             [
              0.5555555555555556,
              "#d8576b"
             ],
             [
              0.6666666666666666,
              "#ed7953"
             ],
             [
              0.7777777777777778,
              "#fb9f3a"
             ],
             [
              0.8888888888888888,
              "#fdca26"
             ],
             [
              1,
              "#f0f921"
             ]
            ],
            "type": "heatmapgl"
           }
          ],
          "histogram": [
           {
            "marker": {
             "pattern": {
              "fillmode": "overlay",
              "size": 10,
              "solidity": 0.2
             }
            },
            "type": "histogram"
           }
          ],
          "histogram2d": [
           {
            "colorbar": {
             "outlinewidth": 0,
             "ticks": ""
            },
            "colorscale": [
             [
              0,
              "#0d0887"
             ],
             [
              0.1111111111111111,
              "#46039f"
             ],
             [
              0.2222222222222222,
              "#7201a8"
             ],
             [
              0.3333333333333333,
              "#9c179e"
             ],
             [
              0.4444444444444444,
              "#bd3786"
             ],
             [
              0.5555555555555556,
              "#d8576b"
             ],
             [
              0.6666666666666666,
              "#ed7953"
             ],
             [
              0.7777777777777778,
              "#fb9f3a"
             ],
             [
              0.8888888888888888,
              "#fdca26"
             ],
             [
              1,
              "#f0f921"
             ]
            ],
            "type": "histogram2d"
           }
          ],
          "histogram2dcontour": [
           {
            "colorbar": {
             "outlinewidth": 0,
             "ticks": ""
            },
            "colorscale": [
             [
              0,
              "#0d0887"
             ],
             [
              0.1111111111111111,
              "#46039f"
             ],
             [
              0.2222222222222222,
              "#7201a8"
             ],
             [
              0.3333333333333333,
              "#9c179e"
             ],
             [
              0.4444444444444444,
              "#bd3786"
             ],
             [
              0.5555555555555556,
              "#d8576b"
             ],
             [
              0.6666666666666666,
              "#ed7953"
             ],
             [
              0.7777777777777778,
              "#fb9f3a"
             ],
             [
              0.8888888888888888,
              "#fdca26"
             ],
             [
              1,
              "#f0f921"
             ]
            ],
            "type": "histogram2dcontour"
           }
          ],
          "mesh3d": [
           {
            "colorbar": {
             "outlinewidth": 0,
             "ticks": ""
            },
            "type": "mesh3d"
           }
          ],
          "parcoords": [
           {
            "line": {
             "colorbar": {
              "outlinewidth": 0,
              "ticks": ""
             }
            },
            "type": "parcoords"
           }
          ],
          "pie": [
           {
            "automargin": true,
            "type": "pie"
           }
          ],
          "scatter": [
           {
            "fillpattern": {
             "fillmode": "overlay",
             "size": 10,
             "solidity": 0.2
            },
            "type": "scatter"
           }
          ],
          "scatter3d": [
           {
            "line": {
             "colorbar": {
              "outlinewidth": 0,
              "ticks": ""
             }
            },
            "marker": {
             "colorbar": {
              "outlinewidth": 0,
              "ticks": ""
             }
            },
            "type": "scatter3d"
           }
          ],
          "scattercarpet": [
           {
            "marker": {
             "colorbar": {
              "outlinewidth": 0,
              "ticks": ""
             }
            },
            "type": "scattercarpet"
           }
          ],
          "scattergeo": [
           {
            "marker": {
             "colorbar": {
              "outlinewidth": 0,
              "ticks": ""
             }
            },
            "type": "scattergeo"
           }
          ],
          "scattergl": [
           {
            "marker": {
             "colorbar": {
              "outlinewidth": 0,
              "ticks": ""
             }
            },
            "type": "scattergl"
           }
          ],
          "scattermapbox": [
           {
            "marker": {
             "colorbar": {
              "outlinewidth": 0,
              "ticks": ""
             }
            },
            "type": "scattermapbox"
           }
          ],
          "scatterpolar": [
           {
            "marker": {
             "colorbar": {
              "outlinewidth": 0,
              "ticks": ""
             }
            },
            "type": "scatterpolar"
           }
          ],
          "scatterpolargl": [
           {
            "marker": {
             "colorbar": {
              "outlinewidth": 0,
              "ticks": ""
             }
            },
            "type": "scatterpolargl"
           }
          ],
          "scatterternary": [
           {
            "marker": {
             "colorbar": {
              "outlinewidth": 0,
              "ticks": ""
             }
            },
            "type": "scatterternary"
           }
          ],
          "surface": [
           {
            "colorbar": {
             "outlinewidth": 0,
             "ticks": ""
            },
            "colorscale": [
             [
              0,
              "#0d0887"
             ],
             [
              0.1111111111111111,
              "#46039f"
             ],
             [
              0.2222222222222222,
              "#7201a8"
             ],
             [
              0.3333333333333333,
              "#9c179e"
             ],
             [
              0.4444444444444444,
              "#bd3786"
             ],
             [
              0.5555555555555556,
              "#d8576b"
             ],
             [
              0.6666666666666666,
              "#ed7953"
             ],
             [
              0.7777777777777778,
              "#fb9f3a"
             ],
             [
              0.8888888888888888,
              "#fdca26"
             ],
             [
              1,
              "#f0f921"
             ]
            ],
            "type": "surface"
           }
          ],
          "table": [
           {
            "cells": {
             "fill": {
              "color": "#EBF0F8"
             },
             "line": {
              "color": "white"
             }
            },
            "header": {
             "fill": {
              "color": "#C8D4E3"
             },
             "line": {
              "color": "white"
             }
            },
            "type": "table"
           }
          ]
         },
         "layout": {
          "annotationdefaults": {
           "arrowcolor": "#2a3f5f",
           "arrowhead": 0,
           "arrowwidth": 1
          },
          "autotypenumbers": "strict",
          "coloraxis": {
           "colorbar": {
            "outlinewidth": 0,
            "ticks": ""
           }
          },
          "colorscale": {
           "diverging": [
            [
             0,
             "#8e0152"
            ],
            [
             0.1,
             "#c51b7d"
            ],
            [
             0.2,
             "#de77ae"
            ],
            [
             0.3,
             "#f1b6da"
            ],
            [
             0.4,
             "#fde0ef"
            ],
            [
             0.5,
             "#f7f7f7"
            ],
            [
             0.6,
             "#e6f5d0"
            ],
            [
             0.7,
             "#b8e186"
            ],
            [
             0.8,
             "#7fbc41"
            ],
            [
             0.9,
             "#4d9221"
            ],
            [
             1,
             "#276419"
            ]
           ],
           "sequential": [
            [
             0,
             "#0d0887"
            ],
            [
             0.1111111111111111,
             "#46039f"
            ],
            [
             0.2222222222222222,
             "#7201a8"
            ],
            [
             0.3333333333333333,
             "#9c179e"
            ],
            [
             0.4444444444444444,
             "#bd3786"
            ],
            [
             0.5555555555555556,
             "#d8576b"
            ],
            [
             0.6666666666666666,
             "#ed7953"
            ],
            [
             0.7777777777777778,
             "#fb9f3a"
            ],
            [
             0.8888888888888888,
             "#fdca26"
            ],
            [
             1,
             "#f0f921"
            ]
           ],
           "sequentialminus": [
            [
             0,
             "#0d0887"
            ],
            [
             0.1111111111111111,
             "#46039f"
            ],
            [
             0.2222222222222222,
             "#7201a8"
            ],
            [
             0.3333333333333333,
             "#9c179e"
            ],
            [
             0.4444444444444444,
             "#bd3786"
            ],
            [
             0.5555555555555556,
             "#d8576b"
            ],
            [
             0.6666666666666666,
             "#ed7953"
            ],
            [
             0.7777777777777778,
             "#fb9f3a"
            ],
            [
             0.8888888888888888,
             "#fdca26"
            ],
            [
             1,
             "#f0f921"
            ]
           ]
          },
          "colorway": [
           "#636efa",
           "#EF553B",
           "#00cc96",
           "#ab63fa",
           "#FFA15A",
           "#19d3f3",
           "#FF6692",
           "#B6E880",
           "#FF97FF",
           "#FECB52"
          ],
          "font": {
           "color": "#2a3f5f"
          },
          "geo": {
           "bgcolor": "white",
           "lakecolor": "white",
           "landcolor": "#E5ECF6",
           "showlakes": true,
           "showland": true,
           "subunitcolor": "white"
          },
          "hoverlabel": {
           "align": "left"
          },
          "hovermode": "closest",
          "mapbox": {
           "style": "light"
          },
          "paper_bgcolor": "white",
          "plot_bgcolor": "#E5ECF6",
          "polar": {
           "angularaxis": {
            "gridcolor": "white",
            "linecolor": "white",
            "ticks": ""
           },
           "bgcolor": "#E5ECF6",
           "radialaxis": {
            "gridcolor": "white",
            "linecolor": "white",
            "ticks": ""
           }
          },
          "scene": {
           "xaxis": {
            "backgroundcolor": "#E5ECF6",
            "gridcolor": "white",
            "gridwidth": 2,
            "linecolor": "white",
            "showbackground": true,
            "ticks": "",
            "zerolinecolor": "white"
           },
           "yaxis": {
            "backgroundcolor": "#E5ECF6",
            "gridcolor": "white",
            "gridwidth": 2,
            "linecolor": "white",
            "showbackground": true,
            "ticks": "",
            "zerolinecolor": "white"
           },
           "zaxis": {
            "backgroundcolor": "#E5ECF6",
            "gridcolor": "white",
            "gridwidth": 2,
            "linecolor": "white",
            "showbackground": true,
            "ticks": "",
            "zerolinecolor": "white"
           }
          },
          "shapedefaults": {
           "line": {
            "color": "#2a3f5f"
           }
          },
          "ternary": {
           "aaxis": {
            "gridcolor": "white",
            "linecolor": "white",
            "ticks": ""
           },
           "baxis": {
            "gridcolor": "white",
            "linecolor": "white",
            "ticks": ""
           },
           "bgcolor": "#E5ECF6",
           "caxis": {
            "gridcolor": "white",
            "linecolor": "white",
            "ticks": ""
           }
          },
          "title": {
           "x": 0.05
          },
          "xaxis": {
           "automargin": true,
           "gridcolor": "white",
           "linecolor": "white",
           "ticks": "",
           "title": {
            "standoff": 15
           },
           "zerolinecolor": "white",
           "zerolinewidth": 2
          },
          "yaxis": {
           "automargin": true,
           "gridcolor": "white",
           "linecolor": "white",
           "ticks": "",
           "title": {
            "standoff": 15
           },
           "zerolinecolor": "white",
           "zerolinewidth": 2
          }
         }
        },
        "title": {
         "font": {
          "size": 24
         },
         "text": "Correlation Heatmap"
        },
        "width": 600,
        "xaxis": {
         "title": {
          "text": "Features"
         }
        },
        "yaxis": {
         "title": {
          "text": "Features"
         }
        }
       }
      },
      "text/html": [
       "<div>                            <div id=\"16978ba9-62e7-49e9-b6e4-2da6359238f8\" class=\"plotly-graph-div\" style=\"height:600px; width:600px;\"></div>            <script type=\"text/javascript\">                require([\"plotly\"], function(Plotly) {                    window.PLOTLYENV=window.PLOTLYENV || {};                                    if (document.getElementById(\"16978ba9-62e7-49e9-b6e4-2da6359238f8\")) {                    Plotly.newPlot(                        \"16978ba9-62e7-49e9-b6e4-2da6359238f8\",                        [{\"colorscale\":[[0.0,\"rgb(103,0,31)\"],[0.1,\"rgb(178,24,43)\"],[0.2,\"rgb(214,96,77)\"],[0.3,\"rgb(244,165,130)\"],[0.4,\"rgb(253,219,199)\"],[0.5,\"rgb(247,247,247)\"],[0.6,\"rgb(209,229,240)\"],[0.7,\"rgb(146,197,222)\"],[0.8,\"rgb(67,147,195)\"],[0.9,\"rgb(33,102,172)\"],[1.0,\"rgb(5,48,97)\"]],\"hoverinfo\":\"none\",\"hoverongaps\":false,\"text\":[[\"1.00\",\"-0.18\",\"0.01\",\"-0.04\",\"0.13\"],[\"-0.18\",\"1.00\",\"-0.25\",\"0.19\",\"-0.20\"],[\"0.01\",\"-0.25\",\"1.00\",\"-0.10\",\"0.07\"],[\"-0.04\",\"0.19\",\"-0.10\",\"1.00\",\"0.06\"],[\"0.13\",\"-0.20\",\"0.07\",\"0.06\",\"1.00\"]],\"x\":[\"price\",\"minimum_nights\",\"number_of_reviews\",\"calculated_host_listings_count\",\"availability_365\"],\"y\":[\"price\",\"minimum_nights\",\"number_of_reviews\",\"calculated_host_listings_count\",\"availability_365\"],\"z\":[[1.0,-0.1790470745374901,0.01413955381941155,-0.042532796871704685,0.13355045106484534],[-0.1790470745374901,1.0,-0.25015116118321307,0.18613557302420403,-0.19503271804615224],[0.01413955381941155,-0.25015116118321307,1.0,-0.10489002344383777,0.06955732801309336],[-0.042532796871704685,0.18613557302420403,-0.10489002344383777,1.0,0.055077320015595885],[0.13355045106484534,-0.19503271804615224,0.06955732801309336,0.055077320015595885,1.0]],\"zmax\":1,\"zmin\":-1,\"type\":\"heatmap\"}],                        {\"template\":{\"data\":{\"histogram2dcontour\":[{\"type\":\"histogram2dcontour\",\"colorbar\":{\"outlinewidth\":0,\"ticks\":\"\"},\"colorscale\":[[0.0,\"#0d0887\"],[0.1111111111111111,\"#46039f\"],[0.2222222222222222,\"#7201a8\"],[0.3333333333333333,\"#9c179e\"],[0.4444444444444444,\"#bd3786\"],[0.5555555555555556,\"#d8576b\"],[0.6666666666666666,\"#ed7953\"],[0.7777777777777778,\"#fb9f3a\"],[0.8888888888888888,\"#fdca26\"],[1.0,\"#f0f921\"]]}],\"choropleth\":[{\"type\":\"choropleth\",\"colorbar\":{\"outlinewidth\":0,\"ticks\":\"\"}}],\"histogram2d\":[{\"type\":\"histogram2d\",\"colorbar\":{\"outlinewidth\":0,\"ticks\":\"\"},\"colorscale\":[[0.0,\"#0d0887\"],[0.1111111111111111,\"#46039f\"],[0.2222222222222222,\"#7201a8\"],[0.3333333333333333,\"#9c179e\"],[0.4444444444444444,\"#bd3786\"],[0.5555555555555556,\"#d8576b\"],[0.6666666666666666,\"#ed7953\"],[0.7777777777777778,\"#fb9f3a\"],[0.8888888888888888,\"#fdca26\"],[1.0,\"#f0f921\"]]}],\"heatmap\":[{\"type\":\"heatmap\",\"colorbar\":{\"outlinewidth\":0,\"ticks\":\"\"},\"colorscale\":[[0.0,\"#0d0887\"],[0.1111111111111111,\"#46039f\"],[0.2222222222222222,\"#7201a8\"],[0.3333333333333333,\"#9c179e\"],[0.4444444444444444,\"#bd3786\"],[0.5555555555555556,\"#d8576b\"],[0.6666666666666666,\"#ed7953\"],[0.7777777777777778,\"#fb9f3a\"],[0.8888888888888888,\"#fdca26\"],[1.0,\"#f0f921\"]]}],\"heatmapgl\":[{\"type\":\"heatmapgl\",\"colorbar\":{\"outlinewidth\":0,\"ticks\":\"\"},\"colorscale\":[[0.0,\"#0d0887\"],[0.1111111111111111,\"#46039f\"],[0.2222222222222222,\"#7201a8\"],[0.3333333333333333,\"#9c179e\"],[0.4444444444444444,\"#bd3786\"],[0.5555555555555556,\"#d8576b\"],[0.6666666666666666,\"#ed7953\"],[0.7777777777777778,\"#fb9f3a\"],[0.8888888888888888,\"#fdca26\"],[1.0,\"#f0f921\"]]}],\"contourcarpet\":[{\"type\":\"contourcarpet\",\"colorbar\":{\"outlinewidth\":0,\"ticks\":\"\"}}],\"contour\":[{\"type\":\"contour\",\"colorbar\":{\"outlinewidth\":0,\"ticks\":\"\"},\"colorscale\":[[0.0,\"#0d0887\"],[0.1111111111111111,\"#46039f\"],[0.2222222222222222,\"#7201a8\"],[0.3333333333333333,\"#9c179e\"],[0.4444444444444444,\"#bd3786\"],[0.5555555555555556,\"#d8576b\"],[0.6666666666666666,\"#ed7953\"],[0.7777777777777778,\"#fb9f3a\"],[0.8888888888888888,\"#fdca26\"],[1.0,\"#f0f921\"]]}],\"surface\":[{\"type\":\"surface\",\"colorbar\":{\"outlinewidth\":0,\"ticks\":\"\"},\"colorscale\":[[0.0,\"#0d0887\"],[0.1111111111111111,\"#46039f\"],[0.2222222222222222,\"#7201a8\"],[0.3333333333333333,\"#9c179e\"],[0.4444444444444444,\"#bd3786\"],[0.5555555555555556,\"#d8576b\"],[0.6666666666666666,\"#ed7953\"],[0.7777777777777778,\"#fb9f3a\"],[0.8888888888888888,\"#fdca26\"],[1.0,\"#f0f921\"]]}],\"mesh3d\":[{\"type\":\"mesh3d\",\"colorbar\":{\"outlinewidth\":0,\"ticks\":\"\"}}],\"scatter\":[{\"fillpattern\":{\"fillmode\":\"overlay\",\"size\":10,\"solidity\":0.2},\"type\":\"scatter\"}],\"parcoords\":[{\"type\":\"parcoords\",\"line\":{\"colorbar\":{\"outlinewidth\":0,\"ticks\":\"\"}}}],\"scatterpolargl\":[{\"type\":\"scatterpolargl\",\"marker\":{\"colorbar\":{\"outlinewidth\":0,\"ticks\":\"\"}}}],\"bar\":[{\"error_x\":{\"color\":\"#2a3f5f\"},\"error_y\":{\"color\":\"#2a3f5f\"},\"marker\":{\"line\":{\"color\":\"#E5ECF6\",\"width\":0.5},\"pattern\":{\"fillmode\":\"overlay\",\"size\":10,\"solidity\":0.2}},\"type\":\"bar\"}],\"scattergeo\":[{\"type\":\"scattergeo\",\"marker\":{\"colorbar\":{\"outlinewidth\":0,\"ticks\":\"\"}}}],\"scatterpolar\":[{\"type\":\"scatterpolar\",\"marker\":{\"colorbar\":{\"outlinewidth\":0,\"ticks\":\"\"}}}],\"histogram\":[{\"marker\":{\"pattern\":{\"fillmode\":\"overlay\",\"size\":10,\"solidity\":0.2}},\"type\":\"histogram\"}],\"scattergl\":[{\"type\":\"scattergl\",\"marker\":{\"colorbar\":{\"outlinewidth\":0,\"ticks\":\"\"}}}],\"scatter3d\":[{\"type\":\"scatter3d\",\"line\":{\"colorbar\":{\"outlinewidth\":0,\"ticks\":\"\"}},\"marker\":{\"colorbar\":{\"outlinewidth\":0,\"ticks\":\"\"}}}],\"scattermapbox\":[{\"type\":\"scattermapbox\",\"marker\":{\"colorbar\":{\"outlinewidth\":0,\"ticks\":\"\"}}}],\"scatterternary\":[{\"type\":\"scatterternary\",\"marker\":{\"colorbar\":{\"outlinewidth\":0,\"ticks\":\"\"}}}],\"scattercarpet\":[{\"type\":\"scattercarpet\",\"marker\":{\"colorbar\":{\"outlinewidth\":0,\"ticks\":\"\"}}}],\"carpet\":[{\"aaxis\":{\"endlinecolor\":\"#2a3f5f\",\"gridcolor\":\"white\",\"linecolor\":\"white\",\"minorgridcolor\":\"white\",\"startlinecolor\":\"#2a3f5f\"},\"baxis\":{\"endlinecolor\":\"#2a3f5f\",\"gridcolor\":\"white\",\"linecolor\":\"white\",\"minorgridcolor\":\"white\",\"startlinecolor\":\"#2a3f5f\"},\"type\":\"carpet\"}],\"table\":[{\"cells\":{\"fill\":{\"color\":\"#EBF0F8\"},\"line\":{\"color\":\"white\"}},\"header\":{\"fill\":{\"color\":\"#C8D4E3\"},\"line\":{\"color\":\"white\"}},\"type\":\"table\"}],\"barpolar\":[{\"marker\":{\"line\":{\"color\":\"#E5ECF6\",\"width\":0.5},\"pattern\":{\"fillmode\":\"overlay\",\"size\":10,\"solidity\":0.2}},\"type\":\"barpolar\"}],\"pie\":[{\"automargin\":true,\"type\":\"pie\"}]},\"layout\":{\"autotypenumbers\":\"strict\",\"colorway\":[\"#636efa\",\"#EF553B\",\"#00cc96\",\"#ab63fa\",\"#FFA15A\",\"#19d3f3\",\"#FF6692\",\"#B6E880\",\"#FF97FF\",\"#FECB52\"],\"font\":{\"color\":\"#2a3f5f\"},\"hovermode\":\"closest\",\"hoverlabel\":{\"align\":\"left\"},\"paper_bgcolor\":\"white\",\"plot_bgcolor\":\"#E5ECF6\",\"polar\":{\"bgcolor\":\"#E5ECF6\",\"angularaxis\":{\"gridcolor\":\"white\",\"linecolor\":\"white\",\"ticks\":\"\"},\"radialaxis\":{\"gridcolor\":\"white\",\"linecolor\":\"white\",\"ticks\":\"\"}},\"ternary\":{\"bgcolor\":\"#E5ECF6\",\"aaxis\":{\"gridcolor\":\"white\",\"linecolor\":\"white\",\"ticks\":\"\"},\"baxis\":{\"gridcolor\":\"white\",\"linecolor\":\"white\",\"ticks\":\"\"},\"caxis\":{\"gridcolor\":\"white\",\"linecolor\":\"white\",\"ticks\":\"\"}},\"coloraxis\":{\"colorbar\":{\"outlinewidth\":0,\"ticks\":\"\"}},\"colorscale\":{\"sequential\":[[0.0,\"#0d0887\"],[0.1111111111111111,\"#46039f\"],[0.2222222222222222,\"#7201a8\"],[0.3333333333333333,\"#9c179e\"],[0.4444444444444444,\"#bd3786\"],[0.5555555555555556,\"#d8576b\"],[0.6666666666666666,\"#ed7953\"],[0.7777777777777778,\"#fb9f3a\"],[0.8888888888888888,\"#fdca26\"],[1.0,\"#f0f921\"]],\"sequentialminus\":[[0.0,\"#0d0887\"],[0.1111111111111111,\"#46039f\"],[0.2222222222222222,\"#7201a8\"],[0.3333333333333333,\"#9c179e\"],[0.4444444444444444,\"#bd3786\"],[0.5555555555555556,\"#d8576b\"],[0.6666666666666666,\"#ed7953\"],[0.7777777777777778,\"#fb9f3a\"],[0.8888888888888888,\"#fdca26\"],[1.0,\"#f0f921\"]],\"diverging\":[[0,\"#8e0152\"],[0.1,\"#c51b7d\"],[0.2,\"#de77ae\"],[0.3,\"#f1b6da\"],[0.4,\"#fde0ef\"],[0.5,\"#f7f7f7\"],[0.6,\"#e6f5d0\"],[0.7,\"#b8e186\"],[0.8,\"#7fbc41\"],[0.9,\"#4d9221\"],[1,\"#276419\"]]},\"xaxis\":{\"gridcolor\":\"white\",\"linecolor\":\"white\",\"ticks\":\"\",\"title\":{\"standoff\":15},\"zerolinecolor\":\"white\",\"automargin\":true,\"zerolinewidth\":2},\"yaxis\":{\"gridcolor\":\"white\",\"linecolor\":\"white\",\"ticks\":\"\",\"title\":{\"standoff\":15},\"zerolinecolor\":\"white\",\"automargin\":true,\"zerolinewidth\":2},\"scene\":{\"xaxis\":{\"backgroundcolor\":\"#E5ECF6\",\"gridcolor\":\"white\",\"linecolor\":\"white\",\"showbackground\":true,\"ticks\":\"\",\"zerolinecolor\":\"white\",\"gridwidth\":2},\"yaxis\":{\"backgroundcolor\":\"#E5ECF6\",\"gridcolor\":\"white\",\"linecolor\":\"white\",\"showbackground\":true,\"ticks\":\"\",\"zerolinecolor\":\"white\",\"gridwidth\":2},\"zaxis\":{\"backgroundcolor\":\"#E5ECF6\",\"gridcolor\":\"white\",\"linecolor\":\"white\",\"showbackground\":true,\"ticks\":\"\",\"zerolinecolor\":\"white\",\"gridwidth\":2}},\"shapedefaults\":{\"line\":{\"color\":\"#2a3f5f\"}},\"annotationdefaults\":{\"arrowcolor\":\"#2a3f5f\",\"arrowhead\":0,\"arrowwidth\":1},\"geo\":{\"bgcolor\":\"white\",\"landcolor\":\"#E5ECF6\",\"subunitcolor\":\"white\",\"showland\":true,\"showlakes\":true,\"lakecolor\":\"white\"},\"title\":{\"x\":0.05},\"mapbox\":{\"style\":\"light\"}}},\"annotations\":[{\"font\":{\"size\":12},\"showarrow\":false,\"text\":\"1.00\",\"x\":\"price\",\"xanchor\":\"center\",\"y\":\"price\",\"yanchor\":\"middle\"},{\"font\":{\"size\":12},\"showarrow\":false,\"text\":\"-0.18\",\"x\":\"minimum_nights\",\"xanchor\":\"center\",\"y\":\"price\",\"yanchor\":\"middle\"},{\"font\":{\"size\":12},\"showarrow\":false,\"text\":\"0.01\",\"x\":\"number_of_reviews\",\"xanchor\":\"center\",\"y\":\"price\",\"yanchor\":\"middle\"},{\"font\":{\"size\":12},\"showarrow\":false,\"text\":\"-0.04\",\"x\":\"calculated_host_listings_count\",\"xanchor\":\"center\",\"y\":\"price\",\"yanchor\":\"middle\"},{\"font\":{\"size\":12},\"showarrow\":false,\"text\":\"0.13\",\"x\":\"availability_365\",\"xanchor\":\"center\",\"y\":\"price\",\"yanchor\":\"middle\"},{\"font\":{\"size\":12},\"showarrow\":false,\"text\":\"-0.18\",\"x\":\"price\",\"xanchor\":\"center\",\"y\":\"minimum_nights\",\"yanchor\":\"middle\"},{\"font\":{\"size\":12},\"showarrow\":false,\"text\":\"1.00\",\"x\":\"minimum_nights\",\"xanchor\":\"center\",\"y\":\"minimum_nights\",\"yanchor\":\"middle\"},{\"font\":{\"size\":12},\"showarrow\":false,\"text\":\"-0.25\",\"x\":\"number_of_reviews\",\"xanchor\":\"center\",\"y\":\"minimum_nights\",\"yanchor\":\"middle\"},{\"font\":{\"size\":12},\"showarrow\":false,\"text\":\"0.19\",\"x\":\"calculated_host_listings_count\",\"xanchor\":\"center\",\"y\":\"minimum_nights\",\"yanchor\":\"middle\"},{\"font\":{\"size\":12},\"showarrow\":false,\"text\":\"-0.20\",\"x\":\"availability_365\",\"xanchor\":\"center\",\"y\":\"minimum_nights\",\"yanchor\":\"middle\"},{\"font\":{\"size\":12},\"showarrow\":false,\"text\":\"0.01\",\"x\":\"price\",\"xanchor\":\"center\",\"y\":\"number_of_reviews\",\"yanchor\":\"middle\"},{\"font\":{\"size\":12},\"showarrow\":false,\"text\":\"-0.25\",\"x\":\"minimum_nights\",\"xanchor\":\"center\",\"y\":\"number_of_reviews\",\"yanchor\":\"middle\"},{\"font\":{\"size\":12},\"showarrow\":false,\"text\":\"1.00\",\"x\":\"number_of_reviews\",\"xanchor\":\"center\",\"y\":\"number_of_reviews\",\"yanchor\":\"middle\"},{\"font\":{\"size\":12},\"showarrow\":false,\"text\":\"-0.10\",\"x\":\"calculated_host_listings_count\",\"xanchor\":\"center\",\"y\":\"number_of_reviews\",\"yanchor\":\"middle\"},{\"font\":{\"size\":12},\"showarrow\":false,\"text\":\"0.07\",\"x\":\"availability_365\",\"xanchor\":\"center\",\"y\":\"number_of_reviews\",\"yanchor\":\"middle\"},{\"font\":{\"size\":12},\"showarrow\":false,\"text\":\"-0.04\",\"x\":\"price\",\"xanchor\":\"center\",\"y\":\"calculated_host_listings_count\",\"yanchor\":\"middle\"},{\"font\":{\"size\":12},\"showarrow\":false,\"text\":\"0.19\",\"x\":\"minimum_nights\",\"xanchor\":\"center\",\"y\":\"calculated_host_listings_count\",\"yanchor\":\"middle\"},{\"font\":{\"size\":12},\"showarrow\":false,\"text\":\"-0.10\",\"x\":\"number_of_reviews\",\"xanchor\":\"center\",\"y\":\"calculated_host_listings_count\",\"yanchor\":\"middle\"},{\"font\":{\"size\":12},\"showarrow\":false,\"text\":\"1.00\",\"x\":\"calculated_host_listings_count\",\"xanchor\":\"center\",\"y\":\"calculated_host_listings_count\",\"yanchor\":\"middle\"},{\"font\":{\"size\":12},\"showarrow\":false,\"text\":\"0.06\",\"x\":\"availability_365\",\"xanchor\":\"center\",\"y\":\"calculated_host_listings_count\",\"yanchor\":\"middle\"},{\"font\":{\"size\":12},\"showarrow\":false,\"text\":\"0.13\",\"x\":\"price\",\"xanchor\":\"center\",\"y\":\"availability_365\",\"yanchor\":\"middle\"},{\"font\":{\"size\":12},\"showarrow\":false,\"text\":\"-0.20\",\"x\":\"minimum_nights\",\"xanchor\":\"center\",\"y\":\"availability_365\",\"yanchor\":\"middle\"},{\"font\":{\"size\":12},\"showarrow\":false,\"text\":\"0.07\",\"x\":\"number_of_reviews\",\"xanchor\":\"center\",\"y\":\"availability_365\",\"yanchor\":\"middle\"},{\"font\":{\"size\":12},\"showarrow\":false,\"text\":\"0.06\",\"x\":\"calculated_host_listings_count\",\"xanchor\":\"center\",\"y\":\"availability_365\",\"yanchor\":\"middle\"},{\"font\":{\"size\":12},\"showarrow\":false,\"text\":\"1.00\",\"x\":\"availability_365\",\"xanchor\":\"center\",\"y\":\"availability_365\",\"yanchor\":\"middle\"}],\"title\":{\"font\":{\"size\":24},\"text\":\"Correlation Heatmap\"},\"xaxis\":{\"title\":{\"text\":\"Features\"}},\"yaxis\":{\"title\":{\"text\":\"Features\"}},\"width\":600,\"height\":600},                        {\"responsive\": true}                    ).then(function(){\n",
       "                            \n",
       "var gd = document.getElementById('16978ba9-62e7-49e9-b6e4-2da6359238f8');\n",
       "var x = new MutationObserver(function (mutations, observer) {{\n",
       "        var display = window.getComputedStyle(gd).display;\n",
       "        if (!display || display === 'none') {{\n",
       "            console.log([gd, 'removed!']);\n",
       "            Plotly.purge(gd);\n",
       "            observer.disconnect();\n",
       "        }}\n",
       "}});\n",
       "\n",
       "// Listen for the removal of the full notebook cells\n",
       "var notebookContainer = gd.closest('#notebook-container');\n",
       "if (notebookContainer) {{\n",
       "    x.observe(notebookContainer, {childList: true});\n",
       "}}\n",
       "\n",
       "// Listen for the clearing of the current output cell\n",
       "var outputEl = gd.closest('.output');\n",
       "if (outputEl) {{\n",
       "    x.observe(outputEl, {childList: true});\n",
       "}}\n",
       "\n",
       "                        })                };                });            </script>        </div>"
      ]
     },
     "metadata": {},
     "output_type": "display_data"
    }
   ],
   "source": [
    "text_values = corr.applymap(lambda x: f'{x:.2f}')\n",
    "\n",
    "# Create the heatmap using Plotly\n",
    "fig = go.Figure(data=go.Heatmap(z=corr.values,\n",
    "                                x=corr.columns,\n",
    "                                y=corr.index,\n",
    "                                colorscale='RdBu',\n",
    "                                zmin=-1,\n",
    "                                zmax=1,\n",
    "                                hoverongaps=False,\n",
    "                                text=text_values,  # Use the pre-calculated text_values for displaying correlation values\n",
    "                                hoverinfo='none'  # Disable hoverinfo to show correlation values without hovering\n",
    "                                ))\n",
    "\n",
    "# Add annotations with correlation values on each box of the heatmap\n",
    "for i, y_val in enumerate(corr.index):\n",
    "    for j, x_val in enumerate(corr.columns):\n",
    "        fig.add_annotation(\n",
    "            x=x_val,\n",
    "            y=y_val,\n",
    "            text=text_values.iloc[i, j],\n",
    "            showarrow=False,\n",
    "            font=dict(size=12),\n",
    "            xanchor='center',\n",
    "            yanchor='middle'\n",
    "        )\n",
    "\n",
    "# Customize the heatmap layout (optional)\n",
    "fig.update_layout(title_text='Correlation Heatmap',\n",
    "                  title_font_size=24,\n",
    "                  xaxis_title='Features',\n",
    "                  yaxis_title='Features',\n",
    "                  width=600,\n",
    "                  height=600)\n",
    "\n",
    "# Display the heatmap\n",
    "fig.show()"
   ]
  },
  {
   "cell_type": "code",
   "execution_count": 156,
   "id": "c3be789e",
   "metadata": {},
   "outputs": [
    {
     "data": {
      "text/plain": [
       "Text(0, 0.5, 'Price')"
      ]
     },
     "execution_count": 156,
     "metadata": {},
     "output_type": "execute_result"
    },
    {
     "data": {
      "image/png": "[encoded data removed]",
      "text/plain": [
       "<Figure size 1080x432 with 1 Axes>"
      ]
     },
     "metadata": {
      "needs_background": "light"
     },
     "output_type": "display_data"
    }
   ],
   "source": [
    "plt.figure(figsize=(15,6))\n",
    "sns.violinplot(data=new_data[new_data.price <500], x='neighbourhood_group', y='price', palette='GnBu_d')\n",
    "plt.title('Price Distribution for each neighbourhood', fontsize=15)\n",
    "plt.xlabel('Neighbourhood group')\n",
    "plt.ylabel(\"Price\")"
   ]
  },
  {
   "cell_type": "code",
   "execution_count": 157,
   "id": "adb3ee8e",
   "metadata": {},
   "outputs": [
    {
     "data": {
      "text/plain": [
       "Bedford-Stuyvesant    2992\n",
       "Williamsburg          2408\n",
       "Harlem                1963\n",
       "Bushwick              1697\n",
       "Midtown               1516\n",
       "Upper East Side       1383\n",
       "Hell's Kitchen        1366\n",
       "Upper West Side       1336\n",
       "Crown Heights         1280\n",
       "East Village          1045\n",
       "Name: neighbourhood, dtype: int64"
      ]
     },
     "execution_count": 157,
     "metadata": {},
     "output_type": "execute_result"
    }
   ],
   "source": [
    "new_data.neighbourhood.value_counts().head(10)"
   ]
  },
  {
   "cell_type": "code",
   "execution_count": 158,
   "id": "e04caa28",
   "metadata": {},
   "outputs": [
    {
     "data": {
      "image/png": "[encoded data removed]",
      "text/plain": [
       "<Figure size 1557.38x360 with 4 Axes>"
      ]
     },
     "metadata": {
      "needs_background": "light"
     },
     "output_type": "display_data"
    }
   ],
   "source": [
    "sub_7 = new_data.loc[new_data['neighbourhood'].isin(['Bedford-Stuyvesant', 'Williamsburg', 'Harlem', 'Bushwick', 'Midtown',\n",
    "                                                     'Upper East Side', 'Hell\\'s Kitchen', 'Upper West Side', 'Crown Heights', 'East Village'])]\n",
    "\n",
    "# Define a custom color palette\n",
    "custom_palette = sns.color_palette('Set1', n_colors=10)\n",
    "\n",
    "# Using catplot with the custom color palette\n",
    "viz_3 = sns.catplot(x='neighbourhood', hue='neighbourhood_group', col='room_type', data=sub_7, kind='count', palette=custom_palette)\n",
    "viz_3.set_xticklabels(rotation=90)\n",
    "\n",
    "# Adjusting plot aesthetics\n",
    "viz_3.set_axis_labels('Neighbourhood', 'Count')\n",
    "viz_3.set_titles('{col_name}')\n",
    "viz_3._legend.set_title('Neighbourhood Group')\n",
    "plt.subplots_adjust(top=0.9)  # Adjust title position\n",
    "viz_3.fig.suptitle('Neighbourhood Counts by Room Type')\n",
    "plt.show()"
   ]
  },
  {
   "cell_type": "code",
   "execution_count": 159,
   "id": "9d10715e",
   "metadata": {},
   "outputs": [
    {
     "data": {
      "image/png": "[encoded data removed]",
      "text/plain": [
       "<Figure size 1557.38x360 with 4 Axes>"
      ]
     },
     "metadata": {
      "needs_background": "light"
     },
     "output_type": "display_data"
    }
   ],
   "source": [
    "sub_7 = new_data.loc[new_data['neighbourhood'].isin(['Bedford-Stuyvesant', 'Williamsburg', 'Harlem', 'Bushwick', 'Midtown',\n",
    "                                                     'Upper East Side', 'Hell\\'s Kitchen', 'Upper West Side', 'Crown Heights', 'East Village'])]\n",
    "\n",
    "# Define a custom color palette\n",
    "custom_palette = sns.color_palette('Set1', n_colors=10)\n",
    "\n",
    "# Using catplot with the custom color palette\n",
    "viz_3 = sns.catplot(x='neighbourhood', hue='neighbourhood_group', col='room_type', data=sub_7, kind='count', palette=custom_palette)\n",
    "viz_3.set_xticklabels(rotation=90)\n",
    "\n",
    "# Adjusting plot aesthetics\n",
    "viz_3.set_axis_labels('Neighbourhood', 'Count')\n",
    "viz_3.set_titles('{col_name}')\n",
    "viz_3._legend.set_title('Neighbourhood Group')\n",
    "plt.subplots_adjust(top=0.9)  # Adjust title position\n",
    "viz_3.fig.suptitle('Neighbourhood Counts by Room Type')\n",
    "\n",
    "# Add labels for each plot\n",
    "for ax in viz_3.axes.flat:\n",
    "    for p in ax.patches:\n",
    "        height = p.get_height()\n",
    "        ax.annotate(f'{height}', (p.get_x() + p.get_width() / 2, height),\n",
    "                    ha='center', va='bottom', fontsize=10, fontweight='bold')\n",
    "\n",
    "plt.show()"
   ]
  },
  {
   "cell_type": "code",
   "execution_count": null,
   "id": "31e08474",
   "metadata": {},
   "outputs": [],
   "source": []
  },
  {
   "cell_type": "code",
   "execution_count": 160,
   "id": "749f6d92",
   "metadata": {},
   "outputs": [
    {
     "name": "stdout",
     "output_type": "stream",
     "text": [
      "Requirement already satisfied: wordcloud in /opt/anaconda3/lib/python3.9/site-packages (1.9.2)\n",
      "Requirement already satisfied: matplotlib in /opt/anaconda3/lib/python3.9/site-packages (from wordcloud) (3.4.3)\n",
      "Requirement already satisfied: pillow in /opt/anaconda3/lib/python3.9/site-packages (from wordcloud) (8.4.0)\n",
      "Requirement already satisfied: numpy>=1.6.1 in /opt/anaconda3/lib/python3.9/site-packages (from wordcloud) (1.20.3)\n",
      "Requirement already satisfied: cycler>=0.10 in /opt/anaconda3/lib/python3.9/site-packages (from matplotlib->wordcloud) (0.10.0)\n",
      "Requirement already satisfied: python-dateutil>=2.7 in /opt/anaconda3/lib/python3.9/site-packages (from matplotlib->wordcloud) (2.8.2)\n",
      "Requirement already satisfied: kiwisolver>=1.0.1 in /opt/anaconda3/lib/python3.9/site-packages (from matplotlib->wordcloud) (1.3.1)\n",
      "Requirement already satisfied: pyparsing>=2.2.1 in /opt/anaconda3/lib/python3.9/site-packages (from matplotlib->wordcloud) (3.0.4)\n",
      "Requirement already satisfied: six in /opt/anaconda3/lib/python3.9/site-packages (from cycler>=0.10->matplotlib->wordcloud) (1.16.0)\n",
      "Note: you may need to restart the kernel to use updated packages.\n"
     ]
    }
   ],
   "source": [
    "pip install wordcloud"
   ]
  },
  {
   "cell_type": "code",
   "execution_count": 161,
   "id": "d0780d91",
   "metadata": {},
   "outputs": [
    {
     "name": "stdout",
     "output_type": "stream",
     "text": [
      "Top 25 most occurring words in the 'name' column:\n",
      "1: 84361\n",
      "in: 39070\n",
      "bath: 32846\n",
      "rental: 28056\n",
      "unit: 28056\n",
      "bedroom: 26652\n",
      "bed: 24948\n",
      "2: 17490\n",
      "new: 17255\n",
      "york: 15369\n",
      "brooklyn: 15012\n",
      "beds: 13512\n",
      "shared: 11733\n",
      "bedrooms: 9182\n",
      "baths: 6111\n",
      "queens: 6061\n",
      "3: 5699\n",
      "50: 4631\n",
      "home: 4183\n",
      "studio: 3198\n",
      "private: 2727\n",
      "4: 1970\n",
      "condo: 1925\n",
      "15: 1797\n",
      "townhouse: 1652\n"
     ]
    },
    {
     "data": {
      "image/png": "[encoded data removed]",
      "text/plain": [
       "<Figure size 864x432 with 1 Axes>"
      ]
     },
     "metadata": {
      "needs_background": "light"
     },
     "output_type": "display_data"
    }
   ],
   "source": [
    "import re\n",
    "from collections import Counter\n",
    "\n",
    "\n",
    "# Assuming you have the data loaded into a DataFrame called 'data'\n",
    "# Replace 'name' with the actual column name in your dataset\n",
    "# Example: data['your_column_name']\n",
    "\n",
    "# Step 1: Preprocess the text\n",
    "def preprocess_text(text):\n",
    "    text = text.lower()  # Convert to lowercase\n",
    "    text = re.sub(r'[^\\w\\s]', '', text)  # Remove punctuation\n",
    "    return text\n",
    "\n",
    "# Apply the preprocessing to the 'name' column\n",
    "new_data['name'] = new_data['name'].apply(preprocess_text)\n",
    "\n",
    "# Step 2: Tokenize the text\n",
    "all_words = ' '.join(new_data['name']).split()\n",
    "\n",
    "# Step 3: Count the occurrences of each word\n",
    "word_counts = Counter(all_words)\n",
    "\n",
    "# Step 4: Sort and display the top 25 words\n",
    "top_25_words = word_counts.most_common(25)\n",
    "print(\"Top 25 most occurring words in the 'name' column:\")\n",
    "for word, count in top_25_words:\n",
    "    print(f\"{word}: {count}\")\n",
    "\n",
    "# Optionally, you can also create a bar plot to visualize the top 25 words\n",
    "top_words_df = pd.DataFrame(top_25_words, columns=['Word', 'Count'])\n",
    "plt.figure(figsize=(12, 6))\n",
    "sns.barplot(x='Count', y='Word', data=top_words_df, palette='viridis')\n",
    "plt.xlabel('Count')\n",
    "plt.ylabel('Word')\n",
    "plt.title('Top 25 Most Occurring Words in the \"name\" Column')\n",
    "plt.show()\n"
   ]
  },
  {
   "cell_type": "code",
   "execution_count": 218,
   "id": "25039957",
   "metadata": {},
   "outputs": [
    {
     "data": {
      "image/png": "[encoded data removed]",
      "text/plain": [
       "<Figure size 864x432 with 1 Axes>"
      ]
     },
     "metadata": {
      "needs_background": "light"
     },
     "output_type": "display_data"
    }
   ],
   "source": [
    "import re\n",
    "from collections import Counter\n",
    "\n",
    "# ... (Your existing code for preprocessing and counting word occurrences)\n",
    "\n",
    "# Optionally, you can also create a bar plot to visualize the top 25 words\n",
    "top_words_df = pd.DataFrame(top_25_words, columns=['Word', 'Count'])\n",
    "plt.figure(figsize=(12, 6))\n",
    "sns.barplot(x='Count', y='Word', data=top_words_df, palette='viridis')\n",
    "plt.xlabel('Count')\n",
    "plt.ylabel('Word')\n",
    "plt.title('Top 25 Most Occurring Words in the \"name\" Column')\n",
    "\n",
    "# Add labels to the bars\n",
    "for index, value in enumerate(top_words_df['Count']):\n",
    "    plt.text(value + 50, index, str(value), va='center')\n",
    "\n",
    "plt.show()\n"
   ]
  },
  {
   "cell_type": "code",
   "execution_count": 231,
   "id": "4f8963ef",
   "metadata": {},
   "outputs": [],
   "source": [
    "pred = new_data"
   ]
  },
  {
   "cell_type": "code",
   "execution_count": 232,
   "id": "b1347cb1",
   "metadata": {},
   "outputs": [
    {
     "data": {
      "text/html": [
       "<div>\n",
       "<style scoped>\n",
       "    .dataframe tbody tr th:only-of-type {\n",
       "        vertical-align: middle;\n",
       "    }\n",
       "\n",
       "    .dataframe tbody tr th {\n",
       "        vertical-align: top;\n",
       "    }\n",
       "\n",
       "    .dataframe thead th {\n",
       "        text-align: right;\n",
       "    }\n",
       "</style>\n",
       "<table border=\"1\" class=\"dataframe\">\n",
       "  <thead>\n",
       "    <tr style=\"text-align: right;\">\n",
       "      <th></th>\n",
       "      <th>host_id</th>\n",
       "      <th>neighbourhood_group</th>\n",
       "      <th>neighbourhood</th>\n",
       "      <th>latitude</th>\n",
       "      <th>longitude</th>\n",
       "      <th>room_type</th>\n",
       "      <th>price</th>\n",
       "      <th>minimum_nights</th>\n",
       "      <th>number_of_reviews</th>\n",
       "      <th>calculated_host_listings_count</th>\n",
       "      <th>availability_365</th>\n",
       "      <th>number_of_reviews_ltm</th>\n",
       "    </tr>\n",
       "  </thead>\n",
       "  <tbody>\n",
       "    <tr>\n",
       "      <th>15502</th>\n",
       "      <td>1542506</td>\n",
       "      <td>2</td>\n",
       "      <td>95</td>\n",
       "      <td>40.81766</td>\n",
       "      <td>-73.94472</td>\n",
       "      <td>2</td>\n",
       "      <td>10</td>\n",
       "      <td>30</td>\n",
       "      <td>4</td>\n",
       "      <td>1</td>\n",
       "      <td>0</td>\n",
       "      <td>0</td>\n",
       "    </tr>\n",
       "    <tr>\n",
       "      <th>21219</th>\n",
       "      <td>33620899</td>\n",
       "      <td>3</td>\n",
       "      <td>221</td>\n",
       "      <td>40.74909</td>\n",
       "      <td>-73.89678</td>\n",
       "      <td>0</td>\n",
       "      <td>10</td>\n",
       "      <td>30</td>\n",
       "      <td>0</td>\n",
       "      <td>1</td>\n",
       "      <td>0</td>\n",
       "      <td>0</td>\n",
       "    </tr>\n",
       "    <tr>\n",
       "      <th>10608</th>\n",
       "      <td>151547086</td>\n",
       "      <td>0</td>\n",
       "      <td>148</td>\n",
       "      <td>40.87553</td>\n",
       "      <td>-73.88601</td>\n",
       "      <td>2</td>\n",
       "      <td>10</td>\n",
       "      <td>3</td>\n",
       "      <td>24</td>\n",
       "      <td>1</td>\n",
       "      <td>0</td>\n",
       "      <td>0</td>\n",
       "    </tr>\n",
       "    <tr>\n",
       "      <th>1048</th>\n",
       "      <td>5707409</td>\n",
       "      <td>2</td>\n",
       "      <td>202</td>\n",
       "      <td>40.76915</td>\n",
       "      <td>-73.95636</td>\n",
       "      <td>0</td>\n",
       "      <td>10</td>\n",
       "      <td>30</td>\n",
       "      <td>272</td>\n",
       "      <td>1</td>\n",
       "      <td>236</td>\n",
       "      <td>4</td>\n",
       "    </tr>\n",
       "    <tr>\n",
       "      <th>9224</th>\n",
       "      <td>62685070</td>\n",
       "      <td>1</td>\n",
       "      <td>27</td>\n",
       "      <td>40.69979</td>\n",
       "      <td>-73.92120</td>\n",
       "      <td>2</td>\n",
       "      <td>10</td>\n",
       "      <td>30</td>\n",
       "      <td>0</td>\n",
       "      <td>1</td>\n",
       "      <td>0</td>\n",
       "      <td>0</td>\n",
       "    </tr>\n",
       "  </tbody>\n",
       "</table>\n",
       "</div>"
      ],
      "text/plain": [
       "         host_id  neighbourhood_group  neighbourhood  latitude  longitude  \\\n",
       "15502    1542506                    2             95  40.81766  -73.94472   \n",
       "21219   33620899                    3            221  40.74909  -73.89678   \n",
       "10608  151547086                    0            148  40.87553  -73.88601   \n",
       "1048     5707409                    2            202  40.76915  -73.95636   \n",
       "9224    62685070                    1             27  40.69979  -73.92120   \n",
       "\n",
       "       room_type  price  minimum_nights  number_of_reviews  \\\n",
       "15502          2     10              30                  4   \n",
       "21219          0     10              30                  0   \n",
       "10608          2     10               3                 24   \n",
       "1048           0     10              30                272   \n",
       "9224           2     10              30                  0   \n",
       "\n",
       "       calculated_host_listings_count  availability_365  number_of_reviews_ltm  \n",
       "15502                               1                 0                      0  \n",
       "21219                               1                 0                      0  \n",
       "10608                               1                 0                      0  \n",
       "1048                                1               236                      4  \n",
       "9224                                1                 0                      0  "
      ]
     },
     "execution_count": 232,
     "metadata": {},
     "output_type": "execute_result"
    }
   ],
   "source": [
    "pred.head(5)"
   ]
  },
  {
   "cell_type": "code",
   "execution_count": 234,
   "id": "2f3ae2d3",
   "metadata": {},
   "outputs": [],
   "source": [
    "#pred.drop(['name', 'host_name','id'], inplace=True, axis=1)"
   ]
  },
  {
   "cell_type": "code",
   "execution_count": 235,
   "id": "98812aa5",
   "metadata": {},
   "outputs": [
    {
     "data": {
      "text/html": [
       "<div>\n",
       "<style scoped>\n",
       "    .dataframe tbody tr th:only-of-type {\n",
       "        vertical-align: middle;\n",
       "    }\n",
       "\n",
       "    .dataframe tbody tr th {\n",
       "        vertical-align: top;\n",
       "    }\n",
       "\n",
       "    .dataframe thead th {\n",
       "        text-align: right;\n",
       "    }\n",
       "</style>\n",
       "<table border=\"1\" class=\"dataframe\">\n",
       "  <thead>\n",
       "    <tr style=\"text-align: right;\">\n",
       "      <th></th>\n",
       "      <th>host_id</th>\n",
       "      <th>neighbourhood_group</th>\n",
       "      <th>neighbourhood</th>\n",
       "      <th>latitude</th>\n",
       "      <th>longitude</th>\n",
       "      <th>room_type</th>\n",
       "      <th>price</th>\n",
       "      <th>minimum_nights</th>\n",
       "      <th>number_of_reviews</th>\n",
       "      <th>calculated_host_listings_count</th>\n",
       "      <th>availability_365</th>\n",
       "      <th>number_of_reviews_ltm</th>\n",
       "    </tr>\n",
       "  </thead>\n",
       "  <tbody>\n",
       "    <tr>\n",
       "      <th>15502</th>\n",
       "      <td>1542506</td>\n",
       "      <td>2</td>\n",
       "      <td>95</td>\n",
       "      <td>40.81766</td>\n",
       "      <td>-73.94472</td>\n",
       "      <td>2</td>\n",
       "      <td>10</td>\n",
       "      <td>30</td>\n",
       "      <td>4</td>\n",
       "      <td>1</td>\n",
       "      <td>0</td>\n",
       "      <td>0</td>\n",
       "    </tr>\n",
       "    <tr>\n",
       "      <th>21219</th>\n",
       "      <td>33620899</td>\n",
       "      <td>3</td>\n",
       "      <td>221</td>\n",
       "      <td>40.74909</td>\n",
       "      <td>-73.89678</td>\n",
       "      <td>0</td>\n",
       "      <td>10</td>\n",
       "      <td>30</td>\n",
       "      <td>0</td>\n",
       "      <td>1</td>\n",
       "      <td>0</td>\n",
       "      <td>0</td>\n",
       "    </tr>\n",
       "    <tr>\n",
       "      <th>10608</th>\n",
       "      <td>151547086</td>\n",
       "      <td>0</td>\n",
       "      <td>148</td>\n",
       "      <td>40.87553</td>\n",
       "      <td>-73.88601</td>\n",
       "      <td>2</td>\n",
       "      <td>10</td>\n",
       "      <td>3</td>\n",
       "      <td>24</td>\n",
       "      <td>1</td>\n",
       "      <td>0</td>\n",
       "      <td>0</td>\n",
       "    </tr>\n",
       "    <tr>\n",
       "      <th>1048</th>\n",
       "      <td>5707409</td>\n",
       "      <td>2</td>\n",
       "      <td>202</td>\n",
       "      <td>40.76915</td>\n",
       "      <td>-73.95636</td>\n",
       "      <td>0</td>\n",
       "      <td>10</td>\n",
       "      <td>30</td>\n",
       "      <td>272</td>\n",
       "      <td>1</td>\n",
       "      <td>236</td>\n",
       "      <td>4</td>\n",
       "    </tr>\n",
       "    <tr>\n",
       "      <th>9224</th>\n",
       "      <td>62685070</td>\n",
       "      <td>1</td>\n",
       "      <td>27</td>\n",
       "      <td>40.69979</td>\n",
       "      <td>-73.92120</td>\n",
       "      <td>2</td>\n",
       "      <td>10</td>\n",
       "      <td>30</td>\n",
       "      <td>0</td>\n",
       "      <td>1</td>\n",
       "      <td>0</td>\n",
       "      <td>0</td>\n",
       "    </tr>\n",
       "  </tbody>\n",
       "</table>\n",
       "</div>"
      ],
      "text/plain": [
       "         host_id  neighbourhood_group  neighbourhood  latitude  longitude  \\\n",
       "15502    1542506                    2             95  40.81766  -73.94472   \n",
       "21219   33620899                    3            221  40.74909  -73.89678   \n",
       "10608  151547086                    0            148  40.87553  -73.88601   \n",
       "1048     5707409                    2            202  40.76915  -73.95636   \n",
       "9224    62685070                    1             27  40.69979  -73.92120   \n",
       "\n",
       "       room_type  price  minimum_nights  number_of_reviews  \\\n",
       "15502          2     10              30                  4   \n",
       "21219          0     10              30                  0   \n",
       "10608          2     10               3                 24   \n",
       "1048           0     10              30                272   \n",
       "9224           2     10              30                  0   \n",
       "\n",
       "       calculated_host_listings_count  availability_365  number_of_reviews_ltm  \n",
       "15502                               1                 0                      0  \n",
       "21219                               1                 0                      0  \n",
       "10608                               1                 0                      0  \n",
       "1048                                1               236                      4  \n",
       "9224                                1                 0                      0  "
      ]
     },
     "execution_count": 235,
     "metadata": {},
     "output_type": "execute_result"
    }
   ],
   "source": [
    "pred.head(5)"
   ]
  },
  {
   "cell_type": "code",
   "execution_count": 236,
   "id": "e6bb46b2",
   "metadata": {},
   "outputs": [],
   "source": [
    "from sklearn import preprocessing\n",
    "from sklearn.linear_model import LinearRegression\n",
    "from sklearn.model_selection import train_test_split\n",
    "from sklearn import metrics\n",
    "\n",
    "le = preprocessing.LabelEncoder()\n",
    "\n",
    "le.fit(pred['neighbourhood_group'])\n",
    "pred['neighbourhood_group']=le.transform(pred['neighbourhood_group'])\n",
    "\n",
    "le.fit(pred['neighbourhood'])\n",
    "pred['neighbourhood']=le.transform(pred['neighbourhood'])\n",
    "\n",
    "le.fit(pred['room_type'])\n",
    "pred['room_type']=le.transform(pred['room_type'])"
   ]
  },
  {
   "cell_type": "code",
   "execution_count": 237,
   "id": "2a4b0683",
   "metadata": {},
   "outputs": [],
   "source": [
    "pred.sort_values('price', ascending=True, inplace=True)"
   ]
  },
  {
   "cell_type": "code",
   "execution_count": 238,
   "id": "5a8eb9ce",
   "metadata": {},
   "outputs": [],
   "source": [
    "lm = LinearRegression()"
   ]
  },
  {
   "cell_type": "code",
   "execution_count": 239,
   "id": "f9469e70",
   "metadata": {},
   "outputs": [],
   "source": [
    "pred = pred[11:-6]"
   ]
  },
  {
   "cell_type": "code",
   "execution_count": 240,
   "id": "d484f112",
   "metadata": {},
   "outputs": [
    {
     "data": {
      "text/plain": [
       "LinearRegression()"
      ]
     },
     "execution_count": 240,
     "metadata": {},
     "output_type": "execute_result"
    }
   ],
   "source": [
    "X = pred.drop(['price'], inplace=False, axis=1)\n",
    "y = pred['price']\n",
    "\n",
    "X_train, X_test, y_train, y_test = train_test_split(X, y, test_size=0.2, random_state=101)\n",
    "\n",
    "lm.fit(X_train, y_train)"
   ]
  },
  {
   "cell_type": "code",
   "execution_count": 241,
   "id": "59e749c1",
   "metadata": {},
   "outputs": [],
   "source": [
    "predictions = lm.predict(X_test)"
   ]
  },
  {
   "cell_type": "code",
   "execution_count": 242,
   "id": "6b6f0b0a",
   "metadata": {},
   "outputs": [
    {
     "name": "stdout",
     "output_type": "stream",
     "text": [
      "MAE (Mean Absolute Error): 58.614096776263665\n",
      "MSE (Mean Squared Error): 6577.082606111642\n",
      "RMSE (Root mean squared error): 81.09921458381481\n",
      "R2 score: 0.354382833460982\n"
     ]
    }
   ],
   "source": [
    "mae = metrics.mean_absolute_error(y_test, predictions)\n",
    "mse = metrics.mean_squared_error(y_test, predictions)\n",
    "rmse = np.sqrt(metrics.mean_squared_error(y_test, predictions))\n",
    "r2 = metrics.r2_score(y_test, predictions)\n",
    "\n",
    "print('MAE (Mean Absolute Error): %s' %mae)\n",
    "print('MSE (Mean Squared Error): %s' %mse)\n",
    "print('RMSE (Root mean squared error): %s' %rmse)\n",
    "print('R2 score: %s' %r2)"
   ]
  },
  {
   "cell_type": "code",
   "execution_count": 243,
   "id": "806615d3",
   "metadata": {},
   "outputs": [
    {
     "data": {
      "text/html": [
       "<div>\n",
       "<style scoped>\n",
       "    .dataframe tbody tr th:only-of-type {\n",
       "        vertical-align: middle;\n",
       "    }\n",
       "\n",
       "    .dataframe tbody tr th {\n",
       "        vertical-align: top;\n",
       "    }\n",
       "\n",
       "    .dataframe thead th {\n",
       "        text-align: right;\n",
       "    }\n",
       "</style>\n",
       "<table border=\"1\" class=\"dataframe\">\n",
       "  <thead>\n",
       "    <tr style=\"text-align: right;\">\n",
       "      <th></th>\n",
       "      <th>Actual Values</th>\n",
       "      <th>Predicted Values</th>\n",
       "    </tr>\n",
       "  </thead>\n",
       "  <tbody>\n",
       "    <tr>\n",
       "      <th>0</th>\n",
       "      <td>38</td>\n",
       "      <td>117.919293</td>\n",
       "    </tr>\n",
       "    <tr>\n",
       "      <th>1</th>\n",
       "      <td>108</td>\n",
       "      <td>177.335611</td>\n",
       "    </tr>\n",
       "    <tr>\n",
       "      <th>2</th>\n",
       "      <td>84</td>\n",
       "      <td>110.135673</td>\n",
       "    </tr>\n",
       "    <tr>\n",
       "      <th>3</th>\n",
       "      <td>85</td>\n",
       "      <td>88.827237</td>\n",
       "    </tr>\n",
       "    <tr>\n",
       "      <th>4</th>\n",
       "      <td>159</td>\n",
       "      <td>232.307408</td>\n",
       "    </tr>\n",
       "    <tr>\n",
       "      <th>5</th>\n",
       "      <td>125</td>\n",
       "      <td>111.306178</td>\n",
       "    </tr>\n",
       "    <tr>\n",
       "      <th>6</th>\n",
       "      <td>474</td>\n",
       "      <td>156.831821</td>\n",
       "    </tr>\n",
       "    <tr>\n",
       "      <th>7</th>\n",
       "      <td>70</td>\n",
       "      <td>98.048477</td>\n",
       "    </tr>\n",
       "    <tr>\n",
       "      <th>8</th>\n",
       "      <td>103</td>\n",
       "      <td>183.059585</td>\n",
       "    </tr>\n",
       "    <tr>\n",
       "      <th>9</th>\n",
       "      <td>47</td>\n",
       "      <td>96.288610</td>\n",
       "    </tr>\n",
       "    <tr>\n",
       "      <th>10</th>\n",
       "      <td>153</td>\n",
       "      <td>190.929794</td>\n",
       "    </tr>\n",
       "    <tr>\n",
       "      <th>11</th>\n",
       "      <td>185</td>\n",
       "      <td>164.402748</td>\n",
       "    </tr>\n",
       "    <tr>\n",
       "      <th>12</th>\n",
       "      <td>99</td>\n",
       "      <td>227.183417</td>\n",
       "    </tr>\n",
       "    <tr>\n",
       "      <th>13</th>\n",
       "      <td>75</td>\n",
       "      <td>24.645752</td>\n",
       "    </tr>\n",
       "    <tr>\n",
       "      <th>14</th>\n",
       "      <td>95</td>\n",
       "      <td>126.095736</td>\n",
       "    </tr>\n",
       "    <tr>\n",
       "      <th>15</th>\n",
       "      <td>191</td>\n",
       "      <td>263.002930</td>\n",
       "    </tr>\n",
       "    <tr>\n",
       "      <th>16</th>\n",
       "      <td>195</td>\n",
       "      <td>241.900049</td>\n",
       "    </tr>\n",
       "    <tr>\n",
       "      <th>17</th>\n",
       "      <td>32</td>\n",
       "      <td>81.952204</td>\n",
       "    </tr>\n",
       "    <tr>\n",
       "      <th>18</th>\n",
       "      <td>125</td>\n",
       "      <td>191.850134</td>\n",
       "    </tr>\n",
       "    <tr>\n",
       "      <th>19</th>\n",
       "      <td>32</td>\n",
       "      <td>62.356625</td>\n",
       "    </tr>\n",
       "  </tbody>\n",
       "</table>\n",
       "</div>"
      ],
      "text/plain": [
       "    Actual Values  Predicted Values\n",
       "0              38        117.919293\n",
       "1             108        177.335611\n",
       "2              84        110.135673\n",
       "3              85         88.827237\n",
       "4             159        232.307408\n",
       "5             125        111.306178\n",
       "6             474        156.831821\n",
       "7              70         98.048477\n",
       "8             103        183.059585\n",
       "9              47         96.288610\n",
       "10            153        190.929794\n",
       "11            185        164.402748\n",
       "12             99        227.183417\n",
       "13             75         24.645752\n",
       "14             95        126.095736\n",
       "15            191        263.002930\n",
       "16            195        241.900049\n",
       "17             32         81.952204\n",
       "18            125        191.850134\n",
       "19             32         62.356625"
      ]
     },
     "execution_count": 243,
     "metadata": {},
     "output_type": "execute_result"
    }
   ],
   "source": [
    "error = pd.DataFrame({'Actual Values': np.array(y_test).flatten(), 'Predicted Values': predictions.flatten()})\n",
    "error.head(20)"
   ]
  },
  {
   "cell_type": "code",
   "execution_count": 244,
   "id": "441f395f",
   "metadata": {},
   "outputs": [
    {
     "data": {
      "text/plain": [
       "Text(0, 0.5, 'Test')"
      ]
     },
     "execution_count": 244,
     "metadata": {},
     "output_type": "execute_result"
    },
    {
     "data": {
      "image/png": "[encoded data removed]",
      "text/plain": [
       "<Figure size 1080x504 with 1 Axes>"
      ]
     },
     "metadata": {
      "needs_background": "light"
     },
     "output_type": "display_data"
    }
   ],
   "source": [
    "plt.figure(figsize=(15,7))\n",
    "plt.xlim(-10,350)\n",
    "sns.regplot(y=y_test, x=predictions, color='blue')\n",
    "plt.title('Evaluated predictions', fontsize=15)\n",
    "plt.xlabel('Predictions')\n",
    "plt.ylabel('Test')"
   ]
  },
  {
   "cell_type": "code",
   "execution_count": 245,
   "id": "4d1aeab8",
   "metadata": {},
   "outputs": [],
   "source": [
    "pred1 = pd.read_csv('http://data.insideairbnb.com/united-states/ny/new-york-city/2023-06-05/visualisations/listings.csv')"
   ]
  },
  {
   "cell_type": "code",
   "execution_count": 246,
   "id": "9a968507",
   "metadata": {},
   "outputs": [
    {
     "data": {
      "text/html": [
       "<div>\n",
       "<style scoped>\n",
       "    .dataframe tbody tr th:only-of-type {\n",
       "        vertical-align: middle;\n",
       "    }\n",
       "\n",
       "    .dataframe tbody tr th {\n",
       "        vertical-align: top;\n",
       "    }\n",
       "\n",
       "    .dataframe thead th {\n",
       "        text-align: right;\n",
       "    }\n",
       "</style>\n",
       "<table border=\"1\" class=\"dataframe\">\n",
       "  <thead>\n",
       "    <tr style=\"text-align: right;\">\n",
       "      <th></th>\n",
       "      <th>id</th>\n",
       "      <th>name</th>\n",
       "      <th>host_id</th>\n",
       "      <th>host_name</th>\n",
       "      <th>neighbourhood_group</th>\n",
       "      <th>neighbourhood</th>\n",
       "      <th>latitude</th>\n",
       "      <th>longitude</th>\n",
       "      <th>room_type</th>\n",
       "      <th>price</th>\n",
       "      <th>minimum_nights</th>\n",
       "      <th>number_of_reviews</th>\n",
       "      <th>last_review</th>\n",
       "      <th>reviews_per_month</th>\n",
       "      <th>calculated_host_listings_count</th>\n",
       "      <th>availability_365</th>\n",
       "      <th>number_of_reviews_ltm</th>\n",
       "      <th>license</th>\n",
       "    </tr>\n",
       "  </thead>\n",
       "  <tbody>\n",
       "    <tr>\n",
       "      <th>0</th>\n",
       "      <td>5121</td>\n",
       "      <td>Rental unit in Brooklyn · ★4.52 · 1 bedroom · ...</td>\n",
       "      <td>7356</td>\n",
       "      <td>Garon</td>\n",
       "      <td>Brooklyn</td>\n",
       "      <td>Bedford-Stuyvesant</td>\n",
       "      <td>40.68535</td>\n",
       "      <td>-73.95512</td>\n",
       "      <td>Private room</td>\n",
       "      <td>60</td>\n",
       "      <td>30</td>\n",
       "      <td>50</td>\n",
       "      <td>2019-12-02</td>\n",
       "      <td>0.29</td>\n",
       "      <td>2</td>\n",
       "      <td>0</td>\n",
       "      <td>0</td>\n",
       "      <td>NaN</td>\n",
       "    </tr>\n",
       "    <tr>\n",
       "      <th>1</th>\n",
       "      <td>2595</td>\n",
       "      <td>Rental unit in New York · ★4.68 · Studio · 1 b...</td>\n",
       "      <td>2845</td>\n",
       "      <td>Jennifer</td>\n",
       "      <td>Manhattan</td>\n",
       "      <td>Midtown</td>\n",
       "      <td>40.75356</td>\n",
       "      <td>-73.98559</td>\n",
       "      <td>Entire home/apt</td>\n",
       "      <td>240</td>\n",
       "      <td>30</td>\n",
       "      <td>49</td>\n",
       "      <td>2022-06-21</td>\n",
       "      <td>0.30</td>\n",
       "      <td>3</td>\n",
       "      <td>325</td>\n",
       "      <td>1</td>\n",
       "      <td>NaN</td>\n",
       "    </tr>\n",
       "    <tr>\n",
       "      <th>2</th>\n",
       "      <td>14991</td>\n",
       "      <td>Rental unit in New York · ★4.93 · 1 bedroom · ...</td>\n",
       "      <td>59023</td>\n",
       "      <td>Bianca</td>\n",
       "      <td>Manhattan</td>\n",
       "      <td>Lower East Side</td>\n",
       "      <td>40.72207</td>\n",
       "      <td>-73.98976</td>\n",
       "      <td>Private room</td>\n",
       "      <td>120</td>\n",
       "      <td>5</td>\n",
       "      <td>22</td>\n",
       "      <td>2023-05-14</td>\n",
       "      <td>0.14</td>\n",
       "      <td>1</td>\n",
       "      <td>268</td>\n",
       "      <td>3</td>\n",
       "      <td>NaN</td>\n",
       "    </tr>\n",
       "    <tr>\n",
       "      <th>3</th>\n",
       "      <td>5136</td>\n",
       "      <td>Rental unit in Brooklyn · ★5.0 · 2 bedrooms · ...</td>\n",
       "      <td>7378</td>\n",
       "      <td>Rebecca</td>\n",
       "      <td>Brooklyn</td>\n",
       "      <td>Sunset Park</td>\n",
       "      <td>40.66265</td>\n",
       "      <td>-73.99454</td>\n",
       "      <td>Entire home/apt</td>\n",
       "      <td>276</td>\n",
       "      <td>21</td>\n",
       "      <td>3</td>\n",
       "      <td>2022-08-10</td>\n",
       "      <td>0.03</td>\n",
       "      <td>1</td>\n",
       "      <td>275</td>\n",
       "      <td>1</td>\n",
       "      <td>NaN</td>\n",
       "    </tr>\n",
       "    <tr>\n",
       "      <th>4</th>\n",
       "      <td>59709</td>\n",
       "      <td>Rental unit in New York · ★4.77 · 2 bedrooms ·...</td>\n",
       "      <td>186084</td>\n",
       "      <td>Ricardo &amp; Ashlie</td>\n",
       "      <td>Manhattan</td>\n",
       "      <td>Chinatown</td>\n",
       "      <td>40.71780</td>\n",
       "      <td>-73.99320</td>\n",
       "      <td>Entire home/apt</td>\n",
       "      <td>325</td>\n",
       "      <td>7</td>\n",
       "      <td>69</td>\n",
       "      <td>2023-04-28</td>\n",
       "      <td>0.47</td>\n",
       "      <td>1</td>\n",
       "      <td>38</td>\n",
       "      <td>23</td>\n",
       "      <td>NaN</td>\n",
       "    </tr>\n",
       "  </tbody>\n",
       "</table>\n",
       "</div>"
      ],
      "text/plain": [
       "      id                                               name  host_id  \\\n",
       "0   5121  Rental unit in Brooklyn · ★4.52 · 1 bedroom · ...     7356   \n",
       "1   2595  Rental unit in New York · ★4.68 · Studio · 1 b...     2845   \n",
       "2  14991  Rental unit in New York · ★4.93 · 1 bedroom · ...    59023   \n",
       "3   5136  Rental unit in Brooklyn · ★5.0 · 2 bedrooms · ...     7378   \n",
       "4  59709  Rental unit in New York · ★4.77 · 2 bedrooms ·...   186084   \n",
       "\n",
       "          host_name neighbourhood_group       neighbourhood  latitude  \\\n",
       "0             Garon            Brooklyn  Bedford-Stuyvesant  40.68535   \n",
       "1          Jennifer           Manhattan             Midtown  40.75356   \n",
       "2            Bianca           Manhattan     Lower East Side  40.72207   \n",
       "3           Rebecca            Brooklyn         Sunset Park  40.66265   \n",
       "4  Ricardo & Ashlie           Manhattan           Chinatown  40.71780   \n",
       "\n",
       "   longitude        room_type  price  minimum_nights  number_of_reviews  \\\n",
       "0  -73.95512     Private room     60              30                 50   \n",
       "1  -73.98559  Entire home/apt    240              30                 49   \n",
       "2  -73.98976     Private room    120               5                 22   \n",
       "3  -73.99454  Entire home/apt    276              21                  3   \n",
       "4  -73.99320  Entire home/apt    325               7                 69   \n",
       "\n",
       "  last_review  reviews_per_month  calculated_host_listings_count  \\\n",
       "0  2019-12-02               0.29                               2   \n",
       "1  2022-06-21               0.30                               3   \n",
       "2  2023-05-14               0.14                               1   \n",
       "3  2022-08-10               0.03                               1   \n",
       "4  2023-04-28               0.47                               1   \n",
       "\n",
       "   availability_365  number_of_reviews_ltm  license  \n",
       "0                 0                      0      NaN  \n",
       "1               325                      1      NaN  \n",
       "2               268                      3      NaN  \n",
       "3               275                      1      NaN  \n",
       "4                38                     23      NaN  "
      ]
     },
     "execution_count": 246,
     "metadata": {},
     "output_type": "execute_result"
    }
   ],
   "source": [
    "pred1.head(5)"
   ]
  },
  {
   "cell_type": "code",
   "execution_count": 247,
   "id": "7b430759",
   "metadata": {},
   "outputs": [],
   "source": [
    "pred1['reviews_per_month'] = pred1['reviews_per_month'].fillna(value=0, inplace=False)"
   ]
  },
  {
   "cell_type": "code",
   "execution_count": 248,
   "id": "6e018fb8",
   "metadata": {},
   "outputs": [
    {
     "data": {
      "text/html": [
       "<div>\n",
       "<style scoped>\n",
       "    .dataframe tbody tr th:only-of-type {\n",
       "        vertical-align: middle;\n",
       "    }\n",
       "\n",
       "    .dataframe tbody tr th {\n",
       "        vertical-align: top;\n",
       "    }\n",
       "\n",
       "    .dataframe thead th {\n",
       "        text-align: right;\n",
       "    }\n",
       "</style>\n",
       "<table border=\"1\" class=\"dataframe\">\n",
       "  <thead>\n",
       "    <tr style=\"text-align: right;\">\n",
       "      <th></th>\n",
       "      <th>id</th>\n",
       "      <th>name</th>\n",
       "      <th>host_id</th>\n",
       "      <th>host_name</th>\n",
       "      <th>neighbourhood_group</th>\n",
       "      <th>neighbourhood</th>\n",
       "      <th>latitude</th>\n",
       "      <th>longitude</th>\n",
       "      <th>room_type</th>\n",
       "      <th>price</th>\n",
       "      <th>minimum_nights</th>\n",
       "      <th>number_of_reviews</th>\n",
       "      <th>last_review</th>\n",
       "      <th>reviews_per_month</th>\n",
       "      <th>calculated_host_listings_count</th>\n",
       "      <th>availability_365</th>\n",
       "      <th>number_of_reviews_ltm</th>\n",
       "      <th>license</th>\n",
       "    </tr>\n",
       "  </thead>\n",
       "  <tbody>\n",
       "    <tr>\n",
       "      <th>0</th>\n",
       "      <td>5121</td>\n",
       "      <td>Rental unit in Brooklyn · ★4.52 · 1 bedroom · ...</td>\n",
       "      <td>7356</td>\n",
       "      <td>Garon</td>\n",
       "      <td>Brooklyn</td>\n",
       "      <td>Bedford-Stuyvesant</td>\n",
       "      <td>40.68535</td>\n",
       "      <td>-73.95512</td>\n",
       "      <td>Private room</td>\n",
       "      <td>60</td>\n",
       "      <td>30</td>\n",
       "      <td>50</td>\n",
       "      <td>2019-12-02</td>\n",
       "      <td>0.29</td>\n",
       "      <td>2</td>\n",
       "      <td>0</td>\n",
       "      <td>0</td>\n",
       "      <td>NaN</td>\n",
       "    </tr>\n",
       "    <tr>\n",
       "      <th>1</th>\n",
       "      <td>2595</td>\n",
       "      <td>Rental unit in New York · ★4.68 · Studio · 1 b...</td>\n",
       "      <td>2845</td>\n",
       "      <td>Jennifer</td>\n",
       "      <td>Manhattan</td>\n",
       "      <td>Midtown</td>\n",
       "      <td>40.75356</td>\n",
       "      <td>-73.98559</td>\n",
       "      <td>Entire home/apt</td>\n",
       "      <td>240</td>\n",
       "      <td>30</td>\n",
       "      <td>49</td>\n",
       "      <td>2022-06-21</td>\n",
       "      <td>0.30</td>\n",
       "      <td>3</td>\n",
       "      <td>325</td>\n",
       "      <td>1</td>\n",
       "      <td>NaN</td>\n",
       "    </tr>\n",
       "    <tr>\n",
       "      <th>2</th>\n",
       "      <td>14991</td>\n",
       "      <td>Rental unit in New York · ★4.93 · 1 bedroom · ...</td>\n",
       "      <td>59023</td>\n",
       "      <td>Bianca</td>\n",
       "      <td>Manhattan</td>\n",
       "      <td>Lower East Side</td>\n",
       "      <td>40.72207</td>\n",
       "      <td>-73.98976</td>\n",
       "      <td>Private room</td>\n",
       "      <td>120</td>\n",
       "      <td>5</td>\n",
       "      <td>22</td>\n",
       "      <td>2023-05-14</td>\n",
       "      <td>0.14</td>\n",
       "      <td>1</td>\n",
       "      <td>268</td>\n",
       "      <td>3</td>\n",
       "      <td>NaN</td>\n",
       "    </tr>\n",
       "    <tr>\n",
       "      <th>3</th>\n",
       "      <td>5136</td>\n",
       "      <td>Rental unit in Brooklyn · ★5.0 · 2 bedrooms · ...</td>\n",
       "      <td>7378</td>\n",
       "      <td>Rebecca</td>\n",
       "      <td>Brooklyn</td>\n",
       "      <td>Sunset Park</td>\n",
       "      <td>40.66265</td>\n",
       "      <td>-73.99454</td>\n",
       "      <td>Entire home/apt</td>\n",
       "      <td>276</td>\n",
       "      <td>21</td>\n",
       "      <td>3</td>\n",
       "      <td>2022-08-10</td>\n",
       "      <td>0.03</td>\n",
       "      <td>1</td>\n",
       "      <td>275</td>\n",
       "      <td>1</td>\n",
       "      <td>NaN</td>\n",
       "    </tr>\n",
       "    <tr>\n",
       "      <th>4</th>\n",
       "      <td>59709</td>\n",
       "      <td>Rental unit in New York · ★4.77 · 2 bedrooms ·...</td>\n",
       "      <td>186084</td>\n",
       "      <td>Ricardo &amp; Ashlie</td>\n",
       "      <td>Manhattan</td>\n",
       "      <td>Chinatown</td>\n",
       "      <td>40.71780</td>\n",
       "      <td>-73.99320</td>\n",
       "      <td>Entire home/apt</td>\n",
       "      <td>325</td>\n",
       "      <td>7</td>\n",
       "      <td>69</td>\n",
       "      <td>2023-04-28</td>\n",
       "      <td>0.47</td>\n",
       "      <td>1</td>\n",
       "      <td>38</td>\n",
       "      <td>23</td>\n",
       "      <td>NaN</td>\n",
       "    </tr>\n",
       "  </tbody>\n",
       "</table>\n",
       "</div>"
      ],
      "text/plain": [
       "      id                                               name  host_id  \\\n",
       "0   5121  Rental unit in Brooklyn · ★4.52 · 1 bedroom · ...     7356   \n",
       "1   2595  Rental unit in New York · ★4.68 · Studio · 1 b...     2845   \n",
       "2  14991  Rental unit in New York · ★4.93 · 1 bedroom · ...    59023   \n",
       "3   5136  Rental unit in Brooklyn · ★5.0 · 2 bedrooms · ...     7378   \n",
       "4  59709  Rental unit in New York · ★4.77 · 2 bedrooms ·...   186084   \n",
       "\n",
       "          host_name neighbourhood_group       neighbourhood  latitude  \\\n",
       "0             Garon            Brooklyn  Bedford-Stuyvesant  40.68535   \n",
       "1          Jennifer           Manhattan             Midtown  40.75356   \n",
       "2            Bianca           Manhattan     Lower East Side  40.72207   \n",
       "3           Rebecca            Brooklyn         Sunset Park  40.66265   \n",
       "4  Ricardo & Ashlie           Manhattan           Chinatown  40.71780   \n",
       "\n",
       "   longitude        room_type  price  minimum_nights  number_of_reviews  \\\n",
       "0  -73.95512     Private room     60              30                 50   \n",
       "1  -73.98559  Entire home/apt    240              30                 49   \n",
       "2  -73.98976     Private room    120               5                 22   \n",
       "3  -73.99454  Entire home/apt    276              21                  3   \n",
       "4  -73.99320  Entire home/apt    325               7                 69   \n",
       "\n",
       "  last_review  reviews_per_month  calculated_host_listings_count  \\\n",
       "0  2019-12-02               0.29                               2   \n",
       "1  2022-06-21               0.30                               3   \n",
       "2  2023-05-14               0.14                               1   \n",
       "3  2022-08-10               0.03                               1   \n",
       "4  2023-04-28               0.47                               1   \n",
       "\n",
       "   availability_365  number_of_reviews_ltm  license  \n",
       "0                 0                      0      NaN  \n",
       "1               325                      1      NaN  \n",
       "2               268                      3      NaN  \n",
       "3               275                      1      NaN  \n",
       "4                38                     23      NaN  "
      ]
     },
     "execution_count": 248,
     "metadata": {},
     "output_type": "execute_result"
    }
   ],
   "source": [
    "pred1.head()"
   ]
  },
  {
   "cell_type": "code",
   "execution_count": 249,
   "id": "a4b204a5",
   "metadata": {},
   "outputs": [],
   "source": [
    "pred1.drop(['license'], inplace=True, axis=1)\n"
   ]
  },
  {
   "cell_type": "code",
   "execution_count": 250,
   "id": "2af18492",
   "metadata": {},
   "outputs": [
    {
     "data": {
      "text/plain": [
       "id                                    0\n",
       "name                                  0\n",
       "host_id                               0\n",
       "host_name                             5\n",
       "neighbourhood_group                   0\n",
       "neighbourhood                         0\n",
       "latitude                              0\n",
       "longitude                             0\n",
       "room_type                             0\n",
       "price                                 0\n",
       "minimum_nights                        0\n",
       "number_of_reviews                     0\n",
       "last_review                       10496\n",
       "reviews_per_month                     0\n",
       "calculated_host_listings_count        0\n",
       "availability_365                      0\n",
       "number_of_reviews_ltm                 0\n",
       "dtype: int64"
      ]
     },
     "execution_count": 250,
     "metadata": {},
     "output_type": "execute_result"
    }
   ],
   "source": [
    "pred1.isnull().sum()"
   ]
  },
  {
   "cell_type": "code",
   "execution_count": 256,
   "id": "2513a439",
   "metadata": {},
   "outputs": [],
   "source": [
    "pred1.drop(['name', 'host_name','id','last_review'], inplace=True, axis=1)"
   ]
  },
  {
   "cell_type": "code",
   "execution_count": 257,
   "id": "efa26a73",
   "metadata": {},
   "outputs": [],
   "source": [
    "le = preprocessing.LabelEncoder()\n",
    "\n",
    "le.fit(pred1['neighbourhood_group'])\n",
    "pred1['neighbourhood_group']=le.transform(pred1['neighbourhood_group'])\n",
    "\n",
    "le.fit(pred1['neighbourhood'])\n",
    "pred1['neighbourhood']=le.transform(pred1['neighbourhood'])\n",
    "\n",
    "le.fit(pred1['room_type'])\n",
    "pred1['room_type']=le.transform(pred1['room_type'])"
   ]
  },
  {
   "cell_type": "code",
   "execution_count": 258,
   "id": "3c26d5a3",
   "metadata": {},
   "outputs": [],
   "source": [
    "pred1.sort_values('price', ascending=True, inplace=True)\n"
   ]
  },
  {
   "cell_type": "code",
   "execution_count": 259,
   "id": "a1ff3d2f",
   "metadata": {},
   "outputs": [],
   "source": [
    "pred1 = pred1[11:-6]\n"
   ]
  },
  {
   "cell_type": "code",
   "execution_count": 260,
   "id": "2d9385b8",
   "metadata": {},
   "outputs": [],
   "source": [
    "lm = LinearRegression()\n"
   ]
  },
  {
   "cell_type": "code",
   "execution_count": 261,
   "id": "63fbad19",
   "metadata": {},
   "outputs": [
    {
     "data": {
      "text/plain": [
       "LinearRegression()"
      ]
     },
     "execution_count": 261,
     "metadata": {},
     "output_type": "execute_result"
    }
   ],
   "source": [
    "X1 = pred1.drop(['price', 'longitude'], inplace=False, axis=1)\n",
    "y1 = pred1['price']\n",
    "\n",
    "X_train1, X_test1, y_train1, y_test1 = train_test_split(X1, y1, test_size=0.2, random_state=101)\n",
    "\n",
    "lm.fit(X_train1, y_train1)"
   ]
  },
  {
   "cell_type": "code",
   "execution_count": 262,
   "id": "4d513ee7",
   "metadata": {},
   "outputs": [],
   "source": [
    "predictions1 = lm.predict(X_test1)"
   ]
  },
  {
   "cell_type": "code",
   "execution_count": 263,
   "id": "84071b4d",
   "metadata": {},
   "outputs": [
    {
     "name": "stdout",
     "output_type": "stream",
     "text": [
      "MAE (Mean Absolute Error): 136.87116553807402\n",
      "MSE (Mean Squared Error): 140295.98007869557\n",
      "RMSE (Root mean squared error): 374.561049868637\n",
      "R2 score: 0.04842477727660155\n"
     ]
    }
   ],
   "source": [
    "mae1 = metrics.mean_absolute_error(y_test1, predictions1)\n",
    "mse1 = metrics.mean_squared_error(y_test1, predictions1)\n",
    "rmse1 = np.sqrt(metrics.mean_squared_error(y_test1, predictions1))\n",
    "r21 = metrics.r2_score(y_test1, predictions1)\n",
    "\n",
    "print('MAE (Mean Absolute Error): %s' %mae1)\n",
    "print('MSE (Mean Squared Error): %s' %mse1)\n",
    "print('RMSE (Root mean squared error): %s' %rmse1)\n",
    "print('R2 score: %s' %r21)"
   ]
  },
  {
   "cell_type": "code",
   "execution_count": 264,
   "id": "4c4ab02d",
   "metadata": {},
   "outputs": [
    {
     "data": {
      "text/html": [
       "<div>\n",
       "<style scoped>\n",
       "    .dataframe tbody tr th:only-of-type {\n",
       "        vertical-align: middle;\n",
       "    }\n",
       "\n",
       "    .dataframe tbody tr th {\n",
       "        vertical-align: top;\n",
       "    }\n",
       "\n",
       "    .dataframe thead th {\n",
       "        text-align: right;\n",
       "    }\n",
       "</style>\n",
       "<table border=\"1\" class=\"dataframe\">\n",
       "  <thead>\n",
       "    <tr style=\"text-align: right;\">\n",
       "      <th></th>\n",
       "      <th>Actual Values</th>\n",
       "      <th>Predicted Values</th>\n",
       "    </tr>\n",
       "  </thead>\n",
       "  <tbody>\n",
       "    <tr>\n",
       "      <th>0</th>\n",
       "      <td>150</td>\n",
       "      <td>237.585106</td>\n",
       "    </tr>\n",
       "    <tr>\n",
       "      <th>1</th>\n",
       "      <td>74</td>\n",
       "      <td>209.840166</td>\n",
       "    </tr>\n",
       "    <tr>\n",
       "      <th>2</th>\n",
       "      <td>200</td>\n",
       "      <td>244.373517</td>\n",
       "    </tr>\n",
       "    <tr>\n",
       "      <th>3</th>\n",
       "      <td>326</td>\n",
       "      <td>491.033811</td>\n",
       "    </tr>\n",
       "    <tr>\n",
       "      <th>4</th>\n",
       "      <td>203</td>\n",
       "      <td>220.359254</td>\n",
       "    </tr>\n",
       "    <tr>\n",
       "      <th>5</th>\n",
       "      <td>75</td>\n",
       "      <td>120.560752</td>\n",
       "    </tr>\n",
       "    <tr>\n",
       "      <th>6</th>\n",
       "      <td>50</td>\n",
       "      <td>68.678976</td>\n",
       "    </tr>\n",
       "    <tr>\n",
       "      <th>7</th>\n",
       "      <td>119</td>\n",
       "      <td>300.164816</td>\n",
       "    </tr>\n",
       "    <tr>\n",
       "      <th>8</th>\n",
       "      <td>120</td>\n",
       "      <td>288.584833</td>\n",
       "    </tr>\n",
       "    <tr>\n",
       "      <th>9</th>\n",
       "      <td>74</td>\n",
       "      <td>117.187022</td>\n",
       "    </tr>\n",
       "    <tr>\n",
       "      <th>10</th>\n",
       "      <td>51</td>\n",
       "      <td>209.675821</td>\n",
       "    </tr>\n",
       "    <tr>\n",
       "      <th>11</th>\n",
       "      <td>64</td>\n",
       "      <td>132.044144</td>\n",
       "    </tr>\n",
       "    <tr>\n",
       "      <th>12</th>\n",
       "      <td>450</td>\n",
       "      <td>249.914327</td>\n",
       "    </tr>\n",
       "    <tr>\n",
       "      <th>13</th>\n",
       "      <td>84</td>\n",
       "      <td>98.570656</td>\n",
       "    </tr>\n",
       "    <tr>\n",
       "      <th>14</th>\n",
       "      <td>226</td>\n",
       "      <td>63.425202</td>\n",
       "    </tr>\n",
       "    <tr>\n",
       "      <th>15</th>\n",
       "      <td>85</td>\n",
       "      <td>114.347129</td>\n",
       "    </tr>\n",
       "    <tr>\n",
       "      <th>16</th>\n",
       "      <td>115</td>\n",
       "      <td>214.204663</td>\n",
       "    </tr>\n",
       "    <tr>\n",
       "      <th>17</th>\n",
       "      <td>40</td>\n",
       "      <td>154.839749</td>\n",
       "    </tr>\n",
       "    <tr>\n",
       "      <th>18</th>\n",
       "      <td>150</td>\n",
       "      <td>216.734381</td>\n",
       "    </tr>\n",
       "    <tr>\n",
       "      <th>19</th>\n",
       "      <td>85</td>\n",
       "      <td>258.416795</td>\n",
       "    </tr>\n",
       "  </tbody>\n",
       "</table>\n",
       "</div>"
      ],
      "text/plain": [
       "    Actual Values  Predicted Values\n",
       "0             150        237.585106\n",
       "1              74        209.840166\n",
       "2             200        244.373517\n",
       "3             326        491.033811\n",
       "4             203        220.359254\n",
       "5              75        120.560752\n",
       "6              50         68.678976\n",
       "7             119        300.164816\n",
       "8             120        288.584833\n",
       "9              74        117.187022\n",
       "10             51        209.675821\n",
       "11             64        132.044144\n",
       "12            450        249.914327\n",
       "13             84         98.570656\n",
       "14            226         63.425202\n",
       "15             85        114.347129\n",
       "16            115        214.204663\n",
       "17             40        154.839749\n",
       "18            150        216.734381\n",
       "19             85        258.416795"
      ]
     },
     "execution_count": 264,
     "metadata": {},
     "output_type": "execute_result"
    }
   ],
   "source": [
    "error1 = pd.DataFrame({'Actual Values': np.array(y_test1).flatten(), 'Predicted Values': predictions1.flatten()})\n",
    "error1.head(20)"
   ]
  },
  {
   "cell_type": "code",
   "execution_count": 265,
   "id": "01d56010",
   "metadata": {},
   "outputs": [
    {
     "data": {
      "text/plain": [
       "Text(0, 0.5, 'Test')"
      ]
     },
     "execution_count": 265,
     "metadata": {},
     "output_type": "execute_result"
    },
    {
     "data": {
      "image/png": "[encoded data removed]",
      "text/plain": [
       "<Figure size 1080x504 with 1 Axes>"
      ]
     },
     "metadata": {
      "needs_background": "light"
     },
     "output_type": "display_data"
    }
   ],
   "source": [
    "plt.figure(figsize=(15,7))\n",
    "plt.xlim(-10,350)\n",
    "sns.regplot(y=y_test1, x=predictions1, color='blue')\n",
    "plt.title('Evaluated predictions', fontsize=15)\n",
    "plt.xlabel('Predictions')\n",
    "plt.ylabel('Test')"
   ]
  },
  {
   "cell_type": "code",
   "execution_count": 267,
   "id": "132ec58d",
   "metadata": {},
   "outputs": [
    {
     "name": "stdout",
     "output_type": "stream",
     "text": [
      "MAE (Mean Absolute Error): 58.614096776263665\n",
      "MSE (Mean Squared Error): 6577.082606111642\n",
      "RMSE (Root mean squared error): 81.09921458381481\n",
      "R2 score: 0.354382833460982\n",
      "   Neighbourhood Group  Predicted Values  Actual Values\n",
      "0            Manhattan        237.585106            150\n",
      "1               Queens        209.840166             74\n",
      "2               Queens        244.373517            200\n",
      "3            Manhattan        491.033811            326\n",
      "4               Queens        220.359254            203\n",
      "5               Queens        120.560752             75\n",
      "6               Queens         68.678976             50\n",
      "7               Queens        300.164816            119\n",
      "8            Manhattan        288.584833            120\n",
      "9               Queens        117.187022             74\n",
      "10           Manhattan        209.675821             51\n",
      "11              Queens        132.044144             64\n",
      "12              Queens        249.914327            450\n",
      "13              Queens         98.570656             84\n",
      "14           Manhattan         63.425202            226\n",
      "15           Manhattan        114.347129             85\n",
      "16              Queens        214.204663            115\n",
      "17              Queens        154.839749             40\n",
      "18              Queens        216.734381            150\n",
      "19              Queens        258.416795             85\n",
      "20              Queens         63.060632             65\n",
      "21              Queens        360.875280            400\n",
      "22              Queens        217.910030            163\n",
      "23              Queens        387.531186            158\n",
      "24              Queens        303.335458             70\n",
      "25              Queens        286.880740            225\n",
      "26              Queens        260.326455           2499\n",
      "27              Queens        111.742399             54\n",
      "28              Queens        137.162559             50\n",
      "29              Queens        253.995510            450\n",
      "30           Manhattan        236.169731            313\n",
      "31              Queens        127.521787             60\n",
      "32           Manhattan        112.103644             50\n",
      "33              Queens        309.100304            280\n",
      "34              Queens        133.626781            150\n",
      "35           Manhattan        195.656497            119\n",
      "36            Brooklyn        256.044178            130\n",
      "37           Manhattan        162.258641             78\n",
      "38              Queens        235.910756            325\n",
      "39           Manhattan         98.392534            100\n",
      "40            Brooklyn        167.534954             93\n",
      "41           Manhattan        377.278450            215\n",
      "42           Manhattan        304.378265            576\n",
      "43              Queens        264.038983            294\n",
      "44           Manhattan         74.836124            105\n",
      "45              Queens         95.986151            130\n",
      "46           Manhattan        202.173619            229\n",
      "47           Manhattan        238.475033             54\n",
      "48              Queens        179.579343             61\n",
      "49           Manhattan        134.843027            105\n"
     ]
    }
   ],
   "source": [
    "# ... (Your existing code for label encoding, training, and predicting)\n",
    "\n",
    "# Reverse label encoding for the 'neighbourhood_group' column\n",
    "inverse_neighbourhood_group = {label: group for group, label in zip(le.classes_, le.transform(le.classes_))}\n",
    "error1['Neighbourhood Group'] = pred1['neighbourhood_group'].map(inverse_neighbourhood_group)\n",
    "\n",
    "# Create a dictionary to map the encoded neighbourhood_group back to their original names\n",
    "neighbourhood_group_mapping = {\n",
    "    0: 'Brooklyn',\n",
    "    1: 'Manhattan',\n",
    "    2: 'Queens',\n",
    "    3: 'Staten Island',\n",
    "    4: 'Bronx'\n",
    "}\n",
    "\n",
    "# Replace the encoded neighbourhood_group with their original names in the DataFrame\n",
    "error1['Neighbourhood Group'] = error1['Neighbourhood Group'].map(neighbourhood_group_mapping)\n",
    "\n",
    "# Display the evaluation metrics\n",
    "print('MAE (Mean Absolute Error): %s' % mae)\n",
    "print('MSE (Mean Squared Error): %s' % mse)\n",
    "print('RMSE (Root mean squared error): %s' % rmse)\n",
    "print('R2 score: %s' % r2)\n",
    "\n",
    "# Display the error DataFrame with predicted and actual values, along with the corresponding neighbourhood_group\n",
    "print(error1[['Neighbourhood Group', 'Predicted Values', 'Actual Values']].head(50))\n"
   ]
  },
  {
   "cell_type": "code",
   "execution_count": 268,
   "id": "6ee57870",
   "metadata": {},
   "outputs": [
    {
     "name": "stdout",
     "output_type": "stream",
     "text": [
      "Random Forest Regression Metrics:\n",
      "MAE: 44.89202583131459\n",
      "MSE: 4396.187523042184\n",
      "RMSE: 66.30375195297913\n",
      "R2 score: 0.5684630554034278\n"
     ]
    }
   ],
   "source": [
    "from sklearn.ensemble import RandomForestRegressor\n",
    "\n",
    "# Assuming you have already processed the data and created X_train, X_test, y_train, y_test\n",
    "\n",
    "# Create and train the Random Forest Regression model\n",
    "rf_model = RandomForestRegressor(n_estimators=100, random_state=101)\n",
    "rf_model.fit(X_train, y_train)\n",
    "\n",
    "# Make predictions using the trained model\n",
    "rf_predictions = rf_model.predict(X_test)\n",
    "\n",
    "# Calculate evaluation metrics\n",
    "rf_mae = metrics.mean_absolute_error(y_test, rf_predictions)\n",
    "rf_mse = metrics.mean_squared_error(y_test, rf_predictions)\n",
    "rf_rmse = np.sqrt(metrics.mean_squared_error(y_test, rf_predictions))\n",
    "rf_r2 = metrics.r2_score(y_test, rf_predictions)\n",
    "\n",
    "# Display the evaluation metrics for Random Forest Regression\n",
    "print('Random Forest Regression Metrics:')\n",
    "print('MAE: %s' % rf_mae)\n",
    "print('MSE: %s' % rf_mse)\n",
    "print('RMSE: %s' % rf_rmse)\n",
    "print('R2 score: %s' % rf_r2)\n"
   ]
  },
  {
   "cell_type": "code",
   "execution_count": 269,
   "id": "ef2afe24",
   "metadata": {},
   "outputs": [
    {
     "name": "stdout",
     "output_type": "stream",
     "text": [
      "       Actual Prices  Predicted Prices\n",
      "32780             38             68.95\n",
      "22502            108            150.94\n",
      "140               84            168.90\n",
      "2465              85             92.69\n",
      "17345            159            261.84\n",
      "37171            125            101.06\n",
      "20528            474            480.97\n",
      "5499              70            102.66\n",
      "36709            103            157.04\n",
      "3101              47             83.93\n",
      "3073             153            265.52\n",
      "15045            185            168.78\n",
      "15802             99            186.46\n",
      "11208             75             73.17\n",
      "8652              95             93.00\n",
      "33544            191            250.63\n",
      "32653            195            311.09\n",
      "14880             32             34.08\n",
      "3964             125            184.51\n",
      "11396             32             61.45\n"
     ]
    }
   ],
   "source": [
    "rf_predictions = rf_model.predict(X_test)\n",
    "\n",
    "# Create a DataFrame to store actual and predicted prices\n",
    "comparison_df = pd.DataFrame({'Actual Prices': y_test, 'Predicted Prices': rf_predictions})\n",
    "\n",
    "# Display the first few rows of the DataFrame\n",
    "print(comparison_df.head(20))\n",
    "\n"
   ]
  },
  {
   "cell_type": "code",
   "execution_count": 270,
   "id": "e7819e9c",
   "metadata": {},
   "outputs": [
    {
     "data": {
      "image/png": "[encoded data removed]",
      "text/plain": [
       "<Figure size 432x288 with 1 Axes>"
      ]
     },
     "metadata": {
      "needs_background": "light"
     },
     "output_type": "display_data"
    }
   ],
   "source": [
    "# Create a scatter plot to compare the actual vs. predicted prices\n",
    "plt.scatter(y_test, rf_predictions, alpha=0.5)\n",
    "plt.xlabel('Actual Prices')\n",
    "plt.ylabel('Predicted Prices')\n",
    "plt.title('Actual Prices vs. Predicted Prices (Random Forest Regression)')\n",
    "plt.show()"
   ]
  },
  {
   "cell_type": "code",
   "execution_count": 271,
   "id": "7abfd06f",
   "metadata": {},
   "outputs": [
    {
     "name": "stdout",
     "output_type": "stream",
     "text": [
      "Mean Absolute Error (MAE): 46.17613422157914\n",
      "Mean Squared Error (MSE): 4471.626134773453\n",
      "Root Mean Squared Error (RMSE): 66.87021859373164\n",
      "R-squared (R2) Score: 0.5610578781127669\n"
     ]
    }
   ],
   "source": [
    "import xgboost as xgb\n",
    "from sklearn.metrics import mean_absolute_error, mean_squared_error, r2_score\n",
    "\n",
    "# Assuming you have the features in X and the target variable (price) in y\n",
    "# Replace 'X' and 'y' with your actual feature matrix and target variable\n",
    "\n",
    "# Split the data into training and testing sets\n",
    "X_train, X_test, y_train, y_test = train_test_split(X, y, test_size=0.2, random_state=101)\n",
    "\n",
    "# Create the XGBoost regressor model\n",
    "xgb_model = xgb.XGBRegressor()\n",
    "\n",
    "# Train the model on the training data\n",
    "xgb_model.fit(X_train, y_train)\n",
    "\n",
    "# Make predictions using the model on the test data\n",
    "predictions = xgb_model.predict(X_test)\n",
    "\n",
    "# Calculate evaluation metrics\n",
    "mae = mean_absolute_error(y_test, predictions)\n",
    "mse = mean_squared_error(y_test, predictions)\n",
    "rmse = np.sqrt(mse)\n",
    "r2 = r2_score(y_test, predictions)\n",
    "\n",
    "# Display the evaluation metrics\n",
    "print('Mean Absolute Error (MAE):', mae)\n",
    "print('Mean Squared Error (MSE):', mse)\n",
    "print('Root Mean Squared Error (RMSE):', rmse)\n",
    "print('R-squared (R2) Score:', r2)\n"
   ]
  },
  {
   "cell_type": "code",
   "execution_count": null,
   "id": "353273fc",
   "metadata": {},
   "outputs": [],
   "source": []
  }
 ],
 "metadata": {
  "kernelspec": {
   "display_name": "Python 3 (ipykernel)",
   "language": "python",
   "name": "python3"
  },
  "language_info": {
   "codemirror_mode": {
    "name": "ipython",
    "version": 3
   },
   "file_extension": ".py",
   "mimetype": "text/x-python",
   "name": "python",
   "nbconvert_exporter": "python",
   "pygments_lexer": "ipython3",
   "version": "3.9.7"
  }
 },
 "nbformat": 4,
 "nbformat_minor": 5
}
